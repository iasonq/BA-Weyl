{
 "metadata": {
  "language_info": {
   "codemirror_mode": {
    "name": "ipython",
    "version": 3
   },
   "file_extension": ".py",
   "mimetype": "text/x-python",
   "name": "python",
   "nbconvert_exporter": "python",
   "pygments_lexer": "ipython3",
   "version": "3.8.8"
  },
  "orig_nbformat": 4,
  "kernelspec": {
   "name": "python3",
   "display_name": "Python 3.8.8 64-bit ('gp-env': conda)"
  },
  "interpreter": {
   "hash": "3aff35d366b980e568cc03d2d00c83eac08dd05ed9a824e247edc85e357eb300"
  }
 },
 "nbformat": 4,
 "nbformat_minor": 2,
 "cells": [
  {
   "cell_type": "code",
   "execution_count": 1,
   "metadata": {},
   "outputs": [],
   "source": [
    "\n",
    "import numpy as np \n",
    "import sympy as sp \n",
    "import matplotlib.pyplot as plt \n",
    "from functions import *\n",
    "from independent_functions import *\n"
   ]
  },
  {
   "cell_type": "code",
   "execution_count": 2,
   "metadata": {},
   "outputs": [],
   "source": [
    "t, x, y, z, c = sp.symbols(\"t x y z c\")\n",
    "\n",
    "u1 = sp.Function(\"u_1\")(t, x, y, z)\n",
    "u2 = sp.Function(\"u_2\")(t, x, y, z)\n",
    "w1 = sp.Function(\"w_1\")(t, x, y, z)\n",
    "w2 = sp.Function(\"w_2\")(t, x, y, z)\n",
    "\n",
    "#these are the ξ^i basically\n",
    "τ = sp.Function(\"τ\")(t, x, y, z, u1, u2, w1, w2)\n",
    "ξ = sp.Function(\"ξ\")(t, x, y, z, u1, u2, w1, w2)\n",
    "γ = sp.Function(\"γ\")(t, x, y, z, u1, u2, w1, w2)\n",
    "ζ = sp.Function(\"ζ\")(t, x, y, z, u1, u2, w1, w2)\n",
    "\n",
    "#these are the u^a basically\n",
    "φ = sp.Function(\"φ\")(t, x, y, z, u1, u2, w1, w2)\n",
    "χ = sp.Function(\"χ\")(t, x, y, z, u1, u2, w1, w2)\n",
    "ψ = sp.Function(\"ψ\")(t, x, y, z, u1, u2, w1, w2)\n",
    "ω = sp.Function(\"ω\")(t, x, y, z, u1, u2, w1, w2)"
   ]
  },
  {
   "cell_type": "code",
   "execution_count": 3,
   "metadata": {},
   "outputs": [],
   "source": [
    "\n",
    "lvar = sp.Matrix([t, x, y, z])\n",
    "lwlf = sp.Matrix([u1, u2, w1, w2])\n",
    "lfn1 = sp.Matrix([τ, ξ, γ, ζ])\n",
    "lfn2 = sp.Matrix([φ, χ, ψ, ω])\n",
    "#In our case it correlated with lvar, because we only have derivatives of the first order\n",
    "ders = sp.Matrix([t, x, y, z])"
   ]
  },
  {
   "cell_type": "code",
   "execution_count": 4,
   "metadata": {},
   "outputs": [
    {
     "output_type": "execute_result",
     "data": {
      "text/plain": [
       "array([[u_1t, u_1x, u_1y, u_1z],\n",
       "       [u_2t, u_2x, u_2y, u_2z],\n",
       "       [w_1t, w_1x, w_1y, w_1z],\n",
       "       [w_2t, w_2x, w_2y, w_2z]], dtype=object)"
      ]
     },
     "metadata": {},
     "execution_count": 4
    }
   ],
   "source": [
    "sym1 = symbols_1()\n",
    "sym1"
   ]
  },
  {
   "cell_type": "code",
   "execution_count": 5,
   "metadata": {},
   "outputs": [
    {
     "output_type": "execute_result",
     "data": {
      "text/plain": [
       "array([[τ_t, τ_x, τ_y, τ_z, τ_u1, τ_u2, τ_w1, τ_w2],\n",
       "       [ξ_t, ξ_x, ξ_y, ξ_z, ξ_u1, ξ_u2, ξ_w1, ξ_w2],\n",
       "       [γ_t, γ_x, γ_y, γ_z, γ_u1, γ_u2, γ_w1, γ_w2],\n",
       "       [ζ_t, ζ_x, ζ_y, ζ_z, ζ_u1, ζ_u2, ζ_w1, ζ_w2],\n",
       "       [φ_t, φ_x, φ_y, φ_z, φ_u1, φ_u2, φ_w1, φ_w2],\n",
       "       [χ_t, χ_x, χ_y, χ_z, χ_u1, χ_u2, χ_w1, χ_w2],\n",
       "       [ψ_t, ψ_x, ψ_y, ψ_z, ψ_u1, ψ_u2, ψ_w1, ψ_w2],\n",
       "       [ω_t, ω_x, ω_y, ω_z, ω_u1, ω_u2, ω_w1, ω_w2]], dtype=object)"
      ]
     },
     "metadata": {},
     "execution_count": 5
    }
   ],
   "source": [
    "sym2 = symbols_2()\n",
    "sym2"
   ]
  },
  {
   "cell_type": "code",
   "execution_count": 6,
   "metadata": {},
   "outputs": [
    {
     "output_type": "execute_result",
     "data": {
      "text/plain": [
       "Matrix([\n",
       "[u_1(t, x, y, z) + I*w_1(t, x, y, z)],\n",
       "[u_2(t, x, y, z) + I*w_2(t, x, y, z)]])"
      ],
      "text/latex": "$\\displaystyle \\left[\\begin{matrix}\\operatorname{u_{1}}{\\left(t,x,y,z \\right)} + i \\operatorname{w_{1}}{\\left(t,x,y,z \\right)}\\\\\\operatorname{u_{2}}{\\left(t,x,y,z \\right)} + i \\operatorname{w_{2}}{\\left(t,x,y,z \\right)}\\end{matrix}\\right]$"
     },
     "metadata": {},
     "execution_count": 6
    }
   ],
   "source": [
    "sp.Matrix([[u1 + sp.I*w1], [u2 + sp.I*w2] ])"
   ]
  },
  {
   "cell_type": "code",
   "execution_count": 7,
   "metadata": {},
   "outputs": [
    {
     "output_type": "execute_result",
     "data": {
      "text/plain": [
       "Matrix([\n",
       "[u_1t + u_1z + u_2x + I*w_1t + I*w_1z + I*w_2x - I*(u_2y + I*w_2y)],\n",
       "[u_1x + u_2t - u_2z + I*w_1x + I*w_2t - I*w_2z + I*(u_1y + I*w_1y)]])"
      ],
      "text/latex": "$\\displaystyle \\left[\\begin{matrix}u_{1t} + u_{1z} + u_{2x} + i w_{1t} + i w_{1z} + i w_{2x} - i \\left(u_{2y} + i w_{2y}\\right)\\\\u_{1x} + u_{2t} - u_{2z} + i w_{1x} + i w_{2t} - i w_{2z} + i \\left(u_{1y} + i w_{1y}\\right)\\end{matrix}\\right]$"
     },
     "metadata": {},
     "execution_count": 7
    }
   ],
   "source": [
    "weyl = subs_it(weyl_eq())\n",
    "weyl"
   ]
  },
  {
   "cell_type": "code",
   "execution_count": 8,
   "metadata": {},
   "outputs": [],
   "source": [
    "weyl0 = subs_it(weyl[0])\n",
    "weyl1 = subs_it(weyl[1])"
   ]
  },
  {
   "source": [
    "--------------------EQUATION 1--------------------"
   ],
   "cell_type": "markdown",
   "metadata": {}
  },
  {
   "cell_type": "code",
   "execution_count": 9,
   "metadata": {},
   "outputs": [
    {
     "output_type": "execute_result",
     "data": {
      "text/plain": [
       "u_1t + u_1z + u_2x + w_2y"
      ],
      "text/latex": "$\\displaystyle u_{1t} + u_{1z} + u_{2x} + w_{2y}$"
     },
     "metadata": {},
     "execution_count": 9
    }
   ],
   "source": [
    "eq1 = sp.simplify(weyl0).subs({sp.I:0})\n",
    "eq1"
   ]
  },
  {
   "cell_type": "code",
   "execution_count": 10,
   "metadata": {},
   "outputs": [],
   "source": [
    "pr1a = pr1(φ, u1, t)\n",
    "pr1b = pr1(φ, u1, z)\n",
    "pr1c = pr1(χ, u2, x)\n",
    "pr1d = pr1(ω, w2, y)"
   ]
  },
  {
   "cell_type": "code",
   "execution_count": 11,
   "metadata": {},
   "outputs": [
    {
     "output_type": "execute_result",
     "data": {
      "text/plain": [
       "u_1x**2*ξ_u2 + u_1x**2*τ_u1 + u_1x*u_1y*γ_u2 + u_1x*u_1y*ξ_w2 + u_1x*u_1z*ζ_u2 - u_1x*u_1z*τ_u2 - u_1x*u_2y*γ_u1 - u_1x*u_2y*ξ_w1 - u_1x*u_2z*ζ_u1 - 2*u_1x*u_2z*ξ_u2 - u_1x*u_2z*τ_u1 + u_1x*w_1x*ξ_w2 + u_1x*w_1x*τ_w1 - u_1x*w_1y*ξ_u2 - u_1x*w_1y*τ_u1 + u_1x*w_2x*ξ_w1 + u_1x*w_2x*τ_w2 + u_1x*w_2y*ξ_u1 - u_1x*w_2y*τ_u2 - 2*u_1x*w_2z*ξ_w2 - u_1x*φ_u2 + u_1x*χ_u1 - u_1x*Derivative(ξ(t, x, y, z, u_1, u_2, w_1, w_2), t) - u_1x*Derivative(ξ(t, x, y, z, u_1, u_2, w_1, w_2), z) + u_1x*Derivative(τ(t, x, y, z, u_1, u_2, w_1, w_2), x) + u_1y**2*γ_w2 + u_1y**2*τ_u1 + u_1y*u_1z*ζ_w2 - u_1y*u_1z*τ_w2 + u_1y*u_2x*γ_u1 - u_1y*u_2x*τ_w2 - u_1y*u_2y*γ_w1 + u_1y*u_2y*τ_u2 - 2*u_1y*u_2z*γ_u2 + u_1y*w_1x*γ_w2 + u_1y*w_1x*τ_u1 - u_1y*w_1y*γ_u2 + u_1y*w_1y*τ_w1 + u_1y*w_2x*γ_w1 - u_1y*w_2x*ξ_u1 - 2*u_1y*w_2z*γ_w2 - u_1y*w_2z*ζ_u1 - u_1y*w_2z*τ_u1 - u_1y*φ_w2 + u_1y*ω_u1 - u_1y*Derivative(γ(t, x, y, z, u_1, u_2, w_1, w_2), t) - u_1y*Derivative(γ(t, x, y, z, u_1, u_2, w_1, w_2), z) + u_1y*Derivative(τ(t, x, y, z, u_1, u_2, w_1, w_2), y) + u_1z*u_2x*ζ_u1 - u_1z*u_2x*τ_u1 - u_1z*u_2y*ζ_w1 + u_1z*u_2y*τ_w1 - 2*u_1z*u_2z*ζ_u2 + 2*u_1z*u_2z*τ_u2 + u_1z*w_1x*ζ_w2 - u_1z*w_1x*τ_w2 - u_1z*w_1y*ζ_u2 + u_1z*w_1y*τ_u2 + u_1z*w_2x*ζ_w1 - u_1z*w_2x*τ_w1 + u_1z*w_2y*ζ_u1 - u_1z*w_2y*τ_u1 - 2*u_1z*w_2z*ζ_w2 + 2*u_1z*w_2z*τ_w2 - u_1z*Derivative(ζ(t, x, y, z, u_1, u_2, w_1, w_2), t) - u_1z*Derivative(ζ(t, x, y, z, u_1, u_2, w_1, w_2), z) + u_1z*Derivative(τ(t, x, y, z, u_1, u_2, w_1, w_2), t) + u_1z*Derivative(τ(t, x, y, z, u_1, u_2, w_1, w_2), z) - u_2x**2*ξ_u2 - u_2x**2*τ_u1 - u_2x*u_2y*γ_u2 + u_2x*u_2y*τ_w1 - u_2x*u_2z*ζ_u2 + u_2x*u_2z*τ_u2 - u_2x*w_1x*ξ_w1 - u_2x*w_1x*τ_w2 - u_2x*w_2x*ξ_w2 - u_2x*w_2x*τ_w1 - 2*u_2x*w_2y*τ_u1 + 2*u_2x*w_2z*τ_w2 - u_2x*φ_u1 + u_2x*χ_u2 - u_2x*Derivative(ξ(t, x, y, z, u_1, u_2, w_1, w_2), x) + u_2x*Derivative(τ(t, x, y, z, u_1, u_2, w_1, w_2), t) + u_2x*Derivative(τ(t, x, y, z, u_1, u_2, w_1, w_2), z) - u_2y*w_1x*γ_w1 + u_2y*w_1x*τ_u2 - u_2y*w_2x*γ_w2 - u_2y*w_2x*ξ_u2 - u_2y*w_2y*γ_u2 + u_2y*w_2y*τ_w1 - u_2y*w_2z*ζ_u2 - u_2y*w_2z*τ_u2 + u_2y*φ_w1 + u_2y*ω_u2 - u_2y*Derivative(γ(t, x, y, z, u_1, u_2, w_1, w_2), x) - u_2z*w_1x*ζ_w1 - u_2z*w_1x*τ_w1 - u_2z*w_2x*ζ_w2 - u_2z*w_2x*τ_w2 + 2*u_2z*w_2y*τ_u2 + 2*u_2z*φ_u2 - u_2z*Derivative(ζ(t, x, y, z, u_1, u_2, w_1, w_2), x) - u_2z*Derivative(τ(t, x, y, z, u_1, u_2, w_1, w_2), x) - w_1x*φ_w2 + w_1x*χ_w1 + w_1x*Derivative(τ(t, x, y, z, u_1, u_2, w_1, w_2), y) - w_1y*w_2x*ξ_w1 - w_1y*w_2x*τ_w2 - w_1y*w_2y*γ_w1 + w_1y*w_2y*τ_u2 - w_1y*w_2z*ζ_w1 - w_1y*w_2z*τ_w1 + w_1y*φ_u2 + w_1y*ω_w1 - w_1y*Derivative(τ(t, x, y, z, u_1, u_2, w_1, w_2), x) - w_2x*w_2y*ξ_w2 - w_2x*w_2y*τ_w1 - w_2x*φ_w1 + w_2x*χ_w2 - w_2x*Derivative(ξ(t, x, y, z, u_1, u_2, w_1, w_2), y) - w_2y**2*γ_w2 - w_2y**2*τ_u1 - w_2y*w_2z*ζ_w2 + w_2y*w_2z*τ_w2 - w_2y*φ_u1 + w_2y*ω_w2 - w_2y*Derivative(γ(t, x, y, z, u_1, u_2, w_1, w_2), y) + w_2y*Derivative(τ(t, x, y, z, u_1, u_2, w_1, w_2), t) + w_2y*Derivative(τ(t, x, y, z, u_1, u_2, w_1, w_2), z) + 2*w_2z*φ_w2 - w_2z*Derivative(ζ(t, x, y, z, u_1, u_2, w_1, w_2), y) - w_2z*Derivative(τ(t, x, y, z, u_1, u_2, w_1, w_2), y) + Derivative(φ(t, x, y, z, u_1, u_2, w_1, w_2), t) + Derivative(φ(t, x, y, z, u_1, u_2, w_1, w_2), z) + Derivative(χ(t, x, y, z, u_1, u_2, w_1, w_2), x) + Derivative(ω(t, x, y, z, u_1, u_2, w_1, w_2), y)"
      ],
      "text/latex": "$\\displaystyle u_{1x}^{2} ξ_{u2} + u_{1x}^{2} τ_{u1} + u_{1x} u_{1y} γ_{u2} + u_{1x} u_{1y} ξ_{w2} + u_{1x} u_{1z} ζ_{u2} - u_{1x} u_{1z} τ_{u2} - u_{1x} u_{2y} γ_{u1} - u_{1x} u_{2y} ξ_{w1} - u_{1x} u_{2z} ζ_{u1} - 2 u_{1x} u_{2z} ξ_{u2} - u_{1x} u_{2z} τ_{u1} + u_{1x} w_{1x} ξ_{w2} + u_{1x} w_{1x} τ_{w1} - u_{1x} w_{1y} ξ_{u2} - u_{1x} w_{1y} τ_{u1} + u_{1x} w_{2x} ξ_{w1} + u_{1x} w_{2x} τ_{w2} + u_{1x} w_{2y} ξ_{u1} - u_{1x} w_{2y} τ_{u2} - 2 u_{1x} w_{2z} ξ_{w2} - u_{1x} φ_{u2} + u_{1x} χ_{u1} - u_{1x} \\frac{\\partial}{\\partial t} ξ{\\left(t,x,y,z,u_{1},u_{2},w_{1},w_{2} \\right)} - u_{1x} \\frac{\\partial}{\\partial z} ξ{\\left(t,x,y,z,u_{1},u_{2},w_{1},w_{2} \\right)} + u_{1x} \\frac{\\partial}{\\partial x} τ{\\left(t,x,y,z,u_{1},u_{2},w_{1},w_{2} \\right)} + u_{1y}^{2} γ_{w2} + u_{1y}^{2} τ_{u1} + u_{1y} u_{1z} ζ_{w2} - u_{1y} u_{1z} τ_{w2} + u_{1y} u_{2x} γ_{u1} - u_{1y} u_{2x} τ_{w2} - u_{1y} u_{2y} γ_{w1} + u_{1y} u_{2y} τ_{u2} - 2 u_{1y} u_{2z} γ_{u2} + u_{1y} w_{1x} γ_{w2} + u_{1y} w_{1x} τ_{u1} - u_{1y} w_{1y} γ_{u2} + u_{1y} w_{1y} τ_{w1} + u_{1y} w_{2x} γ_{w1} - u_{1y} w_{2x} ξ_{u1} - 2 u_{1y} w_{2z} γ_{w2} - u_{1y} w_{2z} ζ_{u1} - u_{1y} w_{2z} τ_{u1} - u_{1y} φ_{w2} + u_{1y} ω_{u1} - u_{1y} \\frac{\\partial}{\\partial t} γ{\\left(t,x,y,z,u_{1},u_{2},w_{1},w_{2} \\right)} - u_{1y} \\frac{\\partial}{\\partial z} γ{\\left(t,x,y,z,u_{1},u_{2},w_{1},w_{2} \\right)} + u_{1y} \\frac{\\partial}{\\partial y} τ{\\left(t,x,y,z,u_{1},u_{2},w_{1},w_{2} \\right)} + u_{1z} u_{2x} ζ_{u1} - u_{1z} u_{2x} τ_{u1} - u_{1z} u_{2y} ζ_{w1} + u_{1z} u_{2y} τ_{w1} - 2 u_{1z} u_{2z} ζ_{u2} + 2 u_{1z} u_{2z} τ_{u2} + u_{1z} w_{1x} ζ_{w2} - u_{1z} w_{1x} τ_{w2} - u_{1z} w_{1y} ζ_{u2} + u_{1z} w_{1y} τ_{u2} + u_{1z} w_{2x} ζ_{w1} - u_{1z} w_{2x} τ_{w1} + u_{1z} w_{2y} ζ_{u1} - u_{1z} w_{2y} τ_{u1} - 2 u_{1z} w_{2z} ζ_{w2} + 2 u_{1z} w_{2z} τ_{w2} - u_{1z} \\frac{\\partial}{\\partial t} ζ{\\left(t,x,y,z,u_{1},u_{2},w_{1},w_{2} \\right)} - u_{1z} \\frac{\\partial}{\\partial z} ζ{\\left(t,x,y,z,u_{1},u_{2},w_{1},w_{2} \\right)} + u_{1z} \\frac{\\partial}{\\partial t} τ{\\left(t,x,y,z,u_{1},u_{2},w_{1},w_{2} \\right)} + u_{1z} \\frac{\\partial}{\\partial z} τ{\\left(t,x,y,z,u_{1},u_{2},w_{1},w_{2} \\right)} - u_{2x}^{2} ξ_{u2} - u_{2x}^{2} τ_{u1} - u_{2x} u_{2y} γ_{u2} + u_{2x} u_{2y} τ_{w1} - u_{2x} u_{2z} ζ_{u2} + u_{2x} u_{2z} τ_{u2} - u_{2x} w_{1x} ξ_{w1} - u_{2x} w_{1x} τ_{w2} - u_{2x} w_{2x} ξ_{w2} - u_{2x} w_{2x} τ_{w1} - 2 u_{2x} w_{2y} τ_{u1} + 2 u_{2x} w_{2z} τ_{w2} - u_{2x} φ_{u1} + u_{2x} χ_{u2} - u_{2x} \\frac{\\partial}{\\partial x} ξ{\\left(t,x,y,z,u_{1},u_{2},w_{1},w_{2} \\right)} + u_{2x} \\frac{\\partial}{\\partial t} τ{\\left(t,x,y,z,u_{1},u_{2},w_{1},w_{2} \\right)} + u_{2x} \\frac{\\partial}{\\partial z} τ{\\left(t,x,y,z,u_{1},u_{2},w_{1},w_{2} \\right)} - u_{2y} w_{1x} γ_{w1} + u_{2y} w_{1x} τ_{u2} - u_{2y} w_{2x} γ_{w2} - u_{2y} w_{2x} ξ_{u2} - u_{2y} w_{2y} γ_{u2} + u_{2y} w_{2y} τ_{w1} - u_{2y} w_{2z} ζ_{u2} - u_{2y} w_{2z} τ_{u2} + u_{2y} φ_{w1} + u_{2y} ω_{u2} - u_{2y} \\frac{\\partial}{\\partial x} γ{\\left(t,x,y,z,u_{1},u_{2},w_{1},w_{2} \\right)} - u_{2z} w_{1x} ζ_{w1} - u_{2z} w_{1x} τ_{w1} - u_{2z} w_{2x} ζ_{w2} - u_{2z} w_{2x} τ_{w2} + 2 u_{2z} w_{2y} τ_{u2} + 2 u_{2z} φ_{u2} - u_{2z} \\frac{\\partial}{\\partial x} ζ{\\left(t,x,y,z,u_{1},u_{2},w_{1},w_{2} \\right)} - u_{2z} \\frac{\\partial}{\\partial x} τ{\\left(t,x,y,z,u_{1},u_{2},w_{1},w_{2} \\right)} - w_{1x} φ_{w2} + w_{1x} χ_{w1} + w_{1x} \\frac{\\partial}{\\partial y} τ{\\left(t,x,y,z,u_{1},u_{2},w_{1},w_{2} \\right)} - w_{1y} w_{2x} ξ_{w1} - w_{1y} w_{2x} τ_{w2} - w_{1y} w_{2y} γ_{w1} + w_{1y} w_{2y} τ_{u2} - w_{1y} w_{2z} ζ_{w1} - w_{1y} w_{2z} τ_{w1} + w_{1y} φ_{u2} + w_{1y} ω_{w1} - w_{1y} \\frac{\\partial}{\\partial x} τ{\\left(t,x,y,z,u_{1},u_{2},w_{1},w_{2} \\right)} - w_{2x} w_{2y} ξ_{w2} - w_{2x} w_{2y} τ_{w1} - w_{2x} φ_{w1} + w_{2x} χ_{w2} - w_{2x} \\frac{\\partial}{\\partial y} ξ{\\left(t,x,y,z,u_{1},u_{2},w_{1},w_{2} \\right)} - w_{2y}^{2} γ_{w2} - w_{2y}^{2} τ_{u1} - w_{2y} w_{2z} ζ_{w2} + w_{2y} w_{2z} τ_{w2} - w_{2y} φ_{u1} + w_{2y} ω_{w2} - w_{2y} \\frac{\\partial}{\\partial y} γ{\\left(t,x,y,z,u_{1},u_{2},w_{1},w_{2} \\right)} + w_{2y} \\frac{\\partial}{\\partial t} τ{\\left(t,x,y,z,u_{1},u_{2},w_{1},w_{2} \\right)} + w_{2y} \\frac{\\partial}{\\partial z} τ{\\left(t,x,y,z,u_{1},u_{2},w_{1},w_{2} \\right)} + 2 w_{2z} φ_{w2} - w_{2z} \\frac{\\partial}{\\partial y} ζ{\\left(t,x,y,z,u_{1},u_{2},w_{1},w_{2} \\right)} - w_{2z} \\frac{\\partial}{\\partial y} τ{\\left(t,x,y,z,u_{1},u_{2},w_{1},w_{2} \\right)} + \\frac{\\partial}{\\partial t} φ{\\left(t,x,y,z,u_{1},u_{2},w_{1},w_{2} \\right)} + \\frac{\\partial}{\\partial z} φ{\\left(t,x,y,z,u_{1},u_{2},w_{1},w_{2} \\right)} + \\frac{\\partial}{\\partial x} χ{\\left(t,x,y,z,u_{1},u_{2},w_{1},w_{2} \\right)} + \\frac{\\partial}{\\partial y} ω{\\left(t,x,y,z,u_{1},u_{2},w_{1},w_{2} \\right)}$"
     },
     "metadata": {},
     "execution_count": 11
    }
   ],
   "source": [
    "expr0 = sp.simplify(subs_it(pr1a + pr1b + pr1c + pr1d) )\n",
    "expr0 = sp.expand(expr0)\n",
    "expr0 = sp.expand(subs_parts(expr0))\n",
    "expr0"
   ]
  },
  {
   "cell_type": "code",
   "execution_count": 12,
   "metadata": {},
   "outputs": [],
   "source": [
    "expr1 = sp.simplify(subs_it(pr1a + pr1b + pr1c + pr1d) )\n",
    "expr1 = sp.expand(expr1)\n",
    "expr1 = sp.expand(subs_parts(expr1))\n",
    "expr1 = sp.simplify(zero_coef(expr1))"
   ]
  },
  {
   "source": [
    "--------------------EQUATION 2--------------------"
   ],
   "cell_type": "markdown",
   "metadata": {}
  },
  {
   "cell_type": "code",
   "execution_count": 13,
   "metadata": {},
   "outputs": [
    {
     "output_type": "execute_result",
     "data": {
      "text/plain": [
       "-u_2y + w_1t + w_1z + w_2x"
      ],
      "text/latex": "$\\displaystyle - u_{2y} + w_{1t} + w_{1z} + w_{2x}$"
     },
     "metadata": {},
     "execution_count": 13
    }
   ],
   "source": [
    "eq2 = sp.simplify(-1*sp.I*weyl0).subs({sp.I:0})\n",
    "eq2"
   ]
  },
  {
   "cell_type": "code",
   "execution_count": 14,
   "metadata": {},
   "outputs": [],
   "source": [
    "pr2a = pr1(χ, u2, y) #u2y\n",
    "pr2b = pr1(ψ, w1, t) #w1t\n",
    "pr2c = pr1(ψ, w1, z) #w1z\n",
    "pr2d = pr1(ω, w2, x) #w2z"
   ]
  },
  {
   "cell_type": "code",
   "execution_count": 15,
   "metadata": {},
   "outputs": [],
   "source": [
    "expr2 = subs_it(-pr2a + pr2b + pr2c + pr2d) \n",
    "expr2 = sp.expand(expr2)\n",
    "expr2 = sp.expand(subs_parts(expr2))\n",
    "expr2 = sp.simplify(zero_coef(expr2))"
   ]
  },
  {
   "source": [
    "--------------------EQUATION 3--------------------"
   ],
   "cell_type": "markdown",
   "metadata": {}
  },
  {
   "cell_type": "code",
   "execution_count": 16,
   "metadata": {},
   "outputs": [
    {
     "output_type": "execute_result",
     "data": {
      "text/plain": [
       "u_1x + u_2t - u_2z - w_1y"
      ],
      "text/latex": "$\\displaystyle u_{1x} + u_{2t} - u_{2z} - w_{1y}$"
     },
     "metadata": {},
     "execution_count": 16
    }
   ],
   "source": [
    "eq3 = sp.simplify(weyl1).subs({sp.I:0})\n",
    "eq3"
   ]
  },
  {
   "cell_type": "code",
   "execution_count": 17,
   "metadata": {},
   "outputs": [],
   "source": [
    "pr3a = pr1(φ, u1, x) #u1x\n",
    "pr3b = pr1(χ, u2, z) #u2z\n",
    "pr3c = pr1(ψ, w1, y) #w1y\n",
    "pr3d = pr1(χ, u2, t) #u2t"
   ]
  },
  {
   "cell_type": "code",
   "execution_count": 18,
   "metadata": {},
   "outputs": [],
   "source": [
    "expr3 = subs_it(pr3a - pr3b - pr3c + pr3d) \n",
    "expr3 = sp.expand(expr3)\n",
    "expr3 = sp.expand(subs_parts(expr3))\n",
    "expr3 = sp.simplify(zero_coef(expr3))"
   ]
  },
  {
   "source": [
    "--------------------EQUATION 4--------------------"
   ],
   "cell_type": "markdown",
   "metadata": {}
  },
  {
   "cell_type": "code",
   "execution_count": 19,
   "metadata": {},
   "outputs": [
    {
     "output_type": "execute_result",
     "data": {
      "text/plain": [
       "u_1y + w_1x + w_2t - w_2z"
      ],
      "text/latex": "$\\displaystyle u_{1y} + w_{1x} + w_{2t} - w_{2z}$"
     },
     "metadata": {},
     "execution_count": 19
    }
   ],
   "source": [
    "eq4 = sp.simplify(-1*sp.I*weyl1).subs({sp.I:0})\n",
    "eq4"
   ]
  },
  {
   "source": [
    "pr4a = pr1(φ, u1, y) #u1y\n",
    "pr4b = pr1(ψ, w1, x) #w1x\n",
    "pr4c = pr1(ω, w2, t) #w2t\n",
    "pr4d = pr1(ω, w2, z) #w2z"
   ],
   "cell_type": "code",
   "metadata": {},
   "execution_count": 20,
   "outputs": []
  },
  {
   "cell_type": "code",
   "execution_count": 21,
   "metadata": {},
   "outputs": [],
   "source": [
    "expr4 = subs_it(pr4a + pr4b + pr4c - pr4d) \n",
    "expr4 = sp.expand(expr4)\n",
    "expr4 = sp.expand(subs_parts(expr4))\n",
    "expr4 = sp.simplify(zero_coef(expr4)) "
   ]
  },
  {
   "cell_type": "code",
   "execution_count": 22,
   "metadata": {},
   "outputs": [],
   "source": [
    "lista1 = sort_coef(expr1, sym1)\n",
    "lista2 = sort_coef(expr2, sym1)\n",
    "lista3 = sort_coef(expr3, sym1)\n",
    "lista4 = sort_coef(expr4, sym1)"
   ]
  },
  {
   "cell_type": "code",
   "execution_count": 23,
   "metadata": {},
   "outputs": [
    {
     "output_type": "execute_result",
     "data": {
      "text/plain": [
       "Matrix([\n",
       "[ 0, -ξ_t - ξ_z + τ_x - φ_u2 + χ_u1,             -τ_y - ψ_u2 + ω_u1, -ξ_x + τ_t - τ_z + φ_u1 - χ_u2,             -ξ_y + ψ_u1 - ω_u2],\n",
       "[ 1, -γ_t - γ_z + τ_y - φ_w2 + ω_u1,              τ_x - χ_u1 - ψ_w2,             -γ_x - χ_w2 - ψ_u1, -γ_y + τ_t - τ_z + φ_u1 - ω_w2],\n",
       "[ 2,         -ζ_t - ζ_z + τ_t + τ_z,              ξ_y - ψ_u1 + ω_u2,            -ζ_x + τ_x - 2*χ_u1,            -ζ_y + τ_y - 2*ω_u1],\n",
       "[ 3, -ξ_x + τ_t + τ_z - φ_u1 + χ_u2,  γ_y - τ_t - τ_z - χ_u2 + ψ_w1, -ξ_t + ξ_z + τ_x + φ_u2 - χ_u1,              τ_y + ψ_u2 - ω_u1],\n",
       "[ 4,             -γ_x + φ_w1 + ω_u2,             ζ_y + τ_y + 2*ψ_u2, -γ_t + γ_z + τ_y + χ_w1 - ψ_u2,             -τ_x + φ_u2 + ω_w1],\n",
       "[ 5,            -ζ_x - τ_x + 2*φ_u2, -ξ_t - ξ_z + τ_x - ψ_w2 + ω_w1,         -ζ_t + ζ_z - τ_t + τ_z, -ξ_x + τ_t - τ_z + ψ_w1 - ω_w2],\n",
       "[ 6,              τ_y - φ_w2 + χ_w1, -γ_t - γ_z + τ_y - χ_w1 + ψ_u2,              ξ_y + φ_w1 - χ_w2,             -γ_x + φ_w1 + ω_u2],\n",
       "[ 7,             -τ_x + φ_u2 + ω_w1,         -ζ_t - ζ_z + τ_t + τ_z,  γ_y - τ_t + τ_z + χ_u2 - ψ_w1,            -ζ_x + τ_x - 2*ω_w1],\n",
       "[ 8,             -ξ_y - φ_w1 + χ_w2, -ξ_x + τ_t + τ_z - ψ_w1 + ω_w2,             ζ_y - τ_y - 2*χ_w1, -ξ_t + ξ_z + τ_x + ψ_w2 - ω_w1],\n",
       "[ 9, -γ_y + τ_t + τ_z - φ_u1 + ω_w2,             -γ_x - χ_w2 - ψ_u1,             -τ_y + φ_w2 - χ_w1, -γ_t + γ_z + τ_y + φ_w2 - ω_u1],\n",
       "[10,            -ζ_y - τ_y + 2*φ_w2,            -ζ_x - τ_x + 2*ψ_w2,              τ_x - χ_u1 - ψ_w2,         -ζ_t + ζ_z - τ_t + τ_z],\n",
       "[11,          φ_t + φ_z + χ_x + ω_y,         -χ_y + ψ_t + ψ_z + ω_x,          φ_x + χ_t - χ_z - ψ_y,          φ_y + ψ_x + ω_t - ω_z]])"
      ],
      "text/latex": "$\\displaystyle \\left[\\begin{matrix}0 & - ξ_{t} - ξ_{z} + τ_{x} - φ_{u2} + χ_{u1} & - τ_{y} - ψ_{u2} + ω_{u1} & - ξ_{x} + τ_{t} - τ_{z} + φ_{u1} - χ_{u2} & - ξ_{y} + ψ_{u1} - ω_{u2}\\\\1 & - γ_{t} - γ_{z} + τ_{y} - φ_{w2} + ω_{u1} & τ_{x} - χ_{u1} - ψ_{w2} & - γ_{x} - χ_{w2} - ψ_{u1} & - γ_{y} + τ_{t} - τ_{z} + φ_{u1} - ω_{w2}\\\\2 & - ζ_{t} - ζ_{z} + τ_{t} + τ_{z} & ξ_{y} - ψ_{u1} + ω_{u2} & - ζ_{x} + τ_{x} - 2 χ_{u1} & - ζ_{y} + τ_{y} - 2 ω_{u1}\\\\3 & - ξ_{x} + τ_{t} + τ_{z} - φ_{u1} + χ_{u2} & γ_{y} - τ_{t} - τ_{z} - χ_{u2} + ψ_{w1} & - ξ_{t} + ξ_{z} + τ_{x} + φ_{u2} - χ_{u1} & τ_{y} + ψ_{u2} - ω_{u1}\\\\4 & - γ_{x} + φ_{w1} + ω_{u2} & ζ_{y} + τ_{y} + 2 ψ_{u2} & - γ_{t} + γ_{z} + τ_{y} + χ_{w1} - ψ_{u2} & - τ_{x} + φ_{u2} + ω_{w1}\\\\5 & - ζ_{x} - τ_{x} + 2 φ_{u2} & - ξ_{t} - ξ_{z} + τ_{x} - ψ_{w2} + ω_{w1} & - ζ_{t} + ζ_{z} - τ_{t} + τ_{z} & - ξ_{x} + τ_{t} - τ_{z} + ψ_{w1} - ω_{w2}\\\\6 & τ_{y} - φ_{w2} + χ_{w1} & - γ_{t} - γ_{z} + τ_{y} - χ_{w1} + ψ_{u2} & ξ_{y} + φ_{w1} - χ_{w2} & - γ_{x} + φ_{w1} + ω_{u2}\\\\7 & - τ_{x} + φ_{u2} + ω_{w1} & - ζ_{t} - ζ_{z} + τ_{t} + τ_{z} & γ_{y} - τ_{t} + τ_{z} + χ_{u2} - ψ_{w1} & - ζ_{x} + τ_{x} - 2 ω_{w1}\\\\8 & - ξ_{y} - φ_{w1} + χ_{w2} & - ξ_{x} + τ_{t} + τ_{z} - ψ_{w1} + ω_{w2} & ζ_{y} - τ_{y} - 2 χ_{w1} & - ξ_{t} + ξ_{z} + τ_{x} + ψ_{w2} - ω_{w1}\\\\9 & - γ_{y} + τ_{t} + τ_{z} - φ_{u1} + ω_{w2} & - γ_{x} - χ_{w2} - ψ_{u1} & - τ_{y} + φ_{w2} - χ_{w1} & - γ_{t} + γ_{z} + τ_{y} + φ_{w2} - ω_{u1}\\\\10 & - ζ_{y} - τ_{y} + 2 φ_{w2} & - ζ_{x} - τ_{x} + 2 ψ_{w2} & τ_{x} - χ_{u1} - ψ_{w2} & - ζ_{t} + ζ_{z} - τ_{t} + τ_{z}\\\\11 & φ_{t} + φ_{z} + χ_{x} + ω_{y} & - χ_{y} + ψ_{t} + ψ_{z} + ω_{x} & φ_{x} + χ_{t} - χ_{z} - ψ_{y} & φ_{y} + ψ_{x} + ω_{t} - ω_{z}\\end{matrix}\\right]$"
     },
     "metadata": {},
     "execution_count": 23
    }
   ],
   "source": [
    "mlista1 = sp.Matrix(lista1)\n",
    "mlista2 = sp.Matrix(lista2)\n",
    "mlista3 = sp.Matrix(lista3)\n",
    "mlista4 = sp.Matrix(lista4)\n",
    "num = range(0, 12)\n",
    "mlistes = sp.Matrix([ num ,lista1, lista2, lista3, lista4]).T\n",
    "mlistes"
   ]
  },
  {
   "cell_type": "code",
   "execution_count": 24,
   "metadata": {},
   "outputs": [],
   "source": [
    "def clear_true_t(exp):\n",
    "    s = np.size(exp)\n",
    "    l = []\n",
    "    for i in range(0, s):\n",
    "        if exp[i] != True :\n",
    "            l.append(exp[i])\n",
    "    return l"
   ]
  },
  {
   "cell_type": "code",
   "execution_count": 30,
   "metadata": {},
   "outputs": [],
   "source": [
    "def clear_zer_tn(exp):\n",
    "    s = np.size(exp)\n",
    "    l = []\n",
    "    for i in range(0, s):\n",
    "        if exp[i] != 0:\n",
    "            l.append(exp[i])\n",
    "    #l = np.array(l)\n",
    "    return l"
   ]
  },
  {
   "cell_type": "code",
   "execution_count": 27,
   "metadata": {},
   "outputs": [],
   "source": [
    "lis = lista1+lista2+lista3+lista4\n",
    "lis = rm_red_t(lis)\n",
    "lis = clear_zer_tn(lis)"
   ]
  },
  {
   "cell_type": "code",
   "execution_count": null,
   "metadata": {},
   "outputs": [],
   "source": [
    "lis = lin_comb_t(lis, sym2)\n",
    "lis = rm_red_t(lis)\n",
    "lis = clear_zer_t(lis)\n",
    "lis = np.array(lis + [0, 0]) "
   ]
  },
  {
   "cell_type": "code",
   "execution_count": null,
   "metadata": {},
   "outputs": [],
   "source": [
    "lis = sp.simplify(sp.Matrix(equationize(lis)))\n",
    "lis = clear_true_t(lis)"
   ]
  },
  {
   "cell_type": "code",
   "execution_count": null,
   "metadata": {},
   "outputs": [],
   "source": [
    "lc1 = lis.copy()\n",
    "filter_lc1 = sort_23(lc1, sym2, 2)\n",
    "np.size(filter_lc1)"
   ]
  },
  {
   "cell_type": "code",
   "execution_count": null,
   "metadata": {},
   "outputs": [],
   "source": [
    "sp.Matrix(filter_lc1).reshape(5, 2)"
   ]
  },
  {
   "cell_type": "code",
   "execution_count": null,
   "metadata": {},
   "outputs": [],
   "source": [
    "#The simple expressions from one into one disctionary\n",
    "#Derived by the linear combinations 1\n",
    "dicti_1 = { \n",
    "    sym2[3, 0]: sym2[0, 3],\n",
    "    sym2[3, 3]: sym2[0, 0],\n",
    "    sym2[2, 2]: sym2[0, 0],\n",
    "    sym2[2, 0]: sym2[0 ,2],\n",
    "    sym2[1, 0]: sym2[0, 1],\n",
    "    sym2[1, 1]: sym2[0, 0],\n",
    "    #\n",
    "    sym2[4, 5]: sym2[6, 7],\n",
    "    sym2[4, 7]: -1*sym2[6, 5],\n",
    "    #χu1\n",
    "    sym2[5, 4]: sym2[7, 6],\n",
    "    sym2[5, 6]: -1*sym2[7, 4],\n",
    "}"
   ]
  },
  {
   "cell_type": "code",
   "execution_count": null,
   "metadata": {},
   "outputs": [],
   "source": [
    "#Linear combination 1 - substituted with the results\n",
    "lc1_s = clear_zer_t( sp.Matrix(lis).subs(dicti_1) )\n",
    "np.size(lc1_s)"
   ]
  },
  {
   "cell_type": "code",
   "execution_count": null,
   "metadata": {},
   "outputs": [],
   "source": [
    "sp.Matrix(lc1_s).reshape(13, 6)"
   ]
  },
  {
   "cell_type": "code",
   "execution_count": null,
   "metadata": {},
   "outputs": [],
   "source": [
    "lc1_s = sp.Matrix(clear_zer_t( rm_red_t( flatten(lc1_s) )  )).reshape(17, 2)\n",
    "lc1_s"
   ]
  },
  {
   "cell_type": "code",
   "execution_count": null,
   "metadata": {},
   "outputs": [],
   "source": [
    "#previous algorithm to get rid of 2 didnt work\n",
    "lc1_s[3, 0] = lc1_s[3, 0]/2\n",
    "lc1_s[6 ,0] = lc1_s[6 ,0]/2\n",
    "lc1_s[9 ,0] = lc1_s[9 ,0]/2\n",
    "lc1_s[10,0] = lc1_s[10,0]/2\n",
    "lc1_s[11,0] = lc1_s[11,0]/2\n",
    "lc1_s[14,0] = lc1_s[14,0]/2\n",
    "lc1_s[16,0] = lc1_s[16,0]/2\n",
    "\n",
    "lc1_s[2,1] = lc1_s[2,1]/2\n",
    "lc1_s[6,1] = lc1_s[6,1]/2\n",
    "lc1_s[9,1] = lc1_s[9,1]/2\n",
    "lc1_s[12,1] = lc1_s[12,1]/2\n",
    "lc1_s[14,1] = lc1_s[14,1]/2\n",
    "lc1_s[15,1] = lc1_s[15,1]/2\n",
    "lc1_s[16,1] = lc1_s[16,1]/2\n",
    "\n",
    "lc1_s"
   ]
  },
  {
   "cell_type": "code",
   "execution_count": null,
   "metadata": {},
   "outputs": [],
   "source": [
    "filter_lc1_s = sort_23(flatten(lc1_s), sym2, 2)\n",
    "np.size(filter_lc1_s)"
   ]
  },
  {
   "cell_type": "code",
   "execution_count": null,
   "metadata": {},
   "outputs": [],
   "source": [
    "sp.Matrix(filter_lc1_s).reshape(2, 1)"
   ]
  },
  {
   "cell_type": "code",
   "execution_count": null,
   "metadata": {},
   "outputs": [],
   "source": [
    "dicti_1a = {\n",
    "    sym2[4, 4]:sym2[6, 6],\n",
    "    sym2[5,5]:sym2[7,7]\n",
    "}"
   ]
  },
  {
   "cell_type": "code",
   "execution_count": null,
   "metadata": {},
   "outputs": [],
   "source": [
    "dicti_1.update(dicti_1a)"
   ]
  },
  {
   "cell_type": "code",
   "execution_count": null,
   "metadata": {},
   "outputs": [],
   "source": [
    "lis2 = sp.Matrix(lista1 + lista2 + lista3).subs(dicti_1) \n",
    "lis2 = lin_comb_t(lis2, sym2)\n",
    "lis2 = rm_red_t(lis2)\n",
    "lis2 = clear_zer_t(lis2)\n",
    "np.size(lis2)"
   ]
  },
  {
   "cell_type": "code",
   "execution_count": null,
   "metadata": {},
   "outputs": [],
   "source": [
    "lis2 = sp.Matrix(lis2 + [0]).reshape(11,4)\n",
    "lis2"
   ]
  },
  {
   "cell_type": "code",
   "execution_count": null,
   "metadata": {},
   "outputs": [],
   "source": [
    "lis2 = equationize(flatten(lis2))"
   ]
  },
  {
   "cell_type": "code",
   "execution_count": null,
   "metadata": {},
   "outputs": [],
   "source": [
    "sp.simplify(sp.Matrix(lis2).reshape(11, 4))"
   ]
  },
  {
   "cell_type": "code",
   "execution_count": null,
   "metadata": {},
   "outputs": [],
   "source": [
    "lis2 = lc1_s.copy()\n",
    "lis2 = flatten(lis2)\n",
    "lis2 = lin_comb_t(lis2, sym2)\n",
    "lis2 = rm_red_t(lis2)\n",
    "lis2 = clear_zer_t(lis2)\n",
    "np.size(lis2)"
   ]
  },
  {
   "cell_type": "code",
   "execution_count": null,
   "metadata": {},
   "outputs": [],
   "source": [
    "#The 2nd linear combination we've performed on our data\n",
    "lc2 = -sp.Matrix(lis2).reshape(19, 5)\n",
    "lc2 "
   ]
  },
  {
   "cell_type": "code",
   "execution_count": null,
   "metadata": {},
   "outputs": [],
   "source": [
    "filter_lc2 = sort_23(flatten(lc2), sym2, 2)\n",
    "np.size(filter_lc2)"
   ]
  },
  {
   "cell_type": "code",
   "execution_count": null,
   "metadata": {},
   "outputs": [],
   "source": [
    "sp.Matrix(filter_lc2).reshape(3, 3)"
   ]
  },
  {
   "cell_type": "code",
   "execution_count": null,
   "metadata": {},
   "outputs": [],
   "source": [
    "#We can read out some simple 2-Term expressions again\n",
    "#gotta automatize thsi shit\n",
    "dicti_2 = {\n",
    "    #γ ζ\n",
    "    sym2[2,3]:-1*sym2[3,2],\n",
    "    #ζ ξ\n",
    "    sym2[3,1]:-1*sym2[1,3],\n",
    "    #χ ω\n",
    "    sym2[5,5]:sym2[7,7],\n",
    "    #φ ψ\n",
    "    sym2[4,4]:sym2[6,6],\n",
    "}"
   ]
  },
  {
   "cell_type": "code",
   "execution_count": null,
   "metadata": {},
   "outputs": [],
   "source": [
    "mlistes_s = mlistes.subs(dicti_1)\n",
    "mlistes_s = mlistes_s.subs(dicti_2)\n",
    "mlistes_s"
   ]
  },
  {
   "cell_type": "code",
   "execution_count": null,
   "metadata": {},
   "outputs": [],
   "source": [
    "dicti_f = dicti_1.copy()\n",
    "dicti_f.update(dicti_2)"
   ]
  },
  {
   "cell_type": "code",
   "execution_count": null,
   "metadata": {},
   "outputs": [],
   "source": [
    "lc3 = lista1+lista2+lista3\n",
    "lc3 = sp.Matrix(lc3).subs(dicti_f)\n",
    "lc3 = rm_red_t(lc3)\n",
    "lc3 = clear_zer_t(lc3)\n",
    "lc3 = lin_comb_t(lc3, sym2)\n",
    "lc3 = rm_red_t(lc3)\n",
    "lc3 = clear_zer_t(lc3)\n",
    "np.size(lc3)"
   ]
  },
  {
   "cell_type": "code",
   "execution_count": null,
   "metadata": {},
   "outputs": [],
   "source": [
    "sp.Matrix(lc3).reshape(3, 4)"
   ]
  },
  {
   "cell_type": "code",
   "execution_count": null,
   "metadata": {},
   "outputs": [],
   "source": [
    "sp.Matrix(sym2)"
   ]
  },
  {
   "cell_type": "code",
   "execution_count": null,
   "metadata": {},
   "outputs": [],
   "source": []
  }
 ]
}