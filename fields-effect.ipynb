{
 "metadata": {
  "language_info": {
   "codemirror_mode": {
    "name": "ipython",
    "version": 3
   },
   "file_extension": ".py",
   "mimetype": "text/x-python",
   "name": "python",
   "nbconvert_exporter": "python",
   "pygments_lexer": "ipython3",
   "version": "3.8.8"
  },
  "orig_nbformat": 4,
  "kernelspec": {
   "name": "python3",
   "display_name": "Python 3.8.8 64-bit ('gp-env': conda)"
  },
  "interpreter": {
   "hash": "3aff35d366b980e568cc03d2d00c83eac08dd05ed9a824e247edc85e357eb300"
  }
 },
 "nbformat": 4,
 "nbformat_minor": 2,
 "cells": [
  {
   "cell_type": "code",
   "execution_count": 1,
   "source": [
    "\n",
    "import numpy as np \n",
    "import sympy as sp \n"
   ],
   "outputs": [],
   "metadata": {}
  },
  {
   "cell_type": "code",
   "execution_count": 2,
   "source": [
    "t, x, y, z, c = sp.symbols(\"t x y z c\")\n",
    "u1, u2, w1, w2 = sp.symbols(\"u1, u2, w1, w2\")\n",
    "τ, ξ, γ, ζ = sp.symbols(\"τ, ξ, γ, ζ\")\n",
    "φ, χ, ψ, ω = sp.symbols(\"φ, χ, ψ, ω\")\n",
    "c0, c1, c2, c3, c4 = sp.symbols(\"c0, c1, c2, c3, c4\")\n",
    "ε = sp.symbols(\"ε\")\n",
    "f = sp.symbols(\"f\")\n",
    "c = sp.symbols(\"c\")"
   ],
   "outputs": [],
   "metadata": {}
  },
  {
   "cell_type": "code",
   "execution_count": 3,
   "source": [
    "der = [\n",
    "        sp.symbols(f\"{symbol}_{index}\")\n",
    "        for symbol in (\"δ\")\n",
    "        for index in (\"t\", \"x\", \"y\", \"z\", \"u1\", \"u2\", \"w1\", \"w2\")\n",
    "        ]"
   ],
   "outputs": [],
   "metadata": {}
  },
  {
   "cell_type": "code",
   "execution_count": 4,
   "source": [
    "sp.integrate(1/sp.sqrt(c0 - x**2), x)"
   ],
   "outputs": [
    {
     "output_type": "execute_result",
     "data": {
      "text/latex": [
       "$\\displaystyle \\begin{cases} - i \\operatorname{acosh}{\\left(\\frac{x}{\\sqrt{c_{0}}} \\right)} & \\text{for}\\: \\left|{\\frac{x^{2}}{c_{0}}}\\right| > 1 \\\\\\operatorname{asin}{\\left(\\frac{x}{\\sqrt{c_{0}}} \\right)} & \\text{otherwise} \\end{cases}$"
      ],
      "text/plain": [
       "Piecewise((-I*acosh(x/sqrt(c0)), Abs(x**2/c0) > 1), (asin(x/sqrt(c0)), True))"
      ]
     },
     "metadata": {},
     "execution_count": 4
    }
   ],
   "metadata": {}
  },
  {
   "cell_type": "code",
   "execution_count": 5,
   "source": [
    "exp = (1 - sp.sin(ε - sp.asin(x/sp.sqrt(x**2 + t**2) )  )**2 )"
   ],
   "outputs": [],
   "metadata": {}
  },
  {
   "cell_type": "code",
   "execution_count": 6,
   "source": [
    "expf = (1 - sp.sin(f )**2 )"
   ],
   "outputs": [],
   "metadata": {}
  },
  {
   "cell_type": "code",
   "execution_count": 7,
   "source": [
    "sp.series(sp.sin(f), f).subs(f, ε - sp.asin(x/sp.sqrt(x**2 + t**2) ) )"
   ],
   "outputs": [
    {
     "output_type": "execute_result",
     "data": {
      "text/latex": [
       "$\\displaystyle O\\left(1; \\left( t, \\  x, \\  ε\\right)\\rightarrow \\left( 0, \\  0, \\  0\\right)\\right)$"
      ],
      "text/plain": [
       "O(1, t, x, ε)"
      ]
     },
     "metadata": {},
     "execution_count": 7
    }
   ],
   "metadata": {}
  },
  {
   "cell_type": "code",
   "execution_count": 8,
   "source": [
    "c0 = sp.sqrt(w1**2 + u1**2)\n",
    "c1 = ε + sp.asin(w1/c0)"
   ],
   "outputs": [],
   "metadata": {}
  },
  {
   "cell_type": "code",
   "execution_count": 9,
   "source": [
    "sp.Matrix([c0, c1])"
   ],
   "outputs": [
    {
     "output_type": "execute_result",
     "data": {
      "text/latex": [
       "$\\displaystyle \\left[\\begin{matrix}\\sqrt{u_{1}^{2} + w_{1}^{2}}\\\\ε + \\operatorname{asin}{\\left(\\frac{w_{1}}{\\sqrt{u_{1}^{2} + w_{1}^{2}}} \\right)}\\end{matrix}\\right]$"
      ],
      "text/plain": [
       "Matrix([\n",
       "[             sqrt(u1**2 + w1**2)],\n",
       "[ε + asin(w1/sqrt(u1**2 + w1**2))]])"
      ]
     },
     "metadata": {},
     "execution_count": 9
    }
   ],
   "metadata": {}
  },
  {
   "cell_type": "code",
   "execution_count": 10,
   "source": [
    "(sp.asin( sp.sin(ε)/sp.cos(ε) ) ).simplify()"
   ],
   "outputs": [
    {
     "output_type": "execute_result",
     "data": {
      "text/latex": [
       "$\\displaystyle \\operatorname{asin}{\\left(\\tan{\\left(ε \\right)} \\right)}$"
      ],
      "text/plain": [
       "asin(tan(ε))"
      ]
     },
     "metadata": {},
     "execution_count": 10
    }
   ],
   "metadata": {}
  },
  {
   "cell_type": "code",
   "execution_count": 11,
   "source": [
    "(sp.asin( -sp.cos(ε)/sp.sin(ε) ) ).simplify()"
   ],
   "outputs": [
    {
     "output_type": "execute_result",
     "data": {
      "text/latex": [
       "$\\displaystyle - \\operatorname{asin}{\\left(\\frac{1}{\\tan{\\left(ε \\right)}} \\right)}$"
      ],
      "text/plain": [
       "-asin(1/tan(ε))"
      ]
     },
     "metadata": {},
     "execution_count": 11
    }
   ],
   "metadata": {}
  },
  {
   "cell_type": "code",
   "execution_count": 12,
   "source": [
    "sp.integrate(1/sp.sqrt( - x**2 + c**2), x)"
   ],
   "outputs": [
    {
     "output_type": "execute_result",
     "data": {
      "text/latex": [
       "$\\displaystyle \\begin{cases} - i \\operatorname{acosh}{\\left(\\frac{x}{c} \\right)} & \\text{for}\\: \\left|{\\frac{x^{2}}{c^{2}}}\\right| > 1 \\\\\\operatorname{asin}{\\left(\\frac{x}{c} \\right)} & \\text{otherwise} \\end{cases}$"
      ],
      "text/plain": [
       "Piecewise((-I*acosh(x/c), Abs(x**2/c**2) > 1), (asin(x/c), True))"
      ]
     },
     "metadata": {},
     "execution_count": 12
    }
   ],
   "metadata": {}
  },
  {
   "cell_type": "code",
   "execution_count": null,
   "source": [],
   "outputs": [],
   "metadata": {}
  }
 ]
}