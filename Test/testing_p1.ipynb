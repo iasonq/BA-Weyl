{
 "metadata": {
  "language_info": {
   "codemirror_mode": {
    "name": "ipython",
    "version": 3
   },
   "file_extension": ".py",
   "mimetype": "text/x-python",
   "name": "python",
   "nbconvert_exporter": "python",
   "pygments_lexer": "ipython3",
   "version": "3.8.8"
  },
  "orig_nbformat": 4,
  "kernelspec": {
   "name": "python3",
   "display_name": "Python 3.8.8 64-bit"
  },
  "interpreter": {
   "hash": "3aff35d366b980e568cc03d2d00c83eac08dd05ed9a824e247edc85e357eb300"
  }
 },
 "nbformat": 4,
 "nbformat_minor": 2,
 "cells": [
  {
   "cell_type": "code",
   "execution_count": 1,
   "metadata": {},
   "outputs": [],
   "source": [
    "\n",
    "import numpy as np \n",
    "import sympy as sp \n",
    "import matplotlib.pyplot as plt \n",
    "from testing_functions import *\n"
   ]
  },
  {
   "cell_type": "code",
   "execution_count": 2,
   "metadata": {},
   "outputs": [],
   "source": [
    "\n",
    "t, x, y, z, c = sp.symbols(\"t x y z c\")\n",
    "\n",
    "u1 = sp.Function(\"u_1\")(t, x, y, z)\n",
    "u2 = sp.Function(\"u_2\")(t, x, y, z)\n",
    "w1 = sp.Function(\"w_1\")(t, x, y, z)\n",
    "w2 = sp.Function(\"w_2\")(t, x, y, z)\n",
    "\n",
    "\n",
    "I2 = sp.Matrix([[1, 0], [0, 1]])\n",
    "sx = sp.Matrix([[0, 1], [1, 0]])\n",
    "sy = sp.Matrix([[0, -sp.I], [sp.I, 0]])\n",
    "sz = sp.Matrix([[1, 0], [0, -1]])\n",
    "\n",
    "u1x, u1y, u1z = sp.symbols(\"u_1x, u_1y, u_1z\")\n",
    "u2x, u2y, u2z = sp.symbols(\"u_2x, u_2y, u_2z\")\n",
    "w1x, w1y, w1z = sp.symbols(\"w_1x, w_1y, w_1z\")\n",
    "w2x, w2y, w2z = sp.symbols(\"w_2x, w_2y, w_2z\")\n",
    "u1t, u2t, w1t, w2t = sp.symbols(\"u_1t, u_2t, w_1t, w_2t\")\n",
    "\n",
    "w_eq = sp.Matrix([u1 + sp.I*w1 , u2 + sp.I*w2 ])\n",
    "\n",
    "#these are the ξ^i basically\n",
    "τ = sp.Function(\"τ\")(t, x, y, z, u1, u2, w1, w2)\n",
    "ξ = sp.Function(\"ξ\")(t, x, y, z, u1, u2, w1, w2)\n",
    "γ = sp.Function(\"γ\")(t, x, y, z, u1, u2, w1, w2)\n",
    "ζ = sp.Function(\"ζ\")(t, x, y, z, u1, u2, w1, w2)\n",
    "\n",
    "#these are the u^a basically\n",
    "φ = sp.Function(\"φ\")(t, x, y, z, u1, u2, w1, w2)\n",
    "χ = sp.Function(\"χ\")(t, x, y, z, u1, u2, w1, w2)\n",
    "ψ = sp.Function(\"ψ\")(t, x, y, z, u1, u2, w1, w2)\n",
    "ω = sp.Function(\"ω\")(t, x, y, z, u1, u2, w1, w2)\n"
   ]
  },
  {
   "cell_type": "code",
   "execution_count": 3,
   "metadata": {},
   "outputs": [],
   "source": [
    "\n",
    "lvar = sp.Matrix([t, x, y, z])\n",
    "lwlf = sp.Matrix([u1, u2, w1, w2])\n",
    "lfn1 = sp.Matrix([τ, ξ, γ, ζ])\n",
    "lfn2 = sp.Matrix([φ, χ, ψ, ω])\n",
    "#In our case it correlated with lvar, because we only have derivatives of the first order\n",
    "ders = sp.Matrix([t, x, y, z])\n"
   ]
  },
  {
   "cell_type": "code",
   "execution_count": 4,
   "metadata": {},
   "outputs": [
    {
     "output_type": "execute_result",
     "data": {
      "text/plain": [
       "array([[u_1t, u_1x, u_1y, u_1z],\n",
       "       [u_2t, u_2x, u_2y, u_2z],\n",
       "       [w_1t, w_1x, w_1y, w_1z],\n",
       "       [w_2t, w_2x, w_2y, w_2z]], dtype=object)"
      ]
     },
     "metadata": {},
     "execution_count": 4
    }
   ],
   "source": [
    "sym1 = symbols_1()\n",
    "sym1"
   ]
  },
  {
   "cell_type": "code",
   "execution_count": 5,
   "metadata": {},
   "outputs": [],
   "source": [
    "def subs_der(func):\n",
    "    \n",
    "    sym_der = [\n",
    "        sp.symbols(f\"{symbol}_{index}\")\n",
    "        for symbol in (\"τ\", \"ξ\", \"γ\", \"ζ\", \"φ\", \"χ\", \"ψ\", \"ω\")\n",
    "        for index in (\"t\", \"x\", \"y\", \"z\" )\n",
    "        ]\n",
    "    sym_der = np.reshape(sym_der, (8,4))\n",
    "    \n",
    "    u1 = sp.symbols(\"u_1\")\n",
    "    u2 = sp.symbols(\"u_2\")\n",
    "    w1 = sp.symbols(\"w_1\")\n",
    "    w2 = sp.symbols(\"w_2\")\n",
    "    τ = sp.Function(\"τ\")(t, x, y, z, u1, u2, w1, w2)\n",
    "    ξ = sp.Function(\"ξ\")(t, x, y, z, u1, u2, w1, w2)\n",
    "    γ = sp.Function(\"γ\")(t, x, y, z, u1, u2, w1, w2)\n",
    "    ζ = sp.Function(\"ζ\")(t, x, y, z, u1, u2, w1, w2)\n",
    "    φ = sp.Function(\"φ\")(t, x, y, z, u1, u2, w1, w2)\n",
    "    χ = sp.Function(\"χ\")(t, x, y, z, u1, u2, w1, w2)\n",
    "    ψ = sp.Function(\"ψ\")(t, x, y, z, u1, u2, w1, w2)\n",
    "    ω = sp.Function(\"ω\")(t, x, y, z, u1, u2, w1, w2)\n",
    "    \n",
    "    lvar = [t, x, y, z]\n",
    "    lfn1 = [τ, ξ, γ, ζ]\n",
    "    lfn2 = [φ, χ, ψ, ω]\n",
    "    \n",
    "    k1 = 0\n",
    "    k2 = 0    \n",
    "    for i in lfn1+lfn2 :\n",
    "        for j in lvar :\n",
    "            func = func.subs( sp.Derivative(i, j), sym_der[k1, k2])\n",
    "            k2 += 1\n",
    "        k2 = 0\n",
    "        k1 += 1\n",
    "    \n",
    "    return func "
   ]
  },
  {
   "source": [
    "sym2 = symbols_2()\n",
    "sym2"
   ],
   "cell_type": "code",
   "metadata": {},
   "execution_count": 6,
   "outputs": [
    {
     "output_type": "execute_result",
     "data": {
      "text/plain": [
       "array([[τ_t, τ_x, τ_y, τ_z, τ_u1, τ_u2, τ_w1, τ_w2],\n",
       "       [ξ_t, ξ_x, ξ_y, ξ_z, ξ_u1, ξ_u2, ξ_w1, ξ_w2],\n",
       "       [γ_t, γ_x, γ_y, γ_z, γ_u1, γ_u2, γ_w1, γ_w2],\n",
       "       [ζ_t, ζ_x, ζ_y, ζ_z, ζ_u1, ζ_u2, ζ_w1, ζ_w2],\n",
       "       [φ_t, φ_x, φ_y, φ_z, φ_u1, φ_u2, φ_w1, φ_w2],\n",
       "       [χ_t, χ_x, χ_y, χ_z, χ_u1, χ_u2, χ_w1, χ_w2],\n",
       "       [ψ_t, ψ_x, ψ_y, ψ_z, ψ_u1, ψ_u2, ψ_w1, ψ_w2],\n",
       "       [ω_t, ω_x, ω_y, ω_z, ω_u1, ω_u2, ω_w1, ω_w2]], dtype=object)"
      ]
     },
     "metadata": {},
     "execution_count": 6
    }
   ]
  },
  {
   "source": [
    "sp.Matrix([[u1 + sp.I*w1], [u2 + sp.I*w2] ])"
   ],
   "cell_type": "code",
   "metadata": {},
   "execution_count": 7,
   "outputs": [
    {
     "output_type": "execute_result",
     "data": {
      "text/plain": [
       "Matrix([\n",
       "[u_1(t, x, y, z) + I*w_1(t, x, y, z)],\n",
       "[u_2(t, x, y, z) + I*w_2(t, x, y, z)]])"
      ],
      "text/latex": "$\\displaystyle \\left[\\begin{matrix}\\operatorname{u_{1}}{\\left(t,x,y,z \\right)} + i \\operatorname{w_{1}}{\\left(t,x,y,z \\right)}\\\\\\operatorname{u_{2}}{\\left(t,x,y,z \\right)} + i \\operatorname{w_{2}}{\\left(t,x,y,z \\right)}\\end{matrix}\\right]$"
     },
     "metadata": {},
     "execution_count": 7
    }
   ]
  },
  {
   "source": [
    "weyl = subs_it(weyl_eq())\n",
    "weyl"
   ],
   "cell_type": "code",
   "metadata": {},
   "execution_count": 8,
   "outputs": [
    {
     "output_type": "execute_result",
     "data": {
      "text/plain": [
       "Matrix([\n",
       "[u_1t + u_1z + u_2x - I*u_2y + I*w_1t + I*w_1z + I*w_2x + w_2y],\n",
       "[u_1x + I*u_1y + u_2t - u_2z + I*w_1x - w_1y + I*w_2t - I*w_2z]])"
      ],
      "text/latex": "$\\displaystyle \\left[\\begin{matrix}u_{1t} + u_{1z} + u_{2x} - i u_{2y} + i w_{1t} + i w_{1z} + i w_{2x} + w_{2y}\\\\u_{1x} + i u_{1y} + u_{2t} - u_{2z} + i w_{1x} - w_{1y} + i w_{2t} - i w_{2z}\\end{matrix}\\right]$"
     },
     "metadata": {},
     "execution_count": 8
    }
   ]
  },
  {
   "source": [
    "weyl0 = subs_it(weyl[0])\n",
    "weyl1 = subs_it(weyl[1])"
   ],
   "cell_type": "code",
   "metadata": {},
   "execution_count": 9,
   "outputs": []
  },
  {
   "source": [
    "--------------------EQUATION 1--------------------"
   ],
   "cell_type": "markdown",
   "metadata": {}
  },
  {
   "source": [
    "eq1 = sp.simplify(weyl0).subs({sp.I:0})\n",
    "eq1"
   ],
   "cell_type": "code",
   "metadata": {},
   "execution_count": 10,
   "outputs": [
    {
     "output_type": "execute_result",
     "data": {
      "text/plain": [
       "u_1t + u_1z + u_2x + w_2y"
      ],
      "text/latex": "$\\displaystyle u_{1t} + u_{1z} + u_{2x} + w_{2y}$"
     },
     "metadata": {},
     "execution_count": 10
    }
   ]
  },
  {
   "source": [
    "pr1a = pr1(φ, u1, t)\n",
    "pr1b = pr1(φ, u1, z)\n",
    "pr1c = pr1(χ, u2, x)\n",
    "pr1d = pr1(ω, w2, y)"
   ],
   "cell_type": "code",
   "metadata": {},
   "execution_count": 11,
   "outputs": []
  },
  {
   "source": [
    "expr1 = subs_it(pr1a + pr1b + pr1c + pr1d) \n",
    "expr1 = sp.expand(expr1)\n",
    "expr1 = sp.expand(subs_parts(expr1))\n",
    "expr1 = sp.simplify(zero_coef(expr1))\n",
    "expr1"
   ],
   "cell_type": "code",
   "metadata": {},
   "execution_count": 27,
   "outputs": [
    {
     "output_type": "execute_result",
     "data": {
      "text/plain": [
       "-u_1x*φ_u2 + u_1x*χ_u1 - u_1x*Derivative(ξ(t, x, y, z, u_1, u_2, w_1, w_2), t) - u_1x*Derivative(ξ(t, x, y, z, u_1, u_2, w_1, w_2), z) + u_1x*Derivative(τ(t, x, y, z, u_1, u_2, w_1, w_2), x) - u_1y*φ_w2 + u_1y*ω_u1 - u_1y*Derivative(γ(t, x, y, z, u_1, u_2, w_1, w_2), t) - u_1y*Derivative(γ(t, x, y, z, u_1, u_2, w_1, w_2), z) + u_1y*Derivative(τ(t, x, y, z, u_1, u_2, w_1, w_2), y) - u_1z*Derivative(ζ(t, x, y, z, u_1, u_2, w_1, w_2), t) - u_1z*Derivative(ζ(t, x, y, z, u_1, u_2, w_1, w_2), z) + u_1z*Derivative(τ(t, x, y, z, u_1, u_2, w_1, w_2), t) + u_1z*Derivative(τ(t, x, y, z, u_1, u_2, w_1, w_2), z) - u_2x*φ_u1 + u_2x*χ_u2 - u_2x*Derivative(ξ(t, x, y, z, u_1, u_2, w_1, w_2), x) + u_2x*Derivative(τ(t, x, y, z, u_1, u_2, w_1, w_2), t) + u_2x*Derivative(τ(t, x, y, z, u_1, u_2, w_1, w_2), z) + u_2y*φ_w1 + u_2y*ω_u2 - u_2y*Derivative(γ(t, x, y, z, u_1, u_2, w_1, w_2), x) + 2*u_2z*φ_u2 - u_2z*Derivative(ζ(t, x, y, z, u_1, u_2, w_1, w_2), x) - u_2z*Derivative(τ(t, x, y, z, u_1, u_2, w_1, w_2), x) - w_1x*φ_w2 + w_1x*χ_w1 + w_1x*Derivative(τ(t, x, y, z, u_1, u_2, w_1, w_2), y) + w_1y*φ_u2 + w_1y*ω_w1 - w_1y*Derivative(τ(t, x, y, z, u_1, u_2, w_1, w_2), x) - w_2x*φ_w1 + w_2x*χ_w2 - w_2x*Derivative(ξ(t, x, y, z, u_1, u_2, w_1, w_2), y) - w_2y*φ_u1 + w_2y*ω_w2 - w_2y*Derivative(γ(t, x, y, z, u_1, u_2, w_1, w_2), y) + w_2y*Derivative(τ(t, x, y, z, u_1, u_2, w_1, w_2), t) + w_2y*Derivative(τ(t, x, y, z, u_1, u_2, w_1, w_2), z) + 2*w_2z*φ_w2 - w_2z*Derivative(ζ(t, x, y, z, u_1, u_2, w_1, w_2), y) - w_2z*Derivative(τ(t, x, y, z, u_1, u_2, w_1, w_2), y) + Derivative(φ(t, x, y, z, u_1, u_2, w_1, w_2), t) + Derivative(φ(t, x, y, z, u_1, u_2, w_1, w_2), z) + Derivative(χ(t, x, y, z, u_1, u_2, w_1, w_2), x) + Derivative(ω(t, x, y, z, u_1, u_2, w_1, w_2), y)"
      ],
      "text/latex": "$\\displaystyle - u_{1x} φ_{u2} + u_{1x} χ_{u1} - u_{1x} \\frac{\\partial}{\\partial t} ξ{\\left(t,x,y,z,u_{1},u_{2},w_{1},w_{2} \\right)} - u_{1x} \\frac{\\partial}{\\partial z} ξ{\\left(t,x,y,z,u_{1},u_{2},w_{1},w_{2} \\right)} + u_{1x} \\frac{\\partial}{\\partial x} τ{\\left(t,x,y,z,u_{1},u_{2},w_{1},w_{2} \\right)} - u_{1y} φ_{w2} + u_{1y} ω_{u1} - u_{1y} \\frac{\\partial}{\\partial t} γ{\\left(t,x,y,z,u_{1},u_{2},w_{1},w_{2} \\right)} - u_{1y} \\frac{\\partial}{\\partial z} γ{\\left(t,x,y,z,u_{1},u_{2},w_{1},w_{2} \\right)} + u_{1y} \\frac{\\partial}{\\partial y} τ{\\left(t,x,y,z,u_{1},u_{2},w_{1},w_{2} \\right)} - u_{1z} \\frac{\\partial}{\\partial t} ζ{\\left(t,x,y,z,u_{1},u_{2},w_{1},w_{2} \\right)} - u_{1z} \\frac{\\partial}{\\partial z} ζ{\\left(t,x,y,z,u_{1},u_{2},w_{1},w_{2} \\right)} + u_{1z} \\frac{\\partial}{\\partial t} τ{\\left(t,x,y,z,u_{1},u_{2},w_{1},w_{2} \\right)} + u_{1z} \\frac{\\partial}{\\partial z} τ{\\left(t,x,y,z,u_{1},u_{2},w_{1},w_{2} \\right)} - u_{2x} φ_{u1} + u_{2x} χ_{u2} - u_{2x} \\frac{\\partial}{\\partial x} ξ{\\left(t,x,y,z,u_{1},u_{2},w_{1},w_{2} \\right)} + u_{2x} \\frac{\\partial}{\\partial t} τ{\\left(t,x,y,z,u_{1},u_{2},w_{1},w_{2} \\right)} + u_{2x} \\frac{\\partial}{\\partial z} τ{\\left(t,x,y,z,u_{1},u_{2},w_{1},w_{2} \\right)} + u_{2y} φ_{w1} + u_{2y} ω_{u2} - u_{2y} \\frac{\\partial}{\\partial x} γ{\\left(t,x,y,z,u_{1},u_{2},w_{1},w_{2} \\right)} + 2 u_{2z} φ_{u2} - u_{2z} \\frac{\\partial}{\\partial x} ζ{\\left(t,x,y,z,u_{1},u_{2},w_{1},w_{2} \\right)} - u_{2z} \\frac{\\partial}{\\partial x} τ{\\left(t,x,y,z,u_{1},u_{2},w_{1},w_{2} \\right)} - w_{1x} φ_{w2} + w_{1x} χ_{w1} + w_{1x} \\frac{\\partial}{\\partial y} τ{\\left(t,x,y,z,u_{1},u_{2},w_{1},w_{2} \\right)} + w_{1y} φ_{u2} + w_{1y} ω_{w1} - w_{1y} \\frac{\\partial}{\\partial x} τ{\\left(t,x,y,z,u_{1},u_{2},w_{1},w_{2} \\right)} - w_{2x} φ_{w1} + w_{2x} χ_{w2} - w_{2x} \\frac{\\partial}{\\partial y} ξ{\\left(t,x,y,z,u_{1},u_{2},w_{1},w_{2} \\right)} - w_{2y} φ_{u1} + w_{2y} ω_{w2} - w_{2y} \\frac{\\partial}{\\partial y} γ{\\left(t,x,y,z,u_{1},u_{2},w_{1},w_{2} \\right)} + w_{2y} \\frac{\\partial}{\\partial t} τ{\\left(t,x,y,z,u_{1},u_{2},w_{1},w_{2} \\right)} + w_{2y} \\frac{\\partial}{\\partial z} τ{\\left(t,x,y,z,u_{1},u_{2},w_{1},w_{2} \\right)} + 2 w_{2z} φ_{w2} - w_{2z} \\frac{\\partial}{\\partial y} ζ{\\left(t,x,y,z,u_{1},u_{2},w_{1},w_{2} \\right)} - w_{2z} \\frac{\\partial}{\\partial y} τ{\\left(t,x,y,z,u_{1},u_{2},w_{1},w_{2} \\right)} + \\frac{\\partial}{\\partial t} φ{\\left(t,x,y,z,u_{1},u_{2},w_{1},w_{2} \\right)} + \\frac{\\partial}{\\partial z} φ{\\left(t,x,y,z,u_{1},u_{2},w_{1},w_{2} \\right)} + \\frac{\\partial}{\\partial x} χ{\\left(t,x,y,z,u_{1},u_{2},w_{1},w_{2} \\right)} + \\frac{\\partial}{\\partial y} ω{\\left(t,x,y,z,u_{1},u_{2},w_{1},w_{2} \\right)}$"
     },
     "metadata": {},
     "execution_count": 27
    }
   ]
  },
  {
   "source": [
    "sym1"
   ],
   "cell_type": "code",
   "metadata": {},
   "execution_count": 28,
   "outputs": [
    {
     "output_type": "execute_result",
     "data": {
      "text/plain": [
       "array([[u_1t, u_1x, u_1y, u_1z],\n",
       "       [u_2t, u_2x, u_2y, u_2z],\n",
       "       [w_1t, w_1x, w_1y, w_1z],\n",
       "       [w_2t, w_2x, w_2y, w_2z]], dtype=object)"
      ]
     },
     "metadata": {},
     "execution_count": 28
    }
   ]
  },
  {
   "source": [
    "#Coef 1:\n",
    "expr_one = expr1.copy()\n",
    "for k in range(0, 4):\n",
    "    for l in range(1, 4):\n",
    "        expr_one = expr_one.subs( sym1[k, l], 0 )\n",
    "expr_one"
   ],
   "cell_type": "code",
   "metadata": {},
   "execution_count": 39,
   "outputs": [
    {
     "output_type": "execute_result",
     "data": {
      "text/plain": [
       "Derivative(φ(t, x, y, z, u_1, u_2, w_1, w_2), t) + Derivative(φ(t, x, y, z, u_1, u_2, w_1, w_2), z) + Derivative(χ(t, x, y, z, u_1, u_2, w_1, w_2), x) + Derivative(ω(t, x, y, z, u_1, u_2, w_1, w_2), y)"
      ],
      "text/latex": "$\\displaystyle \\frac{\\partial}{\\partial t} φ{\\left(t,x,y,z,u_{1},u_{2},w_{1},w_{2} \\right)} + \\frac{\\partial}{\\partial z} φ{\\left(t,x,y,z,u_{1},u_{2},w_{1},w_{2} \\right)} + \\frac{\\partial}{\\partial x} χ{\\left(t,x,y,z,u_{1},u_{2},w_{1},w_{2} \\right)} + \\frac{\\partial}{\\partial y} ω{\\left(t,x,y,z,u_{1},u_{2},w_{1},w_{2} \\right)}$"
     },
     "metadata": {},
     "execution_count": 39
    }
   ]
  },
  {
   "source": [
    "lista1 = []\n",
    "for k in range(0, 4):\n",
    "    for l in range(1, 4):\n",
    "        expr_zer = expr1.copy() - expr_one\n",
    "        for i in range(0, 4):\n",
    "            for j in range(1, 4):\n",
    "                if sym1[i, j] != sym1[k, l]:\n",
    "                    expr_zer = expr_zer.subs( sym1[i, j], 0 )\n",
    "        expr_zer = subs_der(expr_zer)\n",
    "        lista1.append(expr_zer)\n",
    "lista1.append(subs_der(expr_one))\n",
    "lista1.remove(0)"
   ],
   "cell_type": "code",
   "metadata": {},
   "execution_count": 54,
   "outputs": []
  },
  {
   "source": [
    "sp.Matrix(lista1)"
   ],
   "cell_type": "code",
   "metadata": {},
   "execution_count": 55,
   "outputs": [
    {
     "output_type": "execute_result",
     "data": {
      "text/plain": [
       "Matrix([\n",
       "[-u_1x*ξ_t - u_1x*ξ_z + u_1x*τ_x - u_1x*φ_u2 + u_1x*χ_u1],\n",
       "[-u_1y*γ_t - u_1y*γ_z + u_1y*τ_y - u_1y*φ_w2 + u_1y*ω_u1],\n",
       "[             -u_1z*ζ_t - u_1z*ζ_z + u_1z*τ_t + u_1z*τ_z],\n",
       "[-u_2x*ξ_x + u_2x*τ_t + u_2x*τ_z - u_2x*φ_u1 + u_2x*χ_u2],\n",
       "[                      -u_2y*γ_x + u_2y*φ_w1 + u_2y*ω_u2],\n",
       "[                     -u_2z*ζ_x - u_2z*τ_x + 2*u_2z*φ_u2],\n",
       "[                       w_1x*τ_y - w_1x*φ_w2 + w_1x*χ_w1],\n",
       "[                      -w_1y*τ_x + w_1y*φ_u2 + w_1y*ω_w1],\n",
       "[                      -w_2x*ξ_y - w_2x*φ_w1 + w_2x*χ_w2],\n",
       "[-w_2y*γ_y + w_2y*τ_t + w_2y*τ_z - w_2y*φ_u1 + w_2y*ω_w2],\n",
       "[                     -w_2z*ζ_y - w_2z*τ_y + 2*w_2z*φ_w2],\n",
       "[                                  φ_t + φ_z + χ_x + ω_y]])"
      ],
      "text/latex": "$\\displaystyle \\left[\\begin{matrix}- u_{1x} ξ_{t} - u_{1x} ξ_{z} + u_{1x} τ_{x} - u_{1x} φ_{u2} + u_{1x} χ_{u1}\\\\- u_{1y} γ_{t} - u_{1y} γ_{z} + u_{1y} τ_{y} - u_{1y} φ_{w2} + u_{1y} ω_{u1}\\\\- u_{1z} ζ_{t} - u_{1z} ζ_{z} + u_{1z} τ_{t} + u_{1z} τ_{z}\\\\- u_{2x} ξ_{x} + u_{2x} τ_{t} + u_{2x} τ_{z} - u_{2x} φ_{u1} + u_{2x} χ_{u2}\\\\- u_{2y} γ_{x} + u_{2y} φ_{w1} + u_{2y} ω_{u2}\\\\- u_{2z} ζ_{x} - u_{2z} τ_{x} + 2 u_{2z} φ_{u2}\\\\w_{1x} τ_{y} - w_{1x} φ_{w2} + w_{1x} χ_{w1}\\\\- w_{1y} τ_{x} + w_{1y} φ_{u2} + w_{1y} ω_{w1}\\\\- w_{2x} ξ_{y} - w_{2x} φ_{w1} + w_{2x} χ_{w2}\\\\- w_{2y} γ_{y} + w_{2y} τ_{t} + w_{2y} τ_{z} - w_{2y} φ_{u1} + w_{2y} ω_{w2}\\\\- w_{2z} ζ_{y} - w_{2z} τ_{y} + 2 w_{2z} φ_{w2}\\\\φ_{t} + φ_{z} + χ_{x} + ω_{y}\\end{matrix}\\right]$"
     },
     "metadata": {},
     "execution_count": 55
    }
   ]
  },
  {
   "source": [
    "expr_zer = expr1.copy()\n",
    "for i in range(0, 4):\n",
    "    for j in range(1, 4):\n",
    "        if sym1[i, j] != w2y:\n",
    "            expr_zer = expr_zer.subs( sym1[i, j], 0 )\n",
    "expr_zer"
   ],
   "cell_type": "code",
   "metadata": {},
   "execution_count": 29,
   "outputs": [
    {
     "output_type": "execute_result",
     "data": {
      "text/plain": [
       "-w_2y*φ_u1 + w_2y*ω_w2 - w_2y*Derivative(γ(t, x, y, z, u_1, u_2, w_1, w_2), y) + w_2y*Derivative(τ(t, x, y, z, u_1, u_2, w_1, w_2), t) + w_2y*Derivative(τ(t, x, y, z, u_1, u_2, w_1, w_2), z) + Derivative(φ(t, x, y, z, u_1, u_2, w_1, w_2), t) + Derivative(φ(t, x, y, z, u_1, u_2, w_1, w_2), z) + Derivative(χ(t, x, y, z, u_1, u_2, w_1, w_2), x) + Derivative(ω(t, x, y, z, u_1, u_2, w_1, w_2), y)"
      ],
      "text/latex": "$\\displaystyle - w_{2y} φ_{u1} + w_{2y} ω_{w2} - w_{2y} \\frac{\\partial}{\\partial y} γ{\\left(t,x,y,z,u_{1},u_{2},w_{1},w_{2} \\right)} + w_{2y} \\frac{\\partial}{\\partial t} τ{\\left(t,x,y,z,u_{1},u_{2},w_{1},w_{2} \\right)} + w_{2y} \\frac{\\partial}{\\partial z} τ{\\left(t,x,y,z,u_{1},u_{2},w_{1},w_{2} \\right)} + \\frac{\\partial}{\\partial t} φ{\\left(t,x,y,z,u_{1},u_{2},w_{1},w_{2} \\right)} + \\frac{\\partial}{\\partial z} φ{\\left(t,x,y,z,u_{1},u_{2},w_{1},w_{2} \\right)} + \\frac{\\partial}{\\partial x} χ{\\left(t,x,y,z,u_{1},u_{2},w_{1},w_{2} \\right)} + \\frac{\\partial}{\\partial y} ω{\\left(t,x,y,z,u_{1},u_{2},w_{1},w_{2} \\right)}$"
     },
     "metadata": {},
     "execution_count": 29
    }
   ]
  },
  {
   "cell_type": "code",
   "execution_count": 18,
   "metadata": {},
   "outputs": [
    {
     "output_type": "execute_result",
     "data": {
      "text/plain": [
       "Derivative(u_1(t, x, y, z), x)*Derivative(ξ(t, x, y, z, u_1(t, x, y, z), u_2(t, x, y, z), w_1(t, x, y, z), w_2(t, x, y, z)), u_1(t, x, y, z)) + Derivative(u_2(t, x, y, z), x)*Derivative(ξ(t, x, y, z, u_1(t, x, y, z), u_2(t, x, y, z), w_1(t, x, y, z), w_2(t, x, y, z)), u_2(t, x, y, z)) + Derivative(w_1(t, x, y, z), x)*Derivative(ξ(t, x, y, z, u_1(t, x, y, z), u_2(t, x, y, z), w_1(t, x, y, z), w_2(t, x, y, z)), w_1(t, x, y, z)) + Derivative(w_2(t, x, y, z), x)*Derivative(ξ(t, x, y, z, u_1(t, x, y, z), u_2(t, x, y, z), w_1(t, x, y, z), w_2(t, x, y, z)), w_2(t, x, y, z)) + Subs(Derivative(ξ(t, _xi_2, y, z, u_1(t, x, y, z), u_2(t, x, y, z), w_1(t, x, y, z), w_2(t, x, y, z)), _xi_2), _xi_2, x)"
      ],
      "text/latex": "$\\displaystyle \\frac{\\partial}{\\partial x} \\operatorname{u_{1}}{\\left(t,x,y,z \\right)} \\frac{\\partial}{\\partial \\operatorname{u_{1}}{\\left(t,x,y,z \\right)}} ξ{\\left(t,x,y,z,\\operatorname{u_{1}}{\\left(t,x,y,z \\right)},\\operatorname{u_{2}}{\\left(t,x,y,z \\right)},\\operatorname{w_{1}}{\\left(t,x,y,z \\right)},\\operatorname{w_{2}}{\\left(t,x,y,z \\right)} \\right)} + \\frac{\\partial}{\\partial x} \\operatorname{u_{2}}{\\left(t,x,y,z \\right)} \\frac{\\partial}{\\partial \\operatorname{u_{2}}{\\left(t,x,y,z \\right)}} ξ{\\left(t,x,y,z,\\operatorname{u_{1}}{\\left(t,x,y,z \\right)},\\operatorname{u_{2}}{\\left(t,x,y,z \\right)},\\operatorname{w_{1}}{\\left(t,x,y,z \\right)},\\operatorname{w_{2}}{\\left(t,x,y,z \\right)} \\right)} + \\frac{\\partial}{\\partial x} \\operatorname{w_{1}}{\\left(t,x,y,z \\right)} \\frac{\\partial}{\\partial \\operatorname{w_{1}}{\\left(t,x,y,z \\right)}} ξ{\\left(t,x,y,z,\\operatorname{u_{1}}{\\left(t,x,y,z \\right)},\\operatorname{u_{2}}{\\left(t,x,y,z \\right)},\\operatorname{w_{1}}{\\left(t,x,y,z \\right)},\\operatorname{w_{2}}{\\left(t,x,y,z \\right)} \\right)} + \\frac{\\partial}{\\partial x} \\operatorname{w_{2}}{\\left(t,x,y,z \\right)} \\frac{\\partial}{\\partial \\operatorname{w_{2}}{\\left(t,x,y,z \\right)}} ξ{\\left(t,x,y,z,\\operatorname{u_{1}}{\\left(t,x,y,z \\right)},\\operatorname{u_{2}}{\\left(t,x,y,z \\right)},\\operatorname{w_{1}}{\\left(t,x,y,z \\right)},\\operatorname{w_{2}}{\\left(t,x,y,z \\right)} \\right)} + \\left. \\frac{\\partial}{\\partial \\xi_{2}} ξ{\\left(t,\\xi_{2},y,z,\\operatorname{u_{1}}{\\left(t,x,y,z \\right)},\\operatorname{u_{2}}{\\left(t,x,y,z \\right)},\\operatorname{w_{1}}{\\left(t,x,y,z \\right)},\\operatorname{w_{2}}{\\left(t,x,y,z \\right)} \\right)} \\right|_{\\substack{ \\xi_{2}=x }}$"
     },
     "metadata": {},
     "execution_count": 18
    }
   ],
   "source": [
    "exp = sp.diff(ξ, x)\n",
    "exp"
   ]
  },
  {
   "cell_type": "code",
   "execution_count": 19,
   "metadata": {},
   "outputs": [
    {
     "output_type": "execute_result",
     "data": {
      "text/plain": [
       "u_1x*ξ_u1 + u_2x*ξ_u2 + w_1x*ξ_w1 + w_2x*ξ_w2 + Derivative(ξ(t, x, y, z, u_1, u_2, w_1, w_2), x)"
      ],
      "text/latex": "$\\displaystyle u_{1x} ξ_{u1} + u_{2x} ξ_{u2} + w_{1x} ξ_{w1} + w_{2x} ξ_{w2} + \\frac{\\partial}{\\partial x} ξ{\\left(t,x,y,z,u_{1},u_{2},w_{1},w_{2} \\right)}$"
     },
     "metadata": {},
     "execution_count": 19
    }
   ],
   "source": [
    "exp = subs_it(exp)\n",
    "exp"
   ]
  },
  {
   "cell_type": "code",
   "execution_count": 20,
   "metadata": {},
   "outputs": [
    {
     "output_type": "execute_result",
     "data": {
      "text/plain": [
       "u_1x*ξ_u1 + u_2x*ξ_u2 + w_1x*ξ_w1 + w_2x*ξ_w2 + ξ_x"
      ],
      "text/latex": "$\\displaystyle u_{1x} ξ_{u1} + u_{2x} ξ_{u2} + w_{1x} ξ_{w1} + w_{2x} ξ_{w2} + ξ_{x}$"
     },
     "metadata": {},
     "execution_count": 20
    }
   ],
   "source": [
    "exp = subs_der(exp)\n",
    "exp"
   ]
  },
  {
   "source": [
    "u1 = sp.symbols(\"u_1\")\n",
    "u2 = sp.symbols(\"u_2\")\n",
    "w1 = sp.symbols(\"w_1\")\n",
    "w2 = sp.symbols(\"w_2\")\n",
    "τ = sp.Function(\"τ\")(t, x, y, z, u1, u2, w1, w2)\n",
    "ξ = sp.Function(\"ξ\")(t, x, y, z, u1, u2, w1, w2)\n",
    "γ = sp.Function(\"γ\")(t, x, y, z, u1, u2, w1, w2)\n",
    "ζ = sp.Function(\"ζ\")(t, x, y, z, u1, u2, w1, w2)"
   ],
   "cell_type": "code",
   "metadata": {},
   "execution_count": 21,
   "outputs": []
  },
  {
   "cell_type": "code",
   "execution_count": 22,
   "metadata": {},
   "outputs": [
    {
     "output_type": "execute_result",
     "data": {
      "text/plain": [
       "u_1x*ξ_u1 + u_2x*ξ_u2 + w_1x*ξ_w1 + w_2x*ξ_w2 + ξ_x"
      ],
      "text/latex": "$\\displaystyle u_{1x} ξ_{u1} + u_{2x} ξ_{u2} + w_{1x} ξ_{w1} + w_{2x} ξ_{w2} + ξ_{x}$"
     },
     "metadata": {},
     "execution_count": 22
    }
   ],
   "source": [
    "exp.subs(sp.Derivative(ξ, x), sp.symbols(\"ξ_x\"))"
   ]
  },
  {
   "cell_type": "code",
   "execution_count": null,
   "metadata": {},
   "outputs": [],
   "source": []
  }
 ]
}