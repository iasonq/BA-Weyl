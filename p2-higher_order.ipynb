{
 "metadata": {
  "language_info": {
   "codemirror_mode": {
    "name": "ipython",
    "version": 3
   },
   "file_extension": ".py",
   "mimetype": "text/x-python",
   "name": "python",
   "nbconvert_exporter": "python",
   "pygments_lexer": "ipython3",
   "version": "3.8.8"
  },
  "orig_nbformat": 4,
  "kernelspec": {
   "name": "python3",
   "display_name": "Python 3.8.8 64-bit ('gp-env': conda)"
  },
  "interpreter": {
   "hash": "3aff35d366b980e568cc03d2d00c83eac08dd05ed9a824e247edc85e357eb300"
  }
 },
 "nbformat": 4,
 "nbformat_minor": 2,
 "cells": [
  {
   "cell_type": "code",
   "execution_count": 1,
   "metadata": {},
   "outputs": [],
   "source": [
    "\n",
    "import numpy as np \n",
    "import sympy as sp \n"
   ]
  },
  {
   "cell_type": "code",
   "execution_count": 2,
   "metadata": {},
   "outputs": [],
   "source": [
    "from functions2 import *"
   ]
  },
  {
   "cell_type": "code",
   "execution_count": 3,
   "metadata": {},
   "outputs": [],
   "source": [
    "\n",
    "t, x, y, z, c = sp.symbols(\"t x y z c\")\n",
    "u1, u2, w1, w2 = sp.symbols(\"u1, u2, w1, w2\")\n",
    "τ, ξ, γ, ζ = sp.symbols(\"τ, ξ, γ, ζ\")\n",
    "φ, χ, ψ, ω = sp.symbols(\"φ, χ, ψ, ω\")\n",
    "lvar = [t, x, y, z]\n",
    "lwlf = sp.Matrix([u1, u2, w1, w2])\n",
    "var = sp.Matrix([1, t, x, y, z])\n",
    "\n",
    "q, p = sp.symbols(\"q p\")\n",
    "\n",
    "β0 = sp.Function(\"β_0\")(t, x, y, z)\n",
    "β1 = sp.Function(\"β_1\")(t, x, y, z)\n",
    "β2 = sp.Function(\"β_2\")(t, x, y, z)\n",
    "β3 = sp.Function(\"β_3\")(t, x, y, z) \n"
   ]
  },
  {
   "cell_type": "code",
   "execution_count": 55,
   "metadata": {},
   "outputs": [],
   "source": [
    "#Constants in case needed\n",
    "k = [   sp.symbols(f\"{symbol}_{index}\")\n",
    "        for symbol in (\"k\")\n",
    "        for index in range(0, 15)\n",
    "        ]\n",
    "#Constants used for φ,χ,ψ,ω\n",
    "f = [   sp.symbols(f\"{symbol}_{index}\")\n",
    "        for symbol in (\"f\")\n",
    "        for index in range(0, 15)\n",
    "        ]\n",
    "n = [   sp.symbols(f\"{symbol}_{index}\")\n",
    "        for symbol in (\"n\")\n",
    "        for index in range(0, 4)\n",
    "        ]\n",
    "#Symbols used to represent the partial derivatives of the vector fields\n",
    "der = [\n",
    "        sp.symbols(f\"{symbol}_{index}\")\n",
    "        for symbol in (\"δ\")\n",
    "        for index in (\"t\", \"x\", \"y\", \"z\", \"u1\", \"u2\", \"w1\", \"w2\")\n",
    "        ]"
   ]
  },
  {
   "cell_type": "code",
   "execution_count": 5,
   "metadata": {},
   "outputs": [],
   "source": [
    "def clear_zer_tn(exp):\n",
    "    s = np.size(exp)\n",
    "    l = []\n",
    "    for i in range(0, s):\n",
    "        if exp[i] != 0:\n",
    "            l.append(exp[i])\n",
    "    #l = np.array(l)\n",
    "    return l"
   ]
  },
  {
   "cell_type": "code",
   "execution_count": 6,
   "metadata": {},
   "outputs": [],
   "source": [
    "def listify(expr):\n",
    "    l = []\n",
    "    for i in expr:\n",
    "        l.append(i)\n",
    "    return l"
   ]
  },
  {
   "cell_type": "code",
   "execution_count": 7,
   "metadata": {},
   "outputs": [],
   "source": [
    "def comb(τ, ξ, γ, ζ):\n",
    "    return sp.Matrix([τ, ξ, γ, ζ])\n",
    "def uncomb(eqs):\n",
    "    return eqs[0], eqs[1], eqs[2], eqs[3]"
   ]
  },
  {
   "cell_type": "code",
   "execution_count": 8,
   "metadata": {},
   "outputs": [
    {
     "output_type": "execute_result",
     "data": {
      "text/plain": [
       "Matrix([\n",
       "[1,    t,    x,    y,    z],\n",
       "[t, t**2,  t*x,  t*y,  t*z],\n",
       "[x,  t*x, x**2,  x*y,  x*z],\n",
       "[y,  t*y,  x*y, y**2,  y*z],\n",
       "[z,  t*z,  x*z,  y*z, z**2]])"
      ],
      "text/latex": "$\\displaystyle \\left[\\begin{matrix}1 & t & x & y & z\\\\t & t^{2} & t x & t y & t z\\\\x & t x & x^{2} & x y & x z\\\\y & t y & x y & y^{2} & y z\\\\z & t z & x z & y z & z^{2}\\end{matrix}\\right]$"
     },
     "metadata": {},
     "execution_count": 8
    }
   ],
   "source": [
    "grid = var*var.T\n",
    "grid"
   ]
  },
  {
   "cell_type": "code",
   "execution_count": 9,
   "metadata": {},
   "outputs": [
    {
     "output_type": "execute_result",
     "data": {
      "text/plain": [
       "Matrix([\n",
       "[   1,   t,    x,   y,    z],\n",
       "[t**2, t*x,  t*y, t*z, x**2],\n",
       "[ x*y, x*z, y**2, y*z, z**2]])"
      ],
      "text/latex": "$\\displaystyle \\left[\\begin{matrix}1 & t & x & y & z\\\\t^{2} & t x & t y & t z & x^{2}\\\\x y & x z & y^{2} & y z & z^{2}\\end{matrix}\\right]$"
     },
     "metadata": {},
     "execution_count": 9
    }
   ],
   "source": [
    "gvar = sp.Matrix( clear_zer_tn ( rm_red_t(  flatten(grid))))\n",
    "gvar.reshape(3, 5)"
   ]
  },
  {
   "cell_type": "code",
   "execution_count": 10,
   "metadata": {},
   "outputs": [],
   "source": [
    "lc0 = [\n",
    "        sp.symbols(f\"{symbol}_{index}\")\n",
    "        for symbol in (\"a\")\n",
    "        for index in range(0, 15)\n",
    "        ]\n",
    "lc1 = [\n",
    "        sp.symbols(f\"{symbol}_{index}\")\n",
    "        for symbol in (\"b\")\n",
    "        for index in range(0, 15)\n",
    "        ]\n",
    "lc2 = [\n",
    "        sp.symbols(f\"{symbol}_{index}\")\n",
    "        for symbol in (\"c\")\n",
    "        for index in range(0, 15)\n",
    "        ]\n",
    "lc3 = [\n",
    "        sp.symbols(f\"{symbol}_{index}\")\n",
    "        for symbol in (\"d\")\n",
    "        for index in range(0, 15)\n",
    "        ]\n",
    "lc = lc0+lc1+lc2+lc3"
   ]
  },
  {
   "cell_type": "code",
   "execution_count": 11,
   "metadata": {},
   "outputs": [],
   "source": [
    "#Generate the Ansatz of 2nd order polynomial for our functions\n",
    "τ = sp.Matrix(lc0).T*gvar\n",
    "ξ = sp.Matrix(lc1).T*gvar\n",
    "γ = sp.Matrix(lc2).T*gvar\n",
    "ζ = sp.Matrix(lc3).T*gvar"
   ]
  },
  {
   "cell_type": "code",
   "execution_count": 12,
   "metadata": {},
   "outputs": [],
   "source": [
    "#Set certain combations to 0 we have found not to appear\n",
    "dicti = {\n",
    "    lc1[13]:0,\n",
    "    lc2[11]:0,\n",
    "    lc3[10]:0,\n",
    "}"
   ]
  },
  {
   "cell_type": "code",
   "execution_count": 13,
   "metadata": {},
   "outputs": [
    {
     "output_type": "execute_result",
     "data": {
      "text/plain": [
       "Matrix([\n",
       "[a_0 + a_1*t + a_10*x*y + a_11*x*z + a_12*y**2 + a_13*y*z + a_14*z**2 + a_2*x + a_3*y + a_4*z + a_5*t**2 + a_6*t*x + a_7*t*y + a_8*t*z + a_9*x**2],\n",
       "[           b_0 + b_1*t + b_10*x*y + b_11*x*z + b_12*y**2 + b_14*z**2 + b_2*x + b_3*y + b_4*z + b_5*t**2 + b_6*t*x + b_7*t*y + b_8*t*z + b_9*x**2],\n",
       "[           c_0 + c_1*t + c_10*x*y + c_12*y**2 + c_13*y*z + c_14*z**2 + c_2*x + c_3*y + c_4*z + c_5*t**2 + c_6*t*x + c_7*t*y + c_8*t*z + c_9*x**2],\n",
       "[           d_0 + d_1*t + d_11*x*z + d_12*y**2 + d_13*y*z + d_14*z**2 + d_2*x + d_3*y + d_4*z + d_5*t**2 + d_6*t*x + d_7*t*y + d_8*t*z + d_9*x**2]])"
      ],
      "text/latex": "$\\displaystyle \\left[\\begin{matrix}a_{0} + a_{1} t + a_{10} x y + a_{11} x z + a_{12} y^{2} + a_{13} y z + a_{14} z^{2} + a_{2} x + a_{3} y + a_{4} z + a_{5} t^{2} + a_{6} t x + a_{7} t y + a_{8} t z + a_{9} x^{2}\\\\b_{0} + b_{1} t + b_{10} x y + b_{11} x z + b_{12} y^{2} + b_{14} z^{2} + b_{2} x + b_{3} y + b_{4} z + b_{5} t^{2} + b_{6} t x + b_{7} t y + b_{8} t z + b_{9} x^{2}\\\\c_{0} + c_{1} t + c_{10} x y + c_{12} y^{2} + c_{13} y z + c_{14} z^{2} + c_{2} x + c_{3} y + c_{4} z + c_{5} t^{2} + c_{6} t x + c_{7} t y + c_{8} t z + c_{9} x^{2}\\\\d_{0} + d_{1} t + d_{11} x z + d_{12} y^{2} + d_{13} y z + d_{14} z^{2} + d_{2} x + d_{3} y + d_{4} z + d_{5} t^{2} + d_{6} t x + d_{7} t y + d_{8} t z + d_{9} x^{2}\\end{matrix}\\right]$"
     },
     "metadata": {},
     "execution_count": 13
    }
   ],
   "source": [
    "eqs = comb(τ, ξ, γ, ζ).subs(dicti)\n",
    "eqs"
   ]
  },
  {
   "cell_type": "code",
   "execution_count": 14,
   "metadata": {},
   "outputs": [],
   "source": [
    "#This would be the sorting/mapping function\n",
    "#deprecated apparently\n",
    "def sort_poly(expr, sym):\n",
    "    #sym = lvar\n",
    "    #obtain the constant part of the expression\n",
    "    const = expr.copy()\n",
    "    for i in sym:\n",
    "        const = const.subs( i , 0 )\n",
    "\n",
    "    lista = []\n",
    "    lista.append(const)\n",
    "    #substract the constant part every time\n",
    "    for i in sym:\n",
    "        expr_zer = expr.copy() - const\n",
    "        for j in sym:\n",
    "            #substitute all coefficient with 0\n",
    "            #except the one we are interested in\n",
    "            if i != j:\n",
    "                expr_zer = expr_zer.subs( j, 0 )\n",
    "        #replace the coefficient we are interested in with 1\n",
    "        #to obtain a clean final expression\n",
    "        expr_zer = expr_zer.subs( i , 1 )\n",
    "        lista.append(expr_zer)\n",
    "    return lista\n"
   ]
  },
  {
   "cell_type": "code",
   "execution_count": 15,
   "metadata": {},
   "outputs": [],
   "source": [
    "#Make a dictionary out of paired coefficients or alone standing ones. Works in case of 0,1,2 coefficients together. \n",
    "#In this specific case scenario, it's the only amount we expect to encounter anyways\n",
    "def mkdic(expr, lcons):\n",
    "    dic = {}\n",
    "    c = []\n",
    "    for i in lcons:\n",
    "        if expr.has(i):\n",
    "            c.append(i)\n",
    "    if len(c) == 1:\n",
    "        dic.update({c[0]:0})\n",
    "    elif len(c) != 0: \n",
    "        #make it for ANY length?\n",
    "        #print size, to check if its necessary. for more coefficients its easy to implement actually.\n",
    "        print(np.size(c))\n",
    "        poly = sp.Poly(expr, c[0], c[1])\n",
    "        coef = poly.coeffs()\n",
    "        dic.update({ c[1] : -1 * ( coef[0]/coef[1] ) * c[0] })\n",
    "    else:\n",
    "        print(\"No constant found\")\n",
    "    return dic"
   ]
  },
  {
   "cell_type": "code",
   "execution_count": 16,
   "metadata": {},
   "outputs": [],
   "source": [
    "#Create the dictionary for an expression \n",
    "def comp( expr, lvar, lc, dicti):\n",
    "    #p = sort_poly(p, lvar)\n",
    "    #i use the variables t,x,y,z as generators for the polynomial\n",
    "    p = sp.Poly(expr, *lvar)\n",
    "    p = p.coeffs()\n",
    "    #p now is a list with expressions in each entry with 0,1 or 2 symbols added/subtracted. \n",
    "    #Thats why mkdic processes each entry of this list separately\n",
    "    s = np.size(p)\n",
    "    dic = {}\n",
    "    for i in range(0, s):\n",
    "        dic.update( mkdic( p[i], lc) )\n",
    "    dicti.update(dic)\n",
    "    return dicti"
   ]
  },
  {
   "source": [
    "#Let's make a generalized make_dictionary_function\n",
    "#Input is a polynomial which is the result of comparing two derivatives of functions\n",
    "#Something like τ_x = ξ_y , in this simple case it's just 2 constants always because of the order.\n",
    "#But for later when we have τ_x + ξ_y + φ_w2 = 0 or τ_y + φ_u1 + χ_u2 = 0 we will need something more elaborate.\n",
    "#obsolete?\n",
    "def comp_t( expr, lvar, lc, dicti):\n",
    "    #i use the variables t,x,y,z as generators for the polynomial\n",
    "    p = sp.Poly(expr, *lvar)\n",
    "    p = p.coeffs()\n",
    "    #p now is a list with expressions, the coefficients of t,x,y,z. Those are expressions like f1-f2+k2 etc.\n",
    "    #Thats why mkdic processes each entry of this list separately\n",
    "    \n",
    "    s = np.size(p)\n",
    "    dic = {}\n",
    "    \n",
    "    for i in range(0, s):\n",
    "        \n",
    "        c = []\n",
    "        \n",
    "        for j in lc:\n",
    "            if p[i].has(j):\n",
    "                c.append(j)\n",
    "        \n",
    "        if len(c) == 1:\n",
    "            dic.update({c[0]:0})\n",
    "\n",
    "        elif len(c) != 0: \n",
    "            #make it for ANY length?\n",
    "            #print size, to check if its necessary. for more coefficients its easy to implement actually.\n",
    "            print(np.size(c))\n",
    "\n",
    "            poly = sp.Poly(p[i], *c)\n",
    "            coef = poly.coeffs()\n",
    "            dic.update({ c[0] : -1*(np.sum( np.array(coef[1:])*np.array(c[1:]) ) )/coef[0] })\n",
    "        else:\n",
    "            print(\"No constant found\")\n",
    "    \n",
    "    return dic\n"
   ],
   "cell_type": "code",
   "metadata": {},
   "execution_count": 17,
   "outputs": []
  },
  {
   "cell_type": "code",
   "execution_count": 18,
   "metadata": {},
   "outputs": [],
   "source": [
    "def lie_alg(expr1, expr2, der, dic):\n",
    "    coef = []\n",
    "    for i in der:\n",
    "        if expr1.has(i):\n",
    "            coef.append(i)\n",
    "    #list with the derivatives\n",
    "    pol = sp.Poly(expr1, *der)\n",
    "    pol = pol.coeffs()\n",
    "    #list with the coefficients of the derivatives\n",
    "    s = np.size(pol)\n",
    "    for i in range(0, s):\n",
    "        pol[i] = pol[i]*( coef[i].subs( coef[i], sp.diff( expr2 , dic[ coef[i] ]  ) ) )\n",
    "        #this simulates v_1*v_2 with the derivative applied.\n",
    "    return np.sum(pol)"
   ]
  },
  {
   "cell_type": "code",
   "execution_count": 19,
   "metadata": {},
   "outputs": [],
   "source": [
    "#Kinda late to implement this but whatever. Didn't use it at all.\n",
    "def commutator(expr1, expr2, der, dic):\n",
    "    comm = lieg_alg(expr1, expr2, der, dic) - lieg_alg(expr2, expr1, der, dic)\n",
    "    return comm"
   ]
  },
  {
   "cell_type": "code",
   "execution_count": 20,
   "metadata": {},
   "outputs": [],
   "source": [
    "def systemize(expr, lc, lvar):\n",
    "    sys = sp.Poly(expr, *lvar).coeffs()\n",
    "    has = []\n",
    "    for i in lc:\n",
    "        if expr.has(i) == True:\n",
    "            has.append(i)\n",
    "    return sys, has"
   ]
  },
  {
   "cell_type": "code",
   "execution_count": 21,
   "metadata": {},
   "outputs": [],
   "source": [
    "dic = {}"
   ]
  },
  {
   "cell_type": "code",
   "execution_count": 22,
   "metadata": {},
   "outputs": [
    {
     "output_type": "execute_result",
     "data": {
      "text/plain": [
       "Matrix([\n",
       "[a_0 + a_1*t + a_10*x*y + a_11*x*z + a_12*y**2 + a_13*y*z + a_14*z**2 + a_2*x + a_3*y + a_4*z + a_5*t**2 + a_6*t*x + a_7*t*y + a_8*t*z + a_9*x**2],\n",
       "[           b_0 + b_1*t + b_10*x*y + b_11*x*z + b_12*y**2 + b_14*z**2 + b_2*x + b_3*y + b_4*z + b_5*t**2 + b_6*t*x + b_7*t*y + b_8*t*z + b_9*x**2],\n",
       "[           c_0 + c_1*t + c_10*x*y + c_12*y**2 + c_13*y*z + c_14*z**2 + c_2*x + c_3*y + c_4*z + c_5*t**2 + c_6*t*x + c_7*t*y + c_8*t*z + c_9*x**2],\n",
       "[           d_0 + d_1*t + d_11*x*z + d_12*y**2 + d_13*y*z + d_14*z**2 + d_2*x + d_3*y + d_4*z + d_5*t**2 + d_6*t*x + d_7*t*y + d_8*t*z + d_9*x**2]])"
      ],
      "text/latex": "$\\displaystyle \\left[\\begin{matrix}a_{0} + a_{1} t + a_{10} x y + a_{11} x z + a_{12} y^{2} + a_{13} y z + a_{14} z^{2} + a_{2} x + a_{3} y + a_{4} z + a_{5} t^{2} + a_{6} t x + a_{7} t y + a_{8} t z + a_{9} x^{2}\\\\b_{0} + b_{1} t + b_{10} x y + b_{11} x z + b_{12} y^{2} + b_{14} z^{2} + b_{2} x + b_{3} y + b_{4} z + b_{5} t^{2} + b_{6} t x + b_{7} t y + b_{8} t z + b_{9} x^{2}\\\\c_{0} + c_{1} t + c_{10} x y + c_{12} y^{2} + c_{13} y z + c_{14} z^{2} + c_{2} x + c_{3} y + c_{4} z + c_{5} t^{2} + c_{6} t x + c_{7} t y + c_{8} t z + c_{9} x^{2}\\\\d_{0} + d_{1} t + d_{11} x z + d_{12} y^{2} + d_{13} y z + d_{14} z^{2} + d_{2} x + d_{3} y + d_{4} z + d_{5} t^{2} + d_{6} t x + d_{7} t y + d_{8} t z + d_{9} x^{2}\\end{matrix}\\right]$"
     },
     "metadata": {},
     "execution_count": 22
    }
   ],
   "source": [
    "eqs"
   ]
  },
  {
   "cell_type": "code",
   "execution_count": 23,
   "metadata": {},
   "outputs": [],
   "source": [
    "#Implementation of the first set of equations we have from part 1 of the results.\n",
    "#And coefficient comparison\n",
    "eq1 = np.array([0, 0, 0, 0, 0, 0])\n",
    "eq2 = np.array([1, 1, 2, 2, 3, 3])\n",
    "var1= np.array([x, t, y, t, z, t])\n",
    "var2= np.array([t, x, t, y, t, z])\n",
    "expr1 = []\n",
    "for i in range(0, 6):\n",
    "    expr = eqs[ eq1[i] ].diff( var1[i] ) - eqs[ eq2[i] ].diff( var2[i])\n",
    "    sys, has = systemize(expr, lc ,lvar)\n",
    "    sol = sp.linsolve(sys, *has)\n",
    "    ndic = dict(zip(has, *sol))\n",
    "    eqs = eqs.subs(ndic)\n",
    "    dic.update(ndic)"
   ]
  },
  {
   "source": [
    "#Repeat with the next given set\n",
    "eq1 = np.array([1, 2, 1])\n",
    "eq2 = np.array([2, 3, 3])\n",
    "var1= np.array([y, z, z])\n",
    "var2= np.array([x, y, x])\n",
    "expr2 = []\n",
    "for i in range(0, 3):\n",
    "    expr = eqs[ eq1[i] ].diff( var1[i] ) - eqs[ eq2[i] ].diff( var2[i])\n",
    "    sys, has = systemize(expr, lc ,lvar)\n",
    "    sol = sp.linsolve(sys, *has)\n",
    "    ndic = dict(zip(has, *sol))\n",
    "    eqs = eqs.subs(ndic)\n",
    "    dic.update(ndic)"
   ],
   "cell_type": "code",
   "metadata": {},
   "execution_count": 24,
   "outputs": []
  },
  {
   "cell_type": "code",
   "execution_count": 25,
   "metadata": {},
   "outputs": [
    {
     "output_type": "execute_result",
     "data": {
      "text/plain": [
       "Matrix([\n",
       "[a_0 + b_1*x + c_1*y + c_6*x*y + d_1*z + d_11*t*x + d_13*t*y + 2*d_14*t*z + d_4*t + d_6*x*z + d_7*y*z + d_8*t**2/2 + d_8*x**2/2 + d_8*y**2/2 + d_8*z**2/2],\n",
       "[       b_0 + b_1*t + c_2*y + c_6*t*y + d_11*t**2/2 + d_11*x**2/2 + d_11*y**2/2 + d_11*z**2/2 + d_13*x*y + 2*d_14*x*z + d_2*z + d_4*x + d_6*t*z + d_8*t*x],\n",
       "[       c_0 + c_1*t + c_2*x + c_6*t*x + d_11*x*y + d_13*t**2/2 + d_13*x**2/2 + d_13*y**2/2 + d_13*z**2/2 + 2*d_14*y*z + d_3*z + d_4*y + d_7*t*z + d_8*t*y],\n",
       "[                 d_0 + d_1*t + d_11*x*z + d_13*y*z + d_14*t**2 + d_14*x**2 + d_14*y**2 + d_14*z**2 + d_2*x + d_3*y + d_4*z + d_6*t*x + d_7*t*y + d_8*t*z]])"
      ],
      "text/latex": "$\\displaystyle \\left[\\begin{matrix}a_{0} + b_{1} x + c_{1} y + c_{6} x y + d_{1} z + d_{11} t x + d_{13} t y + 2 d_{14} t z + d_{4} t + d_{6} x z + d_{7} y z + \\frac{d_{8} t^{2}}{2} + \\frac{d_{8} x^{2}}{2} + \\frac{d_{8} y^{2}}{2} + \\frac{d_{8} z^{2}}{2}\\\\b_{0} + b_{1} t + c_{2} y + c_{6} t y + \\frac{d_{11} t^{2}}{2} + \\frac{d_{11} x^{2}}{2} + \\frac{d_{11} y^{2}}{2} + \\frac{d_{11} z^{2}}{2} + d_{13} x y + 2 d_{14} x z + d_{2} z + d_{4} x + d_{6} t z + d_{8} t x\\\\c_{0} + c_{1} t + c_{2} x + c_{6} t x + d_{11} x y + \\frac{d_{13} t^{2}}{2} + \\frac{d_{13} x^{2}}{2} + \\frac{d_{13} y^{2}}{2} + \\frac{d_{13} z^{2}}{2} + 2 d_{14} y z + d_{3} z + d_{4} y + d_{7} t z + d_{8} t y\\\\d_{0} + d_{1} t + d_{11} x z + d_{13} y z + d_{14} t^{2} + d_{14} x^{2} + d_{14} y^{2} + d_{14} z^{2} + d_{2} x + d_{3} y + d_{4} z + d_{6} t x + d_{7} t y + d_{8} t z\\end{matrix}\\right]$"
     },
     "metadata": {},
     "execution_count": 25
    }
   ],
   "source": [
    "eqs"
   ]
  },
  {
   "cell_type": "code",
   "execution_count": 26,
   "metadata": {},
   "outputs": [],
   "source": [
    "τ, ξ, γ, ζ = uncomb(eqs)"
   ]
  },
  {
   "cell_type": "code",
   "execution_count": 27,
   "metadata": {},
   "outputs": [],
   "source": [
    "#double derivative equation yield 0 immediately \n",
    "#unnecessary"
   ]
  },
  {
   "source": [
    "We will now proceed to find out the φ,χ,ψ,ω equations. With a polynomial Ansatz of the first order, which can be proved by derivating the other given equations."
   ],
   "cell_type": "markdown",
   "metadata": {}
  },
  {
   "source": [
    " \n",
    " $$\\\\  τ_{z} - φ_{u1} + χ_{u2}, \n",
    "\\\\  ξ_{y} + φ_{w1} - χ_{w2}, \n",
    "\\\\  - ξ_{z} - φ_{u2} + χ_{u1}, \n",
    "\\\\  - τ_{x} + φ_{u2} + χ_{u1}, \n",
    "\\\\  τ_{y} - φ_{w2} + χ_{w1}, \n",
    "\\\\  - γ_{z} - φ_{w2} - χ_{w1},\n",
    "\\\\  ξ_{z} - τ_{x} + 2 φ_{u2}, \n",
    "\\\\  γ_{z} - τ_{y} + 2 φ_{w2}, \n",
    "\\\\  ξ_{z} + τ_{x} - 2 χ_{u1}, \n",
    "\\\\  - γ_{z} - τ_{y} - 2 χ_{w1}, \n",
    "\\\\  φ_{t} + φ_{z} + χ_{x} + ω_{y}, \n",
    "\\\\  - χ_{y} + ψ_{t} + ψ_{z} + ω_{x}, \n",
    "\\\\  φ_{x} + χ_{t} - χ_{z} - ψ_{y}, \n",
    "\\\\  φ_{y} + ψ_{x} + ω_{t} - ω_{z}  \n"
   ],
   "cell_type": "markdown",
   "metadata": {}
  },
  {
   "cell_type": "code",
   "execution_count": 28,
   "metadata": {},
   "outputs": [
    {
     "output_type": "execute_result",
     "data": {
      "text/plain": [
       "u2*(b_1/2 + c_6*y/2 + d_11*t/2 - d_11*z/2 - d_14*x - d_2/2 - d_6*t/2 + d_6*z/2 + d_8*x/2) + w2*(c_1/2 + c_6*x/2 + d_13*t/2 - d_13*z/2 - d_14*y - d_3/2 - d_7*t/2 + d_7*z/2 + d_8*y/2)"
      ],
      "text/latex": "$\\displaystyle u_{2} \\left(\\frac{b_{1}}{2} + \\frac{c_{6} y}{2} + \\frac{d_{11} t}{2} - \\frac{d_{11} z}{2} - d_{14} x - \\frac{d_{2}}{2} - \\frac{d_{6} t}{2} + \\frac{d_{6} z}{2} + \\frac{d_{8} x}{2}\\right) + w_{2} \\left(\\frac{c_{1}}{2} + \\frac{c_{6} x}{2} + \\frac{d_{13} t}{2} - \\frac{d_{13} z}{2} - d_{14} y - \\frac{d_{3}}{2} - \\frac{d_{7} t}{2} + \\frac{d_{7} z}{2} + \\frac{d_{8} y}{2}\\right)$"
     },
     "metadata": {},
     "execution_count": 28
    }
   ],
   "source": [
    "#phi function\n",
    "p1 = (-eqs[1].diff(z) + eqs[0].diff(x))/2\n",
    "p2 = (-eqs[2].diff(z) + eqs[0].diff(y))/2\n",
    "phi = p1*u2 + p2*w2 \n",
    "phi\n",
    "#k_0 function of u2, w2!, t,x,y,z also"
   ]
  },
  {
   "cell_type": "code",
   "execution_count": 29,
   "metadata": {},
   "outputs": [
    {
     "output_type": "execute_result",
     "data": {
      "text/plain": [
       "u1*(b_1/2 + c_6*y/2 + d_11*t/2 + d_11*z/2 + d_14*x + d_2/2 + d_6*t/2 + d_6*z/2 + d_8*x/2) + w1*(-c_1/2 - c_6*x/2 - d_13*t/2 - d_13*z/2 - d_14*y - d_3/2 - d_7*t/2 - d_7*z/2 - d_8*y/2)"
      ],
      "text/latex": "$\\displaystyle u_{1} \\left(\\frac{b_{1}}{2} + \\frac{c_{6} y}{2} + \\frac{d_{11} t}{2} + \\frac{d_{11} z}{2} + d_{14} x + \\frac{d_{2}}{2} + \\frac{d_{6} t}{2} + \\frac{d_{6} z}{2} + \\frac{d_{8} x}{2}\\right) + w_{1} \\left(- \\frac{c_{1}}{2} - \\frac{c_{6} x}{2} - \\frac{d_{13} t}{2} - \\frac{d_{13} z}{2} - d_{14} y - \\frac{d_{3}}{2} - \\frac{d_{7} t}{2} - \\frac{d_{7} z}{2} - \\frac{d_{8} y}{2}\\right)$"
     },
     "metadata": {},
     "execution_count": 29
    }
   ],
   "source": [
    "#chi function\n",
    "p1 = ( eqs[1].diff(z) + eqs[0].diff(x))/2\n",
    "p2 = (-eqs[2].diff(z) - eqs[0].diff(y))/2\n",
    "chi = p1*u1 + p2*w1 \n",
    "chi               \n",
    "#k_1  function of u1, w1, t,x,y,z"
   ]
  },
  {
   "source": [
    "Ansatz: $u_1, u_2, w_1, w_2$ are polynomials of the first order"
   ],
   "cell_type": "markdown",
   "metadata": {}
  },
  {
   "cell_type": "code",
   "execution_count": 30,
   "metadata": {},
   "outputs": [
    {
     "output_type": "execute_result",
     "data": {
      "text/plain": [
       "n_0*β_0(t, x, y, z) + u1*(k_0 + k_1*t + k_10*x*y + k_11*x*z + k_12*y**2 + k_13*y*z + k_14*z**2 + k_2*x + k_3*y + k_4*z + k_5*t**2 + k_6*t*x + k_7*t*y + k_8*t*z + k_9*x**2) + u2*(b_1/2 + c_6*y/2 + d_11*t/2 - d_11*z/2 - d_14*x - d_2/2 - d_6*t/2 + d_6*z/2 + d_8*x/2) + w1*(f_0 + f_1*t + f_10*x*y + f_11*x*z + f_12*y**2 + f_13*y*z + f_14*z**2 + f_2*x + f_3*y + f_4*z + f_5*t**2 + f_6*t*x + f_7*t*y + f_8*t*z + f_9*x**2) + w2*(c_1/2 + c_6*x/2 + d_13*t/2 - d_13*z/2 - d_14*y - d_3/2 - d_7*t/2 + d_7*z/2 + d_8*y/2)"
      ],
      "text/latex": "$\\displaystyle n_{0} \\operatorname{β_{0}}{\\left(t,x,y,z \\right)} + u_{1} \\left(k_{0} + k_{1} t + k_{10} x y + k_{11} x z + k_{12} y^{2} + k_{13} y z + k_{14} z^{2} + k_{2} x + k_{3} y + k_{4} z + k_{5} t^{2} + k_{6} t x + k_{7} t y + k_{8} t z + k_{9} x^{2}\\right) + u_{2} \\left(\\frac{b_{1}}{2} + \\frac{c_{6} y}{2} + \\frac{d_{11} t}{2} - \\frac{d_{11} z}{2} - d_{14} x - \\frac{d_{2}}{2} - \\frac{d_{6} t}{2} + \\frac{d_{6} z}{2} + \\frac{d_{8} x}{2}\\right) + w_{1} \\left(f_{0} + f_{1} t + f_{10} x y + f_{11} x z + f_{12} y^{2} + f_{13} y z + f_{14} z^{2} + f_{2} x + f_{3} y + f_{4} z + f_{5} t^{2} + f_{6} t x + f_{7} t y + f_{8} t z + f_{9} x^{2}\\right) + w_{2} \\left(\\frac{c_{1}}{2} + \\frac{c_{6} x}{2} + \\frac{d_{13} t}{2} - \\frac{d_{13} z}{2} - d_{14} y - \\frac{d_{3}}{2} - \\frac{d_{7} t}{2} + \\frac{d_{7} z}{2} + \\frac{d_{8} y}{2}\\right)$"
     },
     "metadata": {},
     "execution_count": 30
    }
   ],
   "source": [
    "#Ansatz of linearity for w1 and u1\n",
    "#But are t,x,y,z also linear in the product with them? or of higher order?\n",
    "#we know that φ,χ,ψ,ω musst satisfy the wave equation as well. 1st order does, but so does 2nd order as well...\n",
    "phi = phi + (sp.Matrix(f).T*gvar)[0]*w1 \n",
    "phi = phi + (sp.Matrix(k).T*gvar)[0]*u1 + n[0]*β0\n",
    "phi"
   ]
  },
  {
   "cell_type": "code",
   "execution_count": 31,
   "metadata": {},
   "outputs": [
    {
     "output_type": "execute_result",
     "data": {
      "text/plain": [
       "n_0*β_0(t, x, y, z) + u1*(k_0 + k_12*y**2 + k_14*z**2 + k_4*z + k_5*t**2 + k_9*x**2 + t*(k_1 + k_6*x + k_7*y + k_8*z) + x*(k_10*y + k_11*z + k_2) + y*(k_13*z + k_3)) + u2*(b_1/2 + c_6*y/2 - d_2/2 + t*(d_11/2 - d_6/2) + x*(-d_14 + d_8/2) + z*(-d_11/2 + d_6/2)) + w1*(f_0 + f_12*y**2 + f_14*z**2 + f_4*z + f_5*t**2 + f_9*x**2 + t*(f_1 + f_6*x + f_7*y + f_8*z) + x*(f_10*y + f_11*z + f_2) + y*(f_13*z + f_3)) + w2*(c_1/2 + c_6*x/2 - d_3/2 + t*(d_13/2 - d_7/2) + y*(-d_14 + d_8/2) + z*(-d_13/2 + d_7/2))"
      ],
      "text/latex": "$\\displaystyle n_{0} \\operatorname{β_{0}}{\\left(t,x,y,z \\right)} + u_{1} \\left(k_{0} + k_{12} y^{2} + k_{14} z^{2} + k_{4} z + k_{5} t^{2} + k_{9} x^{2} + t \\left(k_{1} + k_{6} x + k_{7} y + k_{8} z\\right) + x \\left(k_{10} y + k_{11} z + k_{2}\\right) + y \\left(k_{13} z + k_{3}\\right)\\right) + u_{2} \\left(\\frac{b_{1}}{2} + \\frac{c_{6} y}{2} - \\frac{d_{2}}{2} + t \\left(\\frac{d_{11}}{2} - \\frac{d_{6}}{2}\\right) + x \\left(- d_{14} + \\frac{d_{8}}{2}\\right) + z \\left(- \\frac{d_{11}}{2} + \\frac{d_{6}}{2}\\right)\\right) + w_{1} \\left(f_{0} + f_{12} y^{2} + f_{14} z^{2} + f_{4} z + f_{5} t^{2} + f_{9} x^{2} + t \\left(f_{1} + f_{6} x + f_{7} y + f_{8} z\\right) + x \\left(f_{10} y + f_{11} z + f_{2}\\right) + y \\left(f_{13} z + f_{3}\\right)\\right) + w_{2} \\left(\\frac{c_{1}}{2} + \\frac{c_{6} x}{2} - \\frac{d_{3}}{2} + t \\left(\\frac{d_{13}}{2} - \\frac{d_{7}}{2}\\right) + y \\left(- d_{14} + \\frac{d_{8}}{2}\\right) + z \\left(- \\frac{d_{13}}{2} + \\frac{d_{7}}{2}\\right)\\right)$"
     },
     "metadata": {},
     "execution_count": 31
    }
   ],
   "source": [
    "phi = sp.collect(phi, [t, x, y, z])\n",
    "phi"
   ]
  },
  {
   "source": [
    "#psi - w_2 relation ii)\n",
    "rel1 = eqs[0].diff(z) - sp.Derivative(φ, u1) + sp.Derivative(χ, u2)\n",
    "rel1"
   ],
   "cell_type": "code",
   "metadata": {},
   "execution_count": 32,
   "outputs": [
    {
     "output_type": "execute_result",
     "data": {
      "text/plain": [
       "d_1 + 2*d_14*t + d_6*x + d_7*y + d_8*z - Derivative(φ, u1) + Derivative(χ, u2)"
      ],
      "text/latex": "$\\displaystyle d_{1} + 2 d_{14} t + d_{6} x + d_{7} y + d_{8} z - \\frac{d}{d u_{1}} φ + \\frac{d}{d u_{2}} χ$"
     },
     "metadata": {},
     "execution_count": 32
    }
   ]
  },
  {
   "cell_type": "code",
   "execution_count": 33,
   "metadata": {},
   "outputs": [
    {
     "output_type": "execute_result",
     "data": {
      "text/plain": [
       "c_2 + c_6*t + d_11*y + d_13*x + Derivative(φ, w1) - Derivative(χ, w2)"
      ],
      "text/latex": "$\\displaystyle c_{2} + c_{6} t + d_{11} y + d_{13} x + \\frac{d}{d w_{1}} φ - \\frac{d}{d w_{2}} χ$"
     },
     "metadata": {},
     "execution_count": 33
    }
   ],
   "source": [
    "rel2 = eqs[1].diff(y) + sp.Derivative(φ, w1) - sp.Derivative(χ, w2)\n",
    "rel2"
   ]
  },
  {
   "cell_type": "code",
   "execution_count": 34,
   "metadata": {},
   "outputs": [],
   "source": [
    "#find the other chi terms\n",
    "p1 = -( eqs[0].diff(z) - sp.diff(phi, u1) )*u2\n",
    "p2 = ( eqs[1].diff(y) + sp.diff(phi, w1) )*w2\n",
    "chi = chi + p1 + p2 + n[1]*β1\n",
    "chi = sp.collect(chi, [t, x, y, z])\n",
    "\n",
    "psi = -sp.diff(phi, w2)*u2 + sp.diff(phi, u2)*w2 - sp.diff(phi, w1)*u1 + sp.diff(phi, u1)*w1\n",
    "psi = sp.collect(psi, [t, x, y, z]) + n[2]*β2\n",
    "\n",
    "omg = sp.diff(chi, u2)*w2 - sp.diff(chi, w2)*u2 + sp.diff(chi, u1)*w1 - sp.diff(chi, w1)*u1\n",
    "omg = sp.collect(omg, [t, x, y, z]) + n[3]*β3"
   ]
  },
  {
   "cell_type": "code",
   "execution_count": 35,
   "metadata": {},
   "outputs": [
    {
     "output_type": "execute_result",
     "data": {
      "text/plain": [
       "Matrix([\n",
       "[                                                                  n_0*β_0(t, x, y, z) + u1*(k_0 + k_12*y**2 + k_14*z**2 + k_4*z + k_5*t**2 + k_9*x**2 + t*(k_1 + k_6*x + k_7*y + k_8*z) + x*(k_10*y + k_11*z + k_2) + y*(k_13*z + k_3)) + u2*(b_1/2 + c_6*y/2 - d_2/2 + t*(d_11/2 - d_6/2) + x*(-d_14 + d_8/2) + z*(-d_11/2 + d_6/2)) + w1*(f_0 + f_12*y**2 + f_14*z**2 + f_4*z + f_5*t**2 + f_9*x**2 + t*(f_1 + f_6*x + f_7*y + f_8*z) + x*(f_10*y + f_11*z + f_2) + y*(f_13*z + f_3)) + w2*(c_1/2 + c_6*x/2 - d_3/2 + t*(d_13/2 - d_7/2) + y*(-d_14 + d_8/2) + z*(-d_13/2 + d_7/2))],\n",
       "[n_1*β_1(t, x, y, z) + u1*(b_1/2 + c_6*y/2 + d_2/2 + t*(d_11/2 + d_6/2) + x*(d_14 + d_8/2) + z*(d_11/2 + d_6/2)) + u2*(-d_1 + k_0 + k_12*y**2 + k_14*z**2 + k_5*t**2 + k_9*x**2 + t*(-2*d_14 + k_1 + k_6*x + k_7*y + k_8*z) + x*(-d_6 + k_10*y + k_11*z + k_2) + y*(-d_7 + k_13*z + k_3) + z*(-d_8 + k_4)) + w1*(-c_1/2 - c_6*x/2 - d_3/2 + t*(-d_13/2 - d_7/2) + y*(-d_14 - d_8/2) + z*(-d_13/2 - d_7/2)) + w2*(c_2 + f_0 + f_12*y**2 + f_14*z**2 + f_4*z + f_5*t**2 + f_9*x**2 + t*(c_6 + f_1 + f_6*x + f_7*y + f_8*z) + x*(d_13 + f_10*y + f_11*z + f_2) + y*(d_11 + f_13*z + f_3))],\n",
       "[                                                                  n_2*β_2(t, x, y, z) - u1*(f_0 + f_12*y**2 + f_14*z**2 + f_4*z + f_5*t**2 + f_9*x**2 + t*(f_1 + f_6*x + f_7*y + f_8*z) + x*(f_10*y + f_11*z + f_2) + y*(f_13*z + f_3)) + u2*(-c_1/2 - c_6*x/2 + d_3/2 + t*(-d_13/2 + d_7/2) + y*(d_14 - d_8/2) + z*(d_13/2 - d_7/2)) + w1*(k_0 + k_12*y**2 + k_14*z**2 + k_4*z + k_5*t**2 + k_9*x**2 + t*(k_1 + k_6*x + k_7*y + k_8*z) + x*(k_10*y + k_11*z + k_2) + y*(k_13*z + k_3)) + w2*(b_1/2 + c_6*y/2 - d_2/2 + t*(d_11/2 - d_6/2) + x*(-d_14 + d_8/2) + z*(-d_11/2 + d_6/2))],\n",
       "[n_3*β_3(t, x, y, z) - u1*(-c_1/2 - c_6*x/2 - d_3/2 + t*(-d_13/2 - d_7/2) + y*(-d_14 - d_8/2) + z*(-d_13/2 - d_7/2)) - u2*(c_2 + f_0 + f_12*y**2 + f_14*z**2 + f_4*z + f_5*t**2 + f_9*x**2 + t*(c_6 + f_1 + f_6*x + f_7*y + f_8*z) + x*(d_13 + f_10*y + f_11*z + f_2) + y*(d_11 + f_13*z + f_3)) + w1*(b_1/2 + c_6*y/2 + d_2/2 + t*(d_11/2 + d_6/2) + x*(d_14 + d_8/2) + z*(d_11/2 + d_6/2)) + w2*(-d_1 + k_0 + k_12*y**2 + k_14*z**2 + k_5*t**2 + k_9*x**2 + t*(-2*d_14 + k_1 + k_6*x + k_7*y + k_8*z) + x*(-d_6 + k_10*y + k_11*z + k_2) + y*(-d_7 + k_13*z + k_3) + z*(-d_8 + k_4))]])"
      ],
      "text/latex": "$\\displaystyle \\left[\\begin{matrix}n_{0} \\operatorname{β_{0}}{\\left(t,x,y,z \\right)} + u_{1} \\left(k_{0} + k_{12} y^{2} + k_{14} z^{2} + k_{4} z + k_{5} t^{2} + k_{9} x^{2} + t \\left(k_{1} + k_{6} x + k_{7} y + k_{8} z\\right) + x \\left(k_{10} y + k_{11} z + k_{2}\\right) + y \\left(k_{13} z + k_{3}\\right)\\right) + u_{2} \\left(\\frac{b_{1}}{2} + \\frac{c_{6} y}{2} - \\frac{d_{2}}{2} + t \\left(\\frac{d_{11}}{2} - \\frac{d_{6}}{2}\\right) + x \\left(- d_{14} + \\frac{d_{8}}{2}\\right) + z \\left(- \\frac{d_{11}}{2} + \\frac{d_{6}}{2}\\right)\\right) + w_{1} \\left(f_{0} + f_{12} y^{2} + f_{14} z^{2} + f_{4} z + f_{5} t^{2} + f_{9} x^{2} + t \\left(f_{1} + f_{6} x + f_{7} y + f_{8} z\\right) + x \\left(f_{10} y + f_{11} z + f_{2}\\right) + y \\left(f_{13} z + f_{3}\\right)\\right) + w_{2} \\left(\\frac{c_{1}}{2} + \\frac{c_{6} x}{2} - \\frac{d_{3}}{2} + t \\left(\\frac{d_{13}}{2} - \\frac{d_{7}}{2}\\right) + y \\left(- d_{14} + \\frac{d_{8}}{2}\\right) + z \\left(- \\frac{d_{13}}{2} + \\frac{d_{7}}{2}\\right)\\right)\\\\n_{1} \\operatorname{β_{1}}{\\left(t,x,y,z \\right)} + u_{1} \\left(\\frac{b_{1}}{2} + \\frac{c_{6} y}{2} + \\frac{d_{2}}{2} + t \\left(\\frac{d_{11}}{2} + \\frac{d_{6}}{2}\\right) + x \\left(d_{14} + \\frac{d_{8}}{2}\\right) + z \\left(\\frac{d_{11}}{2} + \\frac{d_{6}}{2}\\right)\\right) + u_{2} \\left(- d_{1} + k_{0} + k_{12} y^{2} + k_{14} z^{2} + k_{5} t^{2} + k_{9} x^{2} + t \\left(- 2 d_{14} + k_{1} + k_{6} x + k_{7} y + k_{8} z\\right) + x \\left(- d_{6} + k_{10} y + k_{11} z + k_{2}\\right) + y \\left(- d_{7} + k_{13} z + k_{3}\\right) + z \\left(- d_{8} + k_{4}\\right)\\right) + w_{1} \\left(- \\frac{c_{1}}{2} - \\frac{c_{6} x}{2} - \\frac{d_{3}}{2} + t \\left(- \\frac{d_{13}}{2} - \\frac{d_{7}}{2}\\right) + y \\left(- d_{14} - \\frac{d_{8}}{2}\\right) + z \\left(- \\frac{d_{13}}{2} - \\frac{d_{7}}{2}\\right)\\right) + w_{2} \\left(c_{2} + f_{0} + f_{12} y^{2} + f_{14} z^{2} + f_{4} z + f_{5} t^{2} + f_{9} x^{2} + t \\left(c_{6} + f_{1} + f_{6} x + f_{7} y + f_{8} z\\right) + x \\left(d_{13} + f_{10} y + f_{11} z + f_{2}\\right) + y \\left(d_{11} + f_{13} z + f_{3}\\right)\\right)\\\\n_{2} \\operatorname{β_{2}}{\\left(t,x,y,z \\right)} - u_{1} \\left(f_{0} + f_{12} y^{2} + f_{14} z^{2} + f_{4} z + f_{5} t^{2} + f_{9} x^{2} + t \\left(f_{1} + f_{6} x + f_{7} y + f_{8} z\\right) + x \\left(f_{10} y + f_{11} z + f_{2}\\right) + y \\left(f_{13} z + f_{3}\\right)\\right) + u_{2} \\left(- \\frac{c_{1}}{2} - \\frac{c_{6} x}{2} + \\frac{d_{3}}{2} + t \\left(- \\frac{d_{13}}{2} + \\frac{d_{7}}{2}\\right) + y \\left(d_{14} - \\frac{d_{8}}{2}\\right) + z \\left(\\frac{d_{13}}{2} - \\frac{d_{7}}{2}\\right)\\right) + w_{1} \\left(k_{0} + k_{12} y^{2} + k_{14} z^{2} + k_{4} z + k_{5} t^{2} + k_{9} x^{2} + t \\left(k_{1} + k_{6} x + k_{7} y + k_{8} z\\right) + x \\left(k_{10} y + k_{11} z + k_{2}\\right) + y \\left(k_{13} z + k_{3}\\right)\\right) + w_{2} \\left(\\frac{b_{1}}{2} + \\frac{c_{6} y}{2} - \\frac{d_{2}}{2} + t \\left(\\frac{d_{11}}{2} - \\frac{d_{6}}{2}\\right) + x \\left(- d_{14} + \\frac{d_{8}}{2}\\right) + z \\left(- \\frac{d_{11}}{2} + \\frac{d_{6}}{2}\\right)\\right)\\\\n_{3} \\operatorname{β_{3}}{\\left(t,x,y,z \\right)} - u_{1} \\left(- \\frac{c_{1}}{2} - \\frac{c_{6} x}{2} - \\frac{d_{3}}{2} + t \\left(- \\frac{d_{13}}{2} - \\frac{d_{7}}{2}\\right) + y \\left(- d_{14} - \\frac{d_{8}}{2}\\right) + z \\left(- \\frac{d_{13}}{2} - \\frac{d_{7}}{2}\\right)\\right) - u_{2} \\left(c_{2} + f_{0} + f_{12} y^{2} + f_{14} z^{2} + f_{4} z + f_{5} t^{2} + f_{9} x^{2} + t \\left(c_{6} + f_{1} + f_{6} x + f_{7} y + f_{8} z\\right) + x \\left(d_{13} + f_{10} y + f_{11} z + f_{2}\\right) + y \\left(d_{11} + f_{13} z + f_{3}\\right)\\right) + w_{1} \\left(\\frac{b_{1}}{2} + \\frac{c_{6} y}{2} + \\frac{d_{2}}{2} + t \\left(\\frac{d_{11}}{2} + \\frac{d_{6}}{2}\\right) + x \\left(d_{14} + \\frac{d_{8}}{2}\\right) + z \\left(\\frac{d_{11}}{2} + \\frac{d_{6}}{2}\\right)\\right) + w_{2} \\left(- d_{1} + k_{0} + k_{12} y^{2} + k_{14} z^{2} + k_{5} t^{2} + k_{9} x^{2} + t \\left(- 2 d_{14} + k_{1} + k_{6} x + k_{7} y + k_{8} z\\right) + x \\left(- d_{6} + k_{10} y + k_{11} z + k_{2}\\right) + y \\left(- d_{7} + k_{13} z + k_{3}\\right) + z \\left(- d_{8} + k_{4}\\right)\\right)\\end{matrix}\\right]$"
     },
     "metadata": {},
     "execution_count": 35
    }
   ],
   "source": [
    "eqs2 = sp.Matrix([phi, chi, psi ,omg])\n",
    "eqs2"
   ]
  },
  {
   "cell_type": "code",
   "execution_count": 36,
   "metadata": {},
   "outputs": [],
   "source": [
    "fsys = [\n",
    "(-chi.diff(y) + psi.diff(t) + psi.diff(z) + omg.diff(x)   ).subs({n[0]:0, n[1]:0, n[2]:0, n[3]:0  }),\n",
    "( phi.diff(x) + chi.diff(t) - chi.diff(z) - psi.diff(y)   ).subs({n[0]:0, n[1]:0, n[2]:0, n[3]:0  }),\n",
    "( phi.diff(y) + psi.diff(x) + omg.diff(t) - omg.diff(z)   ).subs({n[0]:0, n[1]:0, n[2]:0, n[3]:0  }),\n",
    "( phi.diff(t) + phi.diff(z) + chi.diff(x) + omg.diff(y)   ).subs({n[0]:0, n[1]:0, n[2]:0, n[3]:0  })\n",
    "]"
   ]
  },
  {
   "cell_type": "code",
   "execution_count": 37,
   "metadata": {},
   "outputs": [
    {
     "output_type": "execute_result",
     "data": {
      "text/plain": [
       "Matrix([\n",
       "[-u1*(f_1 + 2*f_5*t + f_6*x + f_7*y + f_8*z) - u1*(f_11*x + f_13*y + 2*f_14*z + f_4 + f_8*t) + u2*(-d_13/2 + d_7/2) + u2*(d_13/2 - d_7/2) - u2*(d_13 + f_10*y + f_11*z + f_2 + f_6*t + 2*f_9*x) - u2*(-d_7 + k_10*x + 2*k_12*y + k_13*z + k_3 + k_7*t) - w1*(-d_14 - d_8/2) + w1*(d_14 + d_8/2) + w1*(k_1 + 2*k_5*t + k_6*x + k_7*y + k_8*z) + w1*(k_11*x + k_13*y + 2*k_14*z + k_4 + k_8*t) + w2*(-d_11/2 + d_6/2) + w2*(d_11/2 - d_6/2) - w2*(d_11 + f_10*x + 2*f_12*y + f_13*z + f_3 + f_7*t) + w2*(-d_6 + k_10*y + k_11*z + k_2 + k_6*t + 2*k_9*x)],\n",
       "[                                                                                                u1*(f_10*x + 2*f_12*y + f_13*z + f_3 + f_7*t) + u1*(k_10*y + k_11*z + k_2 + k_6*t + 2*k_9*x) + u2*(-d_14 + d_8/2) - u2*(d_14 - d_8/2) + u2*(-2*d_14 + k_1 + 2*k_5*t + k_6*x + k_7*y + k_8*z) - u2*(-d_8 + k_11*x + k_13*y + 2*k_14*z + k_4 + k_8*t) + w1*(f_10*y + f_11*z + f_2 + f_6*t + 2*f_9*x) - w1*(k_10*x + 2*k_12*y + k_13*z + k_3 + k_7*t) - w2*(f_11*x + f_13*y + 2*f_14*z + f_4 + f_8*t) + w2*(c_6 + f_1 + 2*f_5*t + f_6*x + f_7*y + f_8*z)],\n",
       "[                                                                                                                 -u1*(f_10*y + f_11*z + f_2 + f_6*t + 2*f_9*x) + u1*(k_10*x + 2*k_12*y + k_13*z + k_3 + k_7*t) + u2*(f_11*x + f_13*y + 2*f_14*z + f_4 + f_8*t) - u2*(c_6 + f_1 + 2*f_5*t + f_6*x + f_7*y + f_8*z) + w1*(f_10*x + 2*f_12*y + f_13*z + f_3 + f_7*t) + w1*(k_10*y + k_11*z + k_2 + k_6*t + 2*k_9*x) + 2*w2*(-d_14 + d_8/2) + w2*(-2*d_14 + k_1 + 2*k_5*t + k_6*x + k_7*y + k_8*z) - w2*(-d_8 + k_11*x + k_13*y + 2*k_14*z + k_4 + k_8*t)],\n",
       "[-u1*(-d_14 - d_8/2) + u1*(d_14 + d_8/2) + u1*(k_1 + 2*k_5*t + k_6*x + k_7*y + k_8*z) + u1*(k_11*x + k_13*y + 2*k_14*z + k_4 + k_8*t) + u2*(-d_11/2 + d_6/2) + u2*(d_11/2 - d_6/2) - u2*(d_11 + f_10*x + 2*f_12*y + f_13*z + f_3 + f_7*t) + u2*(-d_6 + k_10*y + k_11*z + k_2 + k_6*t + 2*k_9*x) + w1*(f_1 + 2*f_5*t + f_6*x + f_7*y + f_8*z) + w1*(f_11*x + f_13*y + 2*f_14*z + f_4 + f_8*t) + w2*(-d_13/2 + d_7/2) + w2*(d_13/2 - d_7/2) + w2*(d_13 + f_10*y + f_11*z + f_2 + f_6*t + 2*f_9*x) + w2*(-d_7 + k_10*x + 2*k_12*y + k_13*z + k_3 + k_7*t)]])"
      ],
      "text/latex": "$\\displaystyle \\left[\\begin{matrix}- u_{1} \\left(f_{1} + 2 f_{5} t + f_{6} x + f_{7} y + f_{8} z\\right) - u_{1} \\left(f_{11} x + f_{13} y + 2 f_{14} z + f_{4} + f_{8} t\\right) + u_{2} \\left(- \\frac{d_{13}}{2} + \\frac{d_{7}}{2}\\right) + u_{2} \\left(\\frac{d_{13}}{2} - \\frac{d_{7}}{2}\\right) - u_{2} \\left(d_{13} + f_{10} y + f_{11} z + f_{2} + f_{6} t + 2 f_{9} x\\right) - u_{2} \\left(- d_{7} + k_{10} x + 2 k_{12} y + k_{13} z + k_{3} + k_{7} t\\right) - w_{1} \\left(- d_{14} - \\frac{d_{8}}{2}\\right) + w_{1} \\left(d_{14} + \\frac{d_{8}}{2}\\right) + w_{1} \\left(k_{1} + 2 k_{5} t + k_{6} x + k_{7} y + k_{8} z\\right) + w_{1} \\left(k_{11} x + k_{13} y + 2 k_{14} z + k_{4} + k_{8} t\\right) + w_{2} \\left(- \\frac{d_{11}}{2} + \\frac{d_{6}}{2}\\right) + w_{2} \\left(\\frac{d_{11}}{2} - \\frac{d_{6}}{2}\\right) - w_{2} \\left(d_{11} + f_{10} x + 2 f_{12} y + f_{13} z + f_{3} + f_{7} t\\right) + w_{2} \\left(- d_{6} + k_{10} y + k_{11} z + k_{2} + k_{6} t + 2 k_{9} x\\right)\\\\u_{1} \\left(f_{10} x + 2 f_{12} y + f_{13} z + f_{3} + f_{7} t\\right) + u_{1} \\left(k_{10} y + k_{11} z + k_{2} + k_{6} t + 2 k_{9} x\\right) + u_{2} \\left(- d_{14} + \\frac{d_{8}}{2}\\right) - u_{2} \\left(d_{14} - \\frac{d_{8}}{2}\\right) + u_{2} \\left(- 2 d_{14} + k_{1} + 2 k_{5} t + k_{6} x + k_{7} y + k_{8} z\\right) - u_{2} \\left(- d_{8} + k_{11} x + k_{13} y + 2 k_{14} z + k_{4} + k_{8} t\\right) + w_{1} \\left(f_{10} y + f_{11} z + f_{2} + f_{6} t + 2 f_{9} x\\right) - w_{1} \\left(k_{10} x + 2 k_{12} y + k_{13} z + k_{3} + k_{7} t\\right) - w_{2} \\left(f_{11} x + f_{13} y + 2 f_{14} z + f_{4} + f_{8} t\\right) + w_{2} \\left(c_{6} + f_{1} + 2 f_{5} t + f_{6} x + f_{7} y + f_{8} z\\right)\\\\- u_{1} \\left(f_{10} y + f_{11} z + f_{2} + f_{6} t + 2 f_{9} x\\right) + u_{1} \\left(k_{10} x + 2 k_{12} y + k_{13} z + k_{3} + k_{7} t\\right) + u_{2} \\left(f_{11} x + f_{13} y + 2 f_{14} z + f_{4} + f_{8} t\\right) - u_{2} \\left(c_{6} + f_{1} + 2 f_{5} t + f_{6} x + f_{7} y + f_{8} z\\right) + w_{1} \\left(f_{10} x + 2 f_{12} y + f_{13} z + f_{3} + f_{7} t\\right) + w_{1} \\left(k_{10} y + k_{11} z + k_{2} + k_{6} t + 2 k_{9} x\\right) + 2 w_{2} \\left(- d_{14} + \\frac{d_{8}}{2}\\right) + w_{2} \\left(- 2 d_{14} + k_{1} + 2 k_{5} t + k_{6} x + k_{7} y + k_{8} z\\right) - w_{2} \\left(- d_{8} + k_{11} x + k_{13} y + 2 k_{14} z + k_{4} + k_{8} t\\right)\\\\- u_{1} \\left(- d_{14} - \\frac{d_{8}}{2}\\right) + u_{1} \\left(d_{14} + \\frac{d_{8}}{2}\\right) + u_{1} \\left(k_{1} + 2 k_{5} t + k_{6} x + k_{7} y + k_{8} z\\right) + u_{1} \\left(k_{11} x + k_{13} y + 2 k_{14} z + k_{4} + k_{8} t\\right) + u_{2} \\left(- \\frac{d_{11}}{2} + \\frac{d_{6}}{2}\\right) + u_{2} \\left(\\frac{d_{11}}{2} - \\frac{d_{6}}{2}\\right) - u_{2} \\left(d_{11} + f_{10} x + 2 f_{12} y + f_{13} z + f_{3} + f_{7} t\\right) + u_{2} \\left(- d_{6} + k_{10} y + k_{11} z + k_{2} + k_{6} t + 2 k_{9} x\\right) + w_{1} \\left(f_{1} + 2 f_{5} t + f_{6} x + f_{7} y + f_{8} z\\right) + w_{1} \\left(f_{11} x + f_{13} y + 2 f_{14} z + f_{4} + f_{8} t\\right) + w_{2} \\left(- \\frac{d_{13}}{2} + \\frac{d_{7}}{2}\\right) + w_{2} \\left(\\frac{d_{13}}{2} - \\frac{d_{7}}{2}\\right) + w_{2} \\left(d_{13} + f_{10} y + f_{11} z + f_{2} + f_{6} t + 2 f_{9} x\\right) + w_{2} \\left(- d_{7} + k_{10} x + 2 k_{12} y + k_{13} z + k_{3} + k_{7} t\\right)\\end{matrix}\\right]$"
     },
     "metadata": {},
     "execution_count": 37
    }
   ],
   "source": [
    "fsys = sp.Matrix(fsys)\n",
    "fsys"
   ]
  },
  {
   "cell_type": "code",
   "execution_count": 38,
   "metadata": {},
   "outputs": [
    {
     "output_type": "execute_result",
     "data": {
      "text/plain": [
       "35"
      ]
     },
     "metadata": {},
     "execution_count": 38
    }
   ],
   "source": [
    "lc_f = []\n",
    "for i in lc0+lc1+lc2+lc3+f+k:\n",
    "    if fsys.has(i):\n",
    "        lc_f.append(i)\n",
    "np.size(lc_f)"
   ]
  },
  {
   "cell_type": "code",
   "execution_count": 39,
   "metadata": {},
   "outputs": [],
   "source": [
    "dic2 = {}"
   ]
  },
  {
   "cell_type": "code",
   "execution_count": 43,
   "metadata": {},
   "outputs": [],
   "source": [
    "for sys_exp in fsys:\n",
    "    for ua in lwlf:\n",
    "        temp = sys_exp.copy()\n",
    "        for ub in lwlf:\n",
    "            if ua != ub:\n",
    "                temp = temp.subs(ub, 0)\n",
    "        temp = temp.subs(ua, 1)\n",
    "        sys, has = systemize(temp, lc_f ,lvar)\n",
    "        sol = sp.linsolve(sys, *has)\n",
    "        #try:\n",
    "        ndic = dict(zip(has, *sol))\n",
    "        #except:\n",
    "        #    print(\"Value error\")\n",
    "        fsys = fsys.subs(ndic)\n",
    "        dic2.update(ndic)"
   ]
  },
  {
   "cell_type": "code",
   "execution_count": 44,
   "metadata": {},
   "outputs": [
    {
     "output_type": "execute_result",
     "data": {
      "text/plain": [
       "Matrix([\n",
       "[                                                                                                                                                                                                                                                                                                                                                    a_0 + b_1*x + c_1*y + d_1*z + d_11*t*x + d_13*t*y + 2*d_14*t*z + d_4*t + 2*f_4*x*y + t**2*(-2*d_14 - k_1 - k_4)/2 + x**2*(-2*d_14 - k_1 - k_4)/2 + x*z*(-d_11 - f_3 + k_2) + y**2*(-2*d_14 - k_1 - k_4)/2 + y*z*(d_13 + f_2 + k_3) + z**2*(-2*d_14 - k_1 - k_4)/2],\n",
       "[                                                                                                                                                                                                                                                                                                                                                                                                                                b_0 + b_1*t + c_2*y + d_11*t**2/2 + d_11*x**2/2 + d_11*y**2/2 + d_11*z**2/2 + d_13*x*y + 2*d_14*x*z + d_2*z + d_4*x + 2*f_4*t*y + t*x*(-2*d_14 - k_1 - k_4) + t*z*(-d_11 - f_3 + k_2)],\n",
       "[                                                                                                                                                                                                                                                                                                                                                                                                                                 c_0 + c_1*t + c_2*x + d_11*x*y + d_13*t**2/2 + d_13*x**2/2 + d_13*y**2/2 + d_13*z**2/2 + 2*d_14*y*z + d_3*z + d_4*y + 2*f_4*t*x + t*y*(-2*d_14 - k_1 - k_4) + t*z*(d_13 + f_2 + k_3)],\n",
       "[                                                                                                                                                                                                                                                                                                                                                                                                                             d_0 + d_1*t + d_11*x*z + d_13*y*z + d_14*t**2 + d_14*x**2 + d_14*y**2 + d_14*z**2 + d_2*x + d_3*y + d_4*z + t*x*(-d_11 - f_3 + k_2) + t*y*(d_13 + f_2 + k_3) + t*z*(-2*d_14 - k_1 - k_4)],\n",
       "[                                                       n_0*β_0(t, x, y, z) + u1*(k_0 + k_12*y**2 + k_14*t**2 + k_14*z**2 + k_4*z + k_9*x**2 + t*(k_1 - 2*k_14*z + k_6*x + k_7*y) + x*(k_10*y + k_11*z + k_2) + y*(k_13*z + k_3)) + u2*(b_1/2 - d_2/2 + f_4*y + t*(d_11 + f_3/2 - k_2/2) + x*(-2*d_14 - k_1/2 - k_4/2) + z*(-d_11 - f_3/2 + k_2/2)) + w1*(f_0 + f_14*t**2 + f_14*z**2 + f_4*z - k_10*x**2/2 + k_10*y**2/2 + t*(-f_13*y - 2*f_14*z - f_4 - k_7*x) + x*(f_2 - 2*k_12*y - k_13*z) + y*(f_13*z + f_3)) + w2*(c_1/2 - d_3/2 + f_4*x + t*(-f_2/2 - k_3/2) + y*(-2*d_14 - k_1/2 - k_4/2) + z*(f_2/2 + k_3/2))],\n",
       "[n_1*β_1(t, x, y, z) + u1*(b_1/2 + d_2/2 + f_4*y + t*(-f_3/2 + k_2/2) + x*(-k_1/2 - k_4/2) + z*(-f_3/2 + k_2/2)) + u2*(-d_1 + k_0 + k_12*y**2 + k_14*t**2 + k_14*z**2 + k_9*x**2 + t*(-2*d_14 + k_1 - 2*k_14*z + k_6*x + k_7*y) + x*(d_11 + f_3 + k_10*y + k_11*z) + y*(-d_13 - f_2 + k_13*z) + z*(2*d_14 + k_1 + 2*k_4)) + w1*(-c_1/2 - d_3/2 - f_4*x + t*(-d_13 - f_2/2 - k_3/2) + y*(k_1/2 + k_4/2) + z*(-d_13 - f_2/2 - k_3/2)) + w2*(c_2 + f_0 + f_14*t**2 + f_14*z**2 + f_4*z - k_10*x**2/2 + k_10*y**2/2 + t*(-f_13*y - 2*f_14*z + f_4 - k_7*x) + x*(d_13 + f_2 - 2*k_12*y - k_13*z) + y*(d_11 + f_13*z + f_3))],\n",
       "[                                                       n_2*β_2(t, x, y, z) - u1*(f_0 + f_14*t**2 + f_14*z**2 + f_4*z - k_10*x**2/2 + k_10*y**2/2 + t*(-f_13*y - 2*f_14*z - f_4 - k_7*x) + x*(f_2 - 2*k_12*y - k_13*z) + y*(f_13*z + f_3)) + u2*(-c_1/2 + d_3/2 - f_4*x + t*(f_2/2 + k_3/2) + y*(2*d_14 + k_1/2 + k_4/2) + z*(-f_2/2 - k_3/2)) + w1*(k_0 + k_12*y**2 + k_14*t**2 + k_14*z**2 + k_4*z + k_9*x**2 + t*(k_1 - 2*k_14*z + k_6*x + k_7*y) + x*(k_10*y + k_11*z + k_2) + y*(k_13*z + k_3)) + w2*(b_1/2 - d_2/2 + f_4*y + t*(d_11 + f_3/2 - k_2/2) + x*(-2*d_14 - k_1/2 - k_4/2) + z*(-d_11 - f_3/2 + k_2/2))],\n",
       "[n_3*β_3(t, x, y, z) - u1*(-c_1/2 - d_3/2 - f_4*x + t*(-d_13 - f_2/2 - k_3/2) + y*(k_1/2 + k_4/2) + z*(-d_13 - f_2/2 - k_3/2)) - u2*(c_2 + f_0 + f_14*t**2 + f_14*z**2 + f_4*z - k_10*x**2/2 + k_10*y**2/2 + t*(-f_13*y - 2*f_14*z + f_4 - k_7*x) + x*(d_13 + f_2 - 2*k_12*y - k_13*z) + y*(d_11 + f_13*z + f_3)) + w1*(b_1/2 + d_2/2 + f_4*y + t*(-f_3/2 + k_2/2) + x*(-k_1/2 - k_4/2) + z*(-f_3/2 + k_2/2)) + w2*(-d_1 + k_0 + k_12*y**2 + k_14*t**2 + k_14*z**2 + k_9*x**2 + t*(-2*d_14 + k_1 - 2*k_14*z + k_6*x + k_7*y) + x*(d_11 + f_3 + k_10*y + k_11*z) + y*(-d_13 - f_2 + k_13*z) + z*(2*d_14 + k_1 + 2*k_4))]])"
      ],
      "text/latex": "$\\displaystyle \\left[\\begin{matrix}a_{0} + b_{1} x + c_{1} y + d_{1} z + d_{11} t x + d_{13} t y + 2 d_{14} t z + d_{4} t + 2 f_{4} x y + \\frac{t^{2} \\left(- 2 d_{14} - k_{1} - k_{4}\\right)}{2} + \\frac{x^{2} \\left(- 2 d_{14} - k_{1} - k_{4}\\right)}{2} + x z \\left(- d_{11} - f_{3} + k_{2}\\right) + \\frac{y^{2} \\left(- 2 d_{14} - k_{1} - k_{4}\\right)}{2} + y z \\left(d_{13} + f_{2} + k_{3}\\right) + \\frac{z^{2} \\left(- 2 d_{14} - k_{1} - k_{4}\\right)}{2}\\\\b_{0} + b_{1} t + c_{2} y + \\frac{d_{11} t^{2}}{2} + \\frac{d_{11} x^{2}}{2} + \\frac{d_{11} y^{2}}{2} + \\frac{d_{11} z^{2}}{2} + d_{13} x y + 2 d_{14} x z + d_{2} z + d_{4} x + 2 f_{4} t y + t x \\left(- 2 d_{14} - k_{1} - k_{4}\\right) + t z \\left(- d_{11} - f_{3} + k_{2}\\right)\\\\c_{0} + c_{1} t + c_{2} x + d_{11} x y + \\frac{d_{13} t^{2}}{2} + \\frac{d_{13} x^{2}}{2} + \\frac{d_{13} y^{2}}{2} + \\frac{d_{13} z^{2}}{2} + 2 d_{14} y z + d_{3} z + d_{4} y + 2 f_{4} t x + t y \\left(- 2 d_{14} - k_{1} - k_{4}\\right) + t z \\left(d_{13} + f_{2} + k_{3}\\right)\\\\d_{0} + d_{1} t + d_{11} x z + d_{13} y z + d_{14} t^{2} + d_{14} x^{2} + d_{14} y^{2} + d_{14} z^{2} + d_{2} x + d_{3} y + d_{4} z + t x \\left(- d_{11} - f_{3} + k_{2}\\right) + t y \\left(d_{13} + f_{2} + k_{3}\\right) + t z \\left(- 2 d_{14} - k_{1} - k_{4}\\right)\\\\n_{0} \\operatorname{β_{0}}{\\left(t,x,y,z \\right)} + u_{1} \\left(k_{0} + k_{12} y^{2} + k_{14} t^{2} + k_{14} z^{2} + k_{4} z + k_{9} x^{2} + t \\left(k_{1} - 2 k_{14} z + k_{6} x + k_{7} y\\right) + x \\left(k_{10} y + k_{11} z + k_{2}\\right) + y \\left(k_{13} z + k_{3}\\right)\\right) + u_{2} \\left(\\frac{b_{1}}{2} - \\frac{d_{2}}{2} + f_{4} y + t \\left(d_{11} + \\frac{f_{3}}{2} - \\frac{k_{2}}{2}\\right) + x \\left(- 2 d_{14} - \\frac{k_{1}}{2} - \\frac{k_{4}}{2}\\right) + z \\left(- d_{11} - \\frac{f_{3}}{2} + \\frac{k_{2}}{2}\\right)\\right) + w_{1} \\left(f_{0} + f_{14} t^{2} + f_{14} z^{2} + f_{4} z - \\frac{k_{10} x^{2}}{2} + \\frac{k_{10} y^{2}}{2} + t \\left(- f_{13} y - 2 f_{14} z - f_{4} - k_{7} x\\right) + x \\left(f_{2} - 2 k_{12} y - k_{13} z\\right) + y \\left(f_{13} z + f_{3}\\right)\\right) + w_{2} \\left(\\frac{c_{1}}{2} - \\frac{d_{3}}{2} + f_{4} x + t \\left(- \\frac{f_{2}}{2} - \\frac{k_{3}}{2}\\right) + y \\left(- 2 d_{14} - \\frac{k_{1}}{2} - \\frac{k_{4}}{2}\\right) + z \\left(\\frac{f_{2}}{2} + \\frac{k_{3}}{2}\\right)\\right)\\\\n_{1} \\operatorname{β_{1}}{\\left(t,x,y,z \\right)} + u_{1} \\left(\\frac{b_{1}}{2} + \\frac{d_{2}}{2} + f_{4} y + t \\left(- \\frac{f_{3}}{2} + \\frac{k_{2}}{2}\\right) + x \\left(- \\frac{k_{1}}{2} - \\frac{k_{4}}{2}\\right) + z \\left(- \\frac{f_{3}}{2} + \\frac{k_{2}}{2}\\right)\\right) + u_{2} \\left(- d_{1} + k_{0} + k_{12} y^{2} + k_{14} t^{2} + k_{14} z^{2} + k_{9} x^{2} + t \\left(- 2 d_{14} + k_{1} - 2 k_{14} z + k_{6} x + k_{7} y\\right) + x \\left(d_{11} + f_{3} + k_{10} y + k_{11} z\\right) + y \\left(- d_{13} - f_{2} + k_{13} z\\right) + z \\left(2 d_{14} + k_{1} + 2 k_{4}\\right)\\right) + w_{1} \\left(- \\frac{c_{1}}{2} - \\frac{d_{3}}{2} - f_{4} x + t \\left(- d_{13} - \\frac{f_{2}}{2} - \\frac{k_{3}}{2}\\right) + y \\left(\\frac{k_{1}}{2} + \\frac{k_{4}}{2}\\right) + z \\left(- d_{13} - \\frac{f_{2}}{2} - \\frac{k_{3}}{2}\\right)\\right) + w_{2} \\left(c_{2} + f_{0} + f_{14} t^{2} + f_{14} z^{2} + f_{4} z - \\frac{k_{10} x^{2}}{2} + \\frac{k_{10} y^{2}}{2} + t \\left(- f_{13} y - 2 f_{14} z + f_{4} - k_{7} x\\right) + x \\left(d_{13} + f_{2} - 2 k_{12} y - k_{13} z\\right) + y \\left(d_{11} + f_{13} z + f_{3}\\right)\\right)\\\\n_{2} \\operatorname{β_{2}}{\\left(t,x,y,z \\right)} - u_{1} \\left(f_{0} + f_{14} t^{2} + f_{14} z^{2} + f_{4} z - \\frac{k_{10} x^{2}}{2} + \\frac{k_{10} y^{2}}{2} + t \\left(- f_{13} y - 2 f_{14} z - f_{4} - k_{7} x\\right) + x \\left(f_{2} - 2 k_{12} y - k_{13} z\\right) + y \\left(f_{13} z + f_{3}\\right)\\right) + u_{2} \\left(- \\frac{c_{1}}{2} + \\frac{d_{3}}{2} - f_{4} x + t \\left(\\frac{f_{2}}{2} + \\frac{k_{3}}{2}\\right) + y \\left(2 d_{14} + \\frac{k_{1}}{2} + \\frac{k_{4}}{2}\\right) + z \\left(- \\frac{f_{2}}{2} - \\frac{k_{3}}{2}\\right)\\right) + w_{1} \\left(k_{0} + k_{12} y^{2} + k_{14} t^{2} + k_{14} z^{2} + k_{4} z + k_{9} x^{2} + t \\left(k_{1} - 2 k_{14} z + k_{6} x + k_{7} y\\right) + x \\left(k_{10} y + k_{11} z + k_{2}\\right) + y \\left(k_{13} z + k_{3}\\right)\\right) + w_{2} \\left(\\frac{b_{1}}{2} - \\frac{d_{2}}{2} + f_{4} y + t \\left(d_{11} + \\frac{f_{3}}{2} - \\frac{k_{2}}{2}\\right) + x \\left(- 2 d_{14} - \\frac{k_{1}}{2} - \\frac{k_{4}}{2}\\right) + z \\left(- d_{11} - \\frac{f_{3}}{2} + \\frac{k_{2}}{2}\\right)\\right)\\\\n_{3} \\operatorname{β_{3}}{\\left(t,x,y,z \\right)} - u_{1} \\left(- \\frac{c_{1}}{2} - \\frac{d_{3}}{2} - f_{4} x + t \\left(- d_{13} - \\frac{f_{2}}{2} - \\frac{k_{3}}{2}\\right) + y \\left(\\frac{k_{1}}{2} + \\frac{k_{4}}{2}\\right) + z \\left(- d_{13} - \\frac{f_{2}}{2} - \\frac{k_{3}}{2}\\right)\\right) - u_{2} \\left(c_{2} + f_{0} + f_{14} t^{2} + f_{14} z^{2} + f_{4} z - \\frac{k_{10} x^{2}}{2} + \\frac{k_{10} y^{2}}{2} + t \\left(- f_{13} y - 2 f_{14} z + f_{4} - k_{7} x\\right) + x \\left(d_{13} + f_{2} - 2 k_{12} y - k_{13} z\\right) + y \\left(d_{11} + f_{13} z + f_{3}\\right)\\right) + w_{1} \\left(\\frac{b_{1}}{2} + \\frac{d_{2}}{2} + f_{4} y + t \\left(- \\frac{f_{3}}{2} + \\frac{k_{2}}{2}\\right) + x \\left(- \\frac{k_{1}}{2} - \\frac{k_{4}}{2}\\right) + z \\left(- \\frac{f_{3}}{2} + \\frac{k_{2}}{2}\\right)\\right) + w_{2} \\left(- d_{1} + k_{0} + k_{12} y^{2} + k_{14} t^{2} + k_{14} z^{2} + k_{9} x^{2} + t \\left(- 2 d_{14} + k_{1} - 2 k_{14} z + k_{6} x + k_{7} y\\right) + x \\left(d_{11} + f_{3} + k_{10} y + k_{11} z\\right) + y \\left(- d_{13} - f_{2} + k_{13} z\\right) + z \\left(2 d_{14} + k_{1} + 2 k_{4}\\right)\\right)\\end{matrix}\\right]$"
     },
     "metadata": {},
     "execution_count": 44
    }
   ],
   "source": [
    "final_eqs = sp.Matrix([eqs[0], eqs[1], eqs[2], eqs[3], phi, chi, psi, omg]).subs(dic2)\n",
    "final_eqs"
   ]
  },
  {
   "cell_type": "code",
   "execution_count": 56,
   "metadata": {},
   "outputs": [
    {
     "output_type": "execute_result",
     "data": {
      "text/plain": [
       "37"
      ]
     },
     "metadata": {},
     "execution_count": 56
    }
   ],
   "source": [
    "lc_f = []\n",
    "for i in lc0+lc1+lc2+lc3+f+k+n:\n",
    "    if final_eqs.has(i):\n",
    "        lc_f.append(i)\n",
    "sl = np.size(lc_f)\n",
    "sl"
   ]
  },
  {
   "cell_type": "code",
   "execution_count": 57,
   "metadata": {},
   "outputs": [
    {
     "output_type": "execute_result",
     "data": {
      "text/plain": [
       "37"
      ]
     },
     "metadata": {},
     "execution_count": 57
    }
   ],
   "source": [
    "#Lets generate all the possible vector fields\n",
    "v_fields = []\n",
    "for i in range(0, sl):\n",
    "    arr = sp.Matrix(final_eqs.copy())\n",
    "    for j in range(0, sl):\n",
    "        if i != j:\n",
    "            arr = arr.subs(lc_f[j], 0)\n",
    "    temp = 0\n",
    "    #could probably do a np.sum( arr ) and be done, but whatever\n",
    "    for k in range(0, 8):\n",
    "        temp = temp + arr[k].subs(lc_f[i], 1)*der[k]\n",
    "    v_fields.append(temp)\n",
    "np.size(v_fields)"
   ]
  },
  {
   "source": [
    "$[v_1, v_2] = v_1 \\cdot v_2 - v_2 \\cdot v_1 = c \\cdot v_j$ or $= 0$"
   ],
   "cell_type": "markdown",
   "metadata": {}
  },
  {
   "source": [
    "enum = range(0, sl)\n",
    "sp.Matrix( [enum, v_fields]).T"
   ],
   "cell_type": "markdown",
   "metadata": {}
  },
  {
   "cell_type": "code",
   "execution_count": null,
   "metadata": {},
   "outputs": [],
   "source": [
    "lvar_f = lvar + [u1, u2, w1, w2]\n",
    "dic_der = dict(list(zip(der, lvar_f)))\n",
    "der"
   ]
  },
  {
   "cell_type": "code",
   "execution_count": null,
   "metadata": {},
   "outputs": [],
   "source": [
    "import time "
   ]
  },
  {
   "source": [
    "#rewritten the original lie_alg() function to include the case of 0, since this can happen now as well\n",
    "def lie_alg_t(expr1, expr2, der, dic):\n",
    "    if expr1 == 0 or expr2 == 0:\n",
    "        return 0\n",
    "    else: \n",
    "        terms = []\n",
    "        for i in der:\n",
    "            if expr1.has(i):\n",
    "                terms.append(i)\n",
    "        #list with the derivatives\n",
    "        pol = sp.Poly(expr1, *der)\n",
    "        pol = pol.coeffs()\n",
    "        #list with the coefficients of the derivatives\n",
    "        s = np.size(pol)\n",
    "        for i in range(0, s):\n",
    "            pol[i] = pol[i]*( terms[i].subs( terms[i], sp.diff( expr2 , dic[ terms[i] ]  ) ) )\n",
    "            #this simulates v_1*v_2 with the derivative applied.\n",
    "        return np.sum(pol)"
   ],
   "cell_type": "code",
   "metadata": {},
   "execution_count": null,
   "outputs": []
  },
  {
   "source": [
    "Skew symmetry:\n",
    "$$ [u, w] = - [w, u]$$"
   ],
   "cell_type": "markdown",
   "metadata": {}
  },
  {
   "cell_type": "code",
   "execution_count": null,
   "metadata": {},
   "outputs": [],
   "source": [
    "t0 = time.time()"
   ]
  },
  {
   "cell_type": "code",
   "execution_count": null,
   "metadata": {},
   "outputs": [],
   "source": [
    "#SKEW SYMMETRY\n",
    "skew = (np.zeros(sl**2).reshape(sl, sl)).tolist()\n",
    "for i in range(0, sl):\n",
    "    for j in range(0, sl):\n",
    "        skew[i][j] = lie_alg(v_fields[i], v_fields[j], der, dic_der ) - lie_alg(v_fields[j], v_fields[i], der, dic_der )\n",
    "\n",
    "for i in range(0, sl):\n",
    "    for j in range(0, i+1):\n",
    "        if skew[i][j] != -skew[j][i] :\n",
    "            print(\"For i: \", i, \"and j: \", j)\n",
    "            print(\"Not fulifilled\")\n",
    "            \n",
    "for i in range(0, sl):\n",
    "    if skew[i][i] != 0:\n",
    "        print(\"You fuckit up\")\n",
    "#PASSED!"
   ]
  },
  {
   "cell_type": "code",
   "execution_count": null,
   "metadata": {},
   "outputs": [],
   "source": [
    "t1 = time.time()"
   ]
  },
  {
   "source": [
    "Bilinearity:\n",
    "$$ [qv + pu, w] = q[v, w] + p[u,w]$$"
   ],
   "cell_type": "markdown",
   "metadata": {}
  },
  {
   "source": [
    "#Bilinearity\n",
    "for i in range(0, sl):\n",
    "    v = v_fields[i]\n",
    "    for j in range(0, sl):\n",
    "        u = v_fields[j]\n",
    "        for k in range(0, sl):\n",
    "            w = v_fields[k]\n",
    "\n",
    "            bil1 = sp.expand( lie_alg_t( sp.expand(q*v+p*u), w, der, dic_der ) - lie_alg_t( w, sp.expand(q*v+p*u), der, dic_der ) )\n",
    "            bil2 = sp.expand(  q*( lie_alg_t( v, w, der, dic_der ) - lie_alg_t( w, v, der, dic_der )  )  )\n",
    "            bil3 = sp.expand(  p*( lie_alg_t( u, w, der, dic_der ) - lie_alg_t( w, u, der, dic_der )  )  )\n",
    "            if sp.expand(bil1 - bil2 - bil3) != 0:\n",
    "                print(\"Bilinearity not satisfied\")\n",
    "                print(i, j, k)"
   ],
   "cell_type": "code",
   "metadata": {},
   "execution_count": null,
   "outputs": []
  },
  {
   "source": [
    "t2 = time.time()"
   ],
   "cell_type": "code",
   "metadata": {},
   "execution_count": null,
   "outputs": []
  },
  {
   "source": [
    "Jacobi identity:\n",
    "$$[u, [v, w]] + [w, [u, v]] + [v, [w, u]] = 0$$\n",
    "$$a = [v, w]$$\n",
    "$$b = [u, v]$$\n",
    "$$c = [w, u]$$"
   ],
   "cell_type": "markdown",
   "metadata": {}
  },
  {
   "source": [
    "#JACOBI IDENTITY\n",
    "\n",
    "for i in range(0, sl):\n",
    "    u = v_fields[i]\n",
    "    for j in range(0, sl):\n",
    "        v = v_fields[j]\n",
    "        b  = sp.expand(lie_alg_t(u, v, der, dic_der)) - sp.expand(lie_alg_t(v, u, der, dic_der))\n",
    "        for k in range(0, sl):\n",
    "            w = v_fields[k]\n",
    "            a  = sp.expand(lie_alg_t(v, w, der, dic_der)) - sp.expand(lie_alg_t(w, v, der, dic_der))\n",
    "            \n",
    "            c  = sp.expand(lie_alg_t(w, u, der, dic_der)) - sp.expand(lie_alg_t(u, w, der, dic_der))\n",
    "            e1 = sp.expand(lie_alg_t(u, a ,der, dic_der)) - sp.expand(lie_alg_t(a, u ,der, dic_der))\n",
    "            e2 = sp.expand(lie_alg_t(w, b ,der, dic_der)) - sp.expand(lie_alg_t(b, w ,der, dic_der))\n",
    "            e3 = sp.expand(lie_alg_t(v, c ,der, dic_der)) - sp.expand(lie_alg_t(c, v ,der, dic_der))\n",
    "            if sp.expand(e1 + e2 + e3) !=0:\n",
    "                print(\"Jacobi Identity not fuliffiled\")\n",
    "                print(i, j, k)\n",
    "\n",
    "#PASSED!\n",
    "#commented because it takes too long to evaluated"
   ],
   "cell_type": "code",
   "metadata": {},
   "execution_count": null,
   "outputs": []
  },
  {
   "source": [
    "t3 = time.time()"
   ],
   "cell_type": "code",
   "metadata": {},
   "execution_count": null,
   "outputs": []
  },
  {
   "source": [
    "print(\"Skew symmetry time:\", t1-t0)\n",
    "print(\"Bilinearity time:\", t2-t1)\n",
    "print(\"Jacobi identity time:\", t3- t2)"
   ],
   "cell_type": "code",
   "metadata": {},
   "execution_count": null,
   "outputs": []
  }
 ]
}