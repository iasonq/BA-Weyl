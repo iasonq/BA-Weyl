{
 "metadata": {
  "language_info": {
   "codemirror_mode": {
    "name": "ipython",
    "version": 3
   },
   "file_extension": ".py",
   "mimetype": "text/x-python",
   "name": "python",
   "nbconvert_exporter": "python",
   "pygments_lexer": "ipython3",
   "version": 3
  },
  "orig_nbformat": 4
 },
 "nbformat": 4,
 "nbformat_minor": 2,
 "cells": [
  {
   "source": [
    "No code here only the solution of the differential equations"
   ],
   "cell_type": "markdown",
   "metadata": {}
  },
  {
   "source": [
    "$$ ξ_t = τ_x \\hspace{2cm} γ_t = τ_y \\hspace{2cm} ζ_t = τ_z$$\n",
    "$$ ξ_x = τ_t \\hspace{2cm} γ_y = τ_t \\hspace{2cm} ζ_z = τ_t$$\n",
    "$$ ξ_y =-γ_x \\hspace{2cm} γ_z =-ζ_y \\hspace{2cm} ξ_z =-ζ_x$$\n",
    "By using these equations we conclude that \n",
    "$$ τ = c_1(t + x  + y + z) + k_0 $$\n",
    "$$ ξ = c_1(t + x) + c_2 y  + c_3 z + k_1 $$\n",
    "$$ γ = c_1(t + y) - c_2 x  + c_4 z + k_2 $$\n",
    "$$ ζ = c_1(t + z) - c_3 x  - c_4 y + k_3 $$"
   ],
   "cell_type": "markdown",
   "metadata": {}
  },
  {
   "source": [
    "Afterwards we can easily conclude that \n",
    "$$ ω = \\frac{1}{2}(c_1 +c_4)u_1 + \\frac{1}{2} (c_1 + c_3)w_1 + f_1$$\n",
    "$$ ψ = \\frac{1}{2}(c_4 -c_1)u_2 + \\frac{1}{2} (c_1 - c_3)w_2 + f_2$$\n",
    "Using \n",
    "$$ ω_{u2} - ψ_{u1} =  - ξ_y = c_2, \\hspace{2cm} ω_{w2} = ψ_{w1} - c1$$\n",
    "We see that the right side is constant, therefore the left side should be constant as well. We already know the form of $ω$ and $ψ$ the other variables, thefore ω must depend on $u_2$ linearly.\n",
    "$$ ω = \\frac{1}{2}(c_1 +c_4)u_1 + \\frac{1}{2} (c_1 + c_3)w_1 + (c_5 - c_2)u_2 + (c_6 - c_1)w_2 + f_{ω}(t,x,y,z) $$\n",
    "$$ ψ = c_5 u_1 + c_6 w_1 + \\frac{1}{2}(c_4 -c_1)u_2 + \\frac{1}{2} (c_1 - c_3)w_2 + f_{ψ}(t,x,y,z)$$"
   ],
   "cell_type": "markdown",
   "metadata": {}
  },
  {
   "source": [
    "From the rest of the relations we can simply integrate without the need of making any assumptions to find $χ, φ$\n",
    "$$ φ = c_6 u_1 - c_5 w_1 + \\frac{1}{2}(c_1 - c_3)u_2 -\\frac{1}{2}(c_4 - c_1)w_2 + f_φ(t,x,y,z)$$\n",
    "$$ χ = \\frac{1}{2}(c_1 + c_3) u_1 - \\frac{1}{2}(c_1 + c_4)w_1 + (c_6 - c_1) u_2 + (c_5 - c_2) w_2 + f_χ(t,x,y,z)$$"
   ],
   "cell_type": "markdown",
   "metadata": {}
  },
  {
   "source": [
    "Vector fields. \n",
    "\n",
    "From τ, ξ, γ, ζ constants:\n",
    "$$ u_i = k_i \\frac{ \\partial }{\\partial x^i} $$  \n",
    "$$ k_i \\in \\{ k_0, k_1, k_2, k_3 \\} \\hspace{2cm} x^i \\in \\{ t, x, y, z \\} $$\n",
    "For the $c_1$ constant:\n",
    "$$ c_1: (t+x+y+z)\\partial_t  + (t+x)\\partial_x + (t + y) \\partial_y + (t + z)\\partial_z    $$\n",
    "$$ + \\frac{1}{2}(u_2 + w_2) \\partial_{u_1} + \\frac{1}{2}(u_1 - w_1 - 2u_2)\\partial_{u_2} $$\n",
    "$$ + \\frac{1}{2}(-u_2 + w_2) \\partial_{w_1} + \\frac{1}{2}(u_1 + w_1 - 2w_2) \\partial_{w_2}   $$"
   ],
   "cell_type": "markdown",
   "metadata": {}
  },
  {
   "cell_type": "code",
   "execution_count": null,
   "metadata": {},
   "outputs": [],
   "source": []
  }
 ]
}