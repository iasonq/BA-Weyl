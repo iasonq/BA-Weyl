{
 "metadata": {
  "language_info": {
   "codemirror_mode": {
    "name": "ipython",
    "version": 3
   },
   "file_extension": ".py",
   "mimetype": "text/x-python",
   "name": "python",
   "nbconvert_exporter": "python",
   "pygments_lexer": "ipython3",
   "version": "3.8.8"
  },
  "orig_nbformat": 4,
  "kernelspec": {
   "name": "python3",
   "display_name": "Python 3.8.8 64-bit ('gp-env': conda)"
  },
  "interpreter": {
   "hash": "3aff35d366b980e568cc03d2d00c83eac08dd05ed9a824e247edc85e357eb300"
  }
 },
 "nbformat": 4,
 "nbformat_minor": 2,
 "cells": [
  {
   "cell_type": "code",
   "execution_count": 405,
   "source": [
    "\n",
    "import numpy as np \n",
    "import sympy as sp \n",
    "from sympy.abc import a,b,c\n"
   ],
   "outputs": [],
   "metadata": {}
  },
  {
   "cell_type": "code",
   "execution_count": 406,
   "source": [
    "from functions2 import *"
   ],
   "outputs": [],
   "metadata": {}
  },
  {
   "cell_type": "code",
   "execution_count": 407,
   "source": [
    "\n",
    "t, x, y, z, c = sp.symbols(\"t x y z c\")\n",
    "u1, u2, w1, w2 = sp.symbols(\"u1, u2, w1, w2\")\n",
    "τ, ξ, γ, ζ = sp.symbols(\"τ, ξ, γ, ζ\")\n",
    "φ, χ, ψ, ω = sp.symbols(\"φ, χ, ψ, ω\")\n",
    "lvar = [t, x, y, z]\n",
    "lwlf = sp.Matrix([u1, u2, w1, w2])\n",
    "var = sp.Matrix([1, t, x, y, z])\n",
    "\n",
    "q, p = sp.symbols(\"q p\")\n",
    "\n",
    "β1 = sp.Function(\"β_1\")(t, x, y, z)\n",
    "β2 = sp.Function(\"β_2\")(t, x, y, z)\n",
    "β3 = sp.Function(\"β_3\")(t, x, y, z)\n",
    "β4 = sp.Function(\"β_4\")(t, x, y, z) \n"
   ],
   "outputs": [],
   "metadata": {}
  },
  {
   "cell_type": "code",
   "execution_count": 408,
   "source": [
    "#Constants in case needed\n",
    "k = [   sp.symbols(f\"{symbol}_{index}\")\n",
    "        for symbol in (\"k\")\n",
    "        for index in range(0, 15)\n",
    "        ]\n",
    "#Constants used for φ,χ,ψ,ω\n",
    "f = [   sp.symbols(f\"{symbol}_{index}\")\n",
    "        for symbol in (\"f\")\n",
    "        for index in range(0, 15)\n",
    "        ]\n",
    "\n",
    "#Symbols used to represent the partial derivatives of the vector fields\n",
    "der = [\n",
    "        sp.symbols(f\"{symbol}_{index}\")\n",
    "        for symbol in (\"δ\")\n",
    "        for index in (\"t\", \"x\", \"y\", \"z\", \"u1\", \"u2\", \"w1\", \"w2\")\n",
    "        ]"
   ],
   "outputs": [],
   "metadata": {}
  },
  {
   "cell_type": "code",
   "execution_count": 409,
   "source": [
    "def clear_zer_tn(exp):\n",
    "    s = np.size(exp)\n",
    "    l = []\n",
    "    for i in range(0, s):\n",
    "        if exp[i] != 0:\n",
    "            l.append(exp[i])\n",
    "    #l = np.array(l)\n",
    "    return l"
   ],
   "outputs": [],
   "metadata": {}
  },
  {
   "cell_type": "code",
   "execution_count": 410,
   "source": [
    "def listify(expr):\n",
    "    l = []\n",
    "    for i in expr:\n",
    "        l.append(i)\n",
    "    return l"
   ],
   "outputs": [],
   "metadata": {}
  },
  {
   "cell_type": "code",
   "execution_count": 411,
   "source": [
    "def comb(τ, ξ, γ, ζ):\n",
    "    return sp.Matrix([τ, ξ, γ, ζ])\n",
    "def uncomb(eqs):\n",
    "    return eqs[0], eqs[1], eqs[2], eqs[3]"
   ],
   "outputs": [],
   "metadata": {}
  },
  {
   "cell_type": "code",
   "execution_count": 412,
   "source": [
    "grid = var*var.T\n",
    "grid"
   ],
   "outputs": [
    {
     "output_type": "execute_result",
     "data": {
      "text/latex": [
       "$\\displaystyle \\left[\\begin{matrix}1 & t & x & y & z\\\\t & t^{2} & t x & t y & t z\\\\x & t x & x^{2} & x y & x z\\\\y & t y & x y & y^{2} & y z\\\\z & t z & x z & y z & z^{2}\\end{matrix}\\right]$"
      ],
      "text/plain": [
       "Matrix([\n",
       "[1,    t,    x,    y,    z],\n",
       "[t, t**2,  t*x,  t*y,  t*z],\n",
       "[x,  t*x, x**2,  x*y,  x*z],\n",
       "[y,  t*y,  x*y, y**2,  y*z],\n",
       "[z,  t*z,  x*z,  y*z, z**2]])"
      ]
     },
     "metadata": {},
     "execution_count": 412
    }
   ],
   "metadata": {}
  },
  {
   "cell_type": "code",
   "execution_count": 413,
   "source": [
    "gvar = sp.Matrix( clear_zer_tn ( rm_red_t(  flatten(grid))))\n",
    "gvar.reshape(3, 5)"
   ],
   "outputs": [
    {
     "output_type": "execute_result",
     "data": {
      "text/latex": [
       "$\\displaystyle \\left[\\begin{matrix}1 & t & x & y & z\\\\t^{2} & t x & t y & t z & x^{2}\\\\x y & x z & y^{2} & y z & z^{2}\\end{matrix}\\right]$"
      ],
      "text/plain": [
       "Matrix([\n",
       "[   1,   t,    x,   y,    z],\n",
       "[t**2, t*x,  t*y, t*z, x**2],\n",
       "[ x*y, x*z, y**2, y*z, z**2]])"
      ]
     },
     "metadata": {},
     "execution_count": 413
    }
   ],
   "metadata": {}
  },
  {
   "cell_type": "code",
   "execution_count": 414,
   "source": [
    "lc0 = [\n",
    "        sp.symbols(f\"{symbol}_{index}\")\n",
    "        for symbol in (\"a\")\n",
    "        for index in range(0, 15)\n",
    "        ]\n",
    "lc1 = [\n",
    "        sp.symbols(f\"{symbol}_{index}\")\n",
    "        for symbol in (\"b\")\n",
    "        for index in range(0, 15)\n",
    "        ]\n",
    "lc2 = [\n",
    "        sp.symbols(f\"{symbol}_{index}\")\n",
    "        for symbol in (\"c\")\n",
    "        for index in range(0, 15)\n",
    "        ]\n",
    "lc3 = [\n",
    "        sp.symbols(f\"{symbol}_{index}\")\n",
    "        for symbol in (\"d\")\n",
    "        for index in range(0, 15)\n",
    "        ]\n",
    "lc = lc0+lc1+lc2+lc3"
   ],
   "outputs": [],
   "metadata": {}
  },
  {
   "cell_type": "code",
   "execution_count": 415,
   "source": [
    "#Generate the Ansatz of 2nd order polynomial for our functions\n",
    "τ = sp.Matrix(lc0).T*gvar\n",
    "ξ = sp.Matrix(lc1).T*gvar\n",
    "γ = sp.Matrix(lc2).T*gvar\n",
    "ζ = sp.Matrix(lc3).T*gvar"
   ],
   "outputs": [],
   "metadata": {}
  },
  {
   "cell_type": "code",
   "execution_count": 416,
   "source": [
    "#Set certain combations to 0 we have found not to appear\n",
    "dicti = {\n",
    "    lc1[13]:0,\n",
    "    lc2[11]:0,\n",
    "    lc3[10]:0,\n",
    "}"
   ],
   "outputs": [],
   "metadata": {}
  },
  {
   "cell_type": "code",
   "execution_count": 417,
   "source": [
    "eqs = comb(τ, ξ, γ, ζ).subs(dicti)\n",
    "eqs"
   ],
   "outputs": [
    {
     "output_type": "execute_result",
     "data": {
      "text/latex": [
       "$\\displaystyle \\left[\\begin{matrix}a_{0} + a_{1} t + a_{10} x y + a_{11} x z + a_{12} y^{2} + a_{13} y z + a_{14} z^{2} + a_{2} x + a_{3} y + a_{4} z + a_{5} t^{2} + a_{6} t x + a_{7} t y + a_{8} t z + a_{9} x^{2}\\\\b_{0} + b_{1} t + b_{10} x y + b_{11} x z + b_{12} y^{2} + b_{14} z^{2} + b_{2} x + b_{3} y + b_{4} z + b_{5} t^{2} + b_{6} t x + b_{7} t y + b_{8} t z + b_{9} x^{2}\\\\c_{0} + c_{1} t + c_{10} x y + c_{12} y^{2} + c_{13} y z + c_{14} z^{2} + c_{2} x + c_{3} y + c_{4} z + c_{5} t^{2} + c_{6} t x + c_{7} t y + c_{8} t z + c_{9} x^{2}\\\\d_{0} + d_{1} t + d_{11} x z + d_{12} y^{2} + d_{13} y z + d_{14} z^{2} + d_{2} x + d_{3} y + d_{4} z + d_{5} t^{2} + d_{6} t x + d_{7} t y + d_{8} t z + d_{9} x^{2}\\end{matrix}\\right]$"
      ],
      "text/plain": [
       "Matrix([\n",
       "[a_0 + a_1*t + a_10*x*y + a_11*x*z + a_12*y**2 + a_13*y*z + a_14*z**2 + a_2*x + a_3*y + a_4*z + a_5*t**2 + a_6*t*x + a_7*t*y + a_8*t*z + a_9*x**2],\n",
       "[           b_0 + b_1*t + b_10*x*y + b_11*x*z + b_12*y**2 + b_14*z**2 + b_2*x + b_3*y + b_4*z + b_5*t**2 + b_6*t*x + b_7*t*y + b_8*t*z + b_9*x**2],\n",
       "[           c_0 + c_1*t + c_10*x*y + c_12*y**2 + c_13*y*z + c_14*z**2 + c_2*x + c_3*y + c_4*z + c_5*t**2 + c_6*t*x + c_7*t*y + c_8*t*z + c_9*x**2],\n",
       "[           d_0 + d_1*t + d_11*x*z + d_12*y**2 + d_13*y*z + d_14*z**2 + d_2*x + d_3*y + d_4*z + d_5*t**2 + d_6*t*x + d_7*t*y + d_8*t*z + d_9*x**2]])"
      ]
     },
     "metadata": {},
     "execution_count": 417
    }
   ],
   "metadata": {}
  },
  {
   "cell_type": "code",
   "execution_count": 418,
   "source": [
    "#This would be the sorting/mapping function\n",
    "#deprecated apparently\n",
    "def sort_poly(expr, sym):\n",
    "    #sym = lvar\n",
    "    #obtain the constant part of the expression\n",
    "    const = expr.copy()\n",
    "    for i in sym:\n",
    "        const = const.subs( i , 0 )\n",
    "\n",
    "    lista = []\n",
    "    lista.append(const)\n",
    "    #substract the constant part every time\n",
    "    for i in sym:\n",
    "        expr_zer = expr.copy() - const\n",
    "        for j in sym:\n",
    "            #substitute all coefficient with 0\n",
    "            #except the one we are interested in\n",
    "            if i != j:\n",
    "                expr_zer = expr_zer.subs( j, 0 )\n",
    "        #replace the coefficient we are interested in with 1\n",
    "        #to obtain a clean final expression\n",
    "        expr_zer = expr_zer.subs( i , 1 )\n",
    "        lista.append(expr_zer)\n",
    "    return lista\n"
   ],
   "outputs": [],
   "metadata": {}
  },
  {
   "cell_type": "code",
   "execution_count": 419,
   "source": [
    "#Make a dictionary out of paired coefficients or alone standing ones. Works in case of 0,1,2 coefficients together. \n",
    "#In this specific case scenario, it's the only amount we expect to encounter anyways\n",
    "def mkdic(expr, lcons):\n",
    "    dic = {}\n",
    "    c = []\n",
    "    for i in lcons:\n",
    "        if expr.has(i):\n",
    "            c.append(i)\n",
    "    if len(c) == 1:\n",
    "        dic.update({c[0]:0})\n",
    "    elif len(c) != 0: \n",
    "        #make it for ANY length?\n",
    "        #print size, to check if its necessary. for more coefficients its easy to implement actually.\n",
    "        #print(np.size(c))\n",
    "        poly = sp.Poly(expr, c[0], c[1])\n",
    "        coef = poly.coeffs()\n",
    "        dic.update({ c[1] : -1 * ( coef[0]/coef[1] ) * c[0] })\n",
    "    else:\n",
    "        print(\"No constant found\")\n",
    "    return dic"
   ],
   "outputs": [],
   "metadata": {}
  },
  {
   "cell_type": "code",
   "execution_count": 420,
   "source": [
    "#Create the dictionary for an expression \n",
    "def comp( expr, lvar, lc, dicti):\n",
    "    #p = sort_poly(p, lvar)\n",
    "    #i use the variables t,x,y,z as generators for the polynomial\n",
    "    p = sp.Poly(expr, *lvar)\n",
    "    p = p.coeffs()\n",
    "    #p now is a list with expressions in each entry with 0,1 or 2 symbols added/subtracted. \n",
    "    #Thats why mkdic processes each entry of this list separately\n",
    "    s = np.size(p)\n",
    "    dic = {}\n",
    "    for i in range(0, s):\n",
    "        dic.update( mkdic( p[i], lc) )\n",
    "    dicti.update(dic)\n",
    "    return dicti"
   ],
   "outputs": [],
   "metadata": {}
  },
  {
   "cell_type": "code",
   "execution_count": 421,
   "source": [
    "def lie_alg(expr1, expr2, der, dic):\n",
    "    coef = []\n",
    "    for i in der:\n",
    "        if expr1.has(i):\n",
    "            coef.append(i)\n",
    "    #list with the derivatives\n",
    "    pol = sp.Poly(expr1, *der)\n",
    "    pol = pol.coeffs()\n",
    "    #list with the coefficients of the derivatives\n",
    "    s = np.size(pol)\n",
    "    for i in range(0, s):\n",
    "        pol[i] = pol[i]*( coef[i].subs( coef[i], sp.diff( expr2 , dic[ coef[i] ]  ) ) )\n",
    "        #this simulates v_1*v_2 with the derivative applied.\n",
    "    return np.sum(pol)"
   ],
   "outputs": [],
   "metadata": {}
  },
  {
   "cell_type": "code",
   "execution_count": 422,
   "source": [
    "#Kinda late to implement this but whatever. Didn't use it at all.\n",
    "def commutator(expr1, expr2, der, dic):\n",
    "    comm = lieg_alg(expr1, expr2, der, dic) - lieg_alg(expr2, expr1, der, dic)\n",
    "    return comm"
   ],
   "outputs": [],
   "metadata": {}
  },
  {
   "cell_type": "code",
   "execution_count": 423,
   "source": [
    "#Implementation of the first set of equations we have from part 1 of the results.\n",
    "#And coefficient comparison\n",
    "eq1 = np.array([0, 0, 0, 0, 0, 0])\n",
    "eq2 = np.array([1, 1, 2, 2, 3, 3])\n",
    "var1= np.array([x, t, y, t, z, t])\n",
    "var2= np.array([t, x, t, y, t, z])\n",
    "expr1 = []\n",
    "for i in range(0, 6):\n",
    "    expr1.append(eqs[ eq1[i] ].diff( var1[i] ) - eqs[ eq2[i] ].diff( var2[i]) )\n",
    "    dicti = comp( expr1[i], lvar, lc, dicti)\n",
    "    eqs = eqs.subs(dicti)"
   ],
   "outputs": [],
   "metadata": {}
  },
  {
   "cell_type": "code",
   "execution_count": 424,
   "source": [
    "eqs"
   ],
   "outputs": [
    {
     "output_type": "execute_result",
     "data": {
      "text/latex": [
       "$\\displaystyle \\left[\\begin{matrix}a_{0} + a_{1} t + a_{10} x y + a_{11} x z + a_{13} y z + a_{2} x + a_{3} y + a_{4} z + a_{5} t^{2} + a_{5} x^{2} + a_{5} y^{2} + a_{5} z^{2} + a_{6} t x + a_{7} t y + a_{8} t z\\\\a_{1} x + a_{10} t y + a_{11} t z + a_{2} t + 2 a_{5} t x + \\frac{a_{6} t^{2}}{2} + \\frac{a_{6} x^{2}}{2} + a_{7} x y + a_{8} x z + b_{0} + b_{12} y^{2} + b_{14} z^{2} + b_{3} y + b_{4} z\\\\a_{1} y + a_{10} t x + a_{13} t z + a_{3} t + 2 a_{5} t y + a_{6} x y + \\frac{a_{7} t^{2}}{2} + \\frac{a_{7} y^{2}}{2} + a_{8} y z + c_{0} + c_{14} z^{2} + c_{2} x + c_{4} z + c_{9} x^{2}\\\\a_{1} z + a_{11} t x + a_{13} t y + a_{4} t + 2 a_{5} t z + a_{6} x z + a_{7} y z + \\frac{a_{8} t^{2}}{2} + \\frac{a_{8} z^{2}}{2} + d_{0} + d_{12} y^{2} + d_{2} x + d_{3} y + d_{9} x^{2}\\end{matrix}\\right]$"
      ],
      "text/plain": [
       "Matrix([\n",
       "[a_0 + a_1*t + a_10*x*y + a_11*x*z + a_13*y*z + a_2*x + a_3*y + a_4*z + a_5*t**2 + a_5*x**2 + a_5*y**2 + a_5*z**2 + a_6*t*x + a_7*t*y + a_8*t*z],\n",
       "[   a_1*x + a_10*t*y + a_11*t*z + a_2*t + 2*a_5*t*x + a_6*t**2/2 + a_6*x**2/2 + a_7*x*y + a_8*x*z + b_0 + b_12*y**2 + b_14*z**2 + b_3*y + b_4*z],\n",
       "[    a_1*y + a_10*t*x + a_13*t*z + a_3*t + 2*a_5*t*y + a_6*x*y + a_7*t**2/2 + a_7*y**2/2 + a_8*y*z + c_0 + c_14*z**2 + c_2*x + c_4*z + c_9*x**2],\n",
       "[    a_1*z + a_11*t*x + a_13*t*y + a_4*t + 2*a_5*t*z + a_6*x*z + a_7*y*z + a_8*t**2/2 + a_8*z**2/2 + d_0 + d_12*y**2 + d_2*x + d_3*y + d_9*x**2]])"
      ]
     },
     "metadata": {},
     "execution_count": 424
    }
   ],
   "metadata": {}
  },
  {
   "cell_type": "code",
   "execution_count": 425,
   "source": [
    "#Repeat with the next given set\n",
    "eq1 = np.array([1, 2, 1])\n",
    "eq2 = np.array([2, 3, 3])\n",
    "var1= np.array([y, z, z])\n",
    "var2= np.array([x, y, x])\n",
    "expr2 = []\n",
    "for i in range(0, 3):\n",
    "    expr2.append(eqs[ eq1[i] ].diff( var1[i] ) + eqs[ eq2[i] ].diff( var2[i]) )\n",
    "    dicti = comp( expr2[i], lvar, lc, dicti)\n",
    "    eqs = eqs.subs(dicti)"
   ],
   "outputs": [],
   "metadata": {}
  },
  {
   "cell_type": "code",
   "execution_count": 426,
   "source": [
    "eqs"
   ],
   "outputs": [
    {
     "output_type": "execute_result",
     "data": {
      "text/latex": [
       "$\\displaystyle \\left[\\begin{matrix}a_{0} + a_{1} t + a_{2} x + a_{3} y + a_{4} z + a_{5} t^{2} + a_{5} x^{2} + a_{5} y^{2} + a_{5} z^{2} + a_{6} t x + a_{7} t y + a_{8} t z\\\\a_{1} x + a_{2} t + 2 a_{5} t x + \\frac{a_{6} t^{2}}{2} + \\frac{a_{6} x^{2}}{2} - \\frac{a_{6} y^{2}}{2} - \\frac{a_{6} z^{2}}{2} + a_{7} x y + a_{8} x z + b_{0} + b_{3} y + b_{4} z\\\\a_{1} y + a_{3} t + 2 a_{5} t y + a_{6} x y + \\frac{a_{7} t^{2}}{2} - \\frac{a_{7} x^{2}}{2} + \\frac{a_{7} y^{2}}{2} - \\frac{a_{7} z^{2}}{2} + a_{8} y z - b_{3} x + c_{0} + c_{4} z\\\\a_{1} z + a_{4} t + 2 a_{5} t z + a_{6} x z + a_{7} y z + \\frac{a_{8} t^{2}}{2} - \\frac{a_{8} x^{2}}{2} - \\frac{a_{8} y^{2}}{2} + \\frac{a_{8} z^{2}}{2} - b_{4} x - c_{4} y + d_{0}\\end{matrix}\\right]$"
      ],
      "text/plain": [
       "Matrix([\n",
       "[          a_0 + a_1*t + a_2*x + a_3*y + a_4*z + a_5*t**2 + a_5*x**2 + a_5*y**2 + a_5*z**2 + a_6*t*x + a_7*t*y + a_8*t*z],\n",
       "[a_1*x + a_2*t + 2*a_5*t*x + a_6*t**2/2 + a_6*x**2/2 - a_6*y**2/2 - a_6*z**2/2 + a_7*x*y + a_8*x*z + b_0 + b_3*y + b_4*z],\n",
       "[a_1*y + a_3*t + 2*a_5*t*y + a_6*x*y + a_7*t**2/2 - a_7*x**2/2 + a_7*y**2/2 - a_7*z**2/2 + a_8*y*z - b_3*x + c_0 + c_4*z],\n",
       "[a_1*z + a_4*t + 2*a_5*t*z + a_6*x*z + a_7*y*z + a_8*t**2/2 - a_8*x**2/2 - a_8*y**2/2 + a_8*z**2/2 - b_4*x - c_4*y + d_0]])"
      ]
     },
     "metadata": {},
     "execution_count": 426
    }
   ],
   "metadata": {}
  },
  {
   "cell_type": "code",
   "execution_count": 427,
   "source": [
    "τ, ξ, γ, ζ = uncomb(eqs)"
   ],
   "outputs": [],
   "metadata": {}
  },
  {
   "cell_type": "code",
   "execution_count": 428,
   "source": [
    "#double derivative equation yield 0 immediately \n",
    "#unnecessary"
   ],
   "outputs": [],
   "metadata": {}
  },
  {
   "cell_type": "markdown",
   "source": [
    "We will now proceed to find out the φ,χ,ψ,ω equations. With a polynomial Ansatz of the first order, which can be proved by derivating the other given equations."
   ],
   "metadata": {}
  },
  {
   "cell_type": "markdown",
   "source": [
    " \n",
    " $$ \n",
    " \\\\  ξ_{y} + φ_{w1} - χ_{w2}, \n",
    " \\\\  τ_{z} - φ_{u1} + χ_{u2}, \n",
    "\\\\  - ξ_{z} - φ_{u2} + χ_{u1}, \n",
    "\\\\  - τ_{x} + φ_{u2} + χ_{u1}, \n",
    "\\\\  τ_{y} - φ_{w2} + χ_{w1}, \n",
    "\\\\  - γ_{z} - φ_{w2} - χ_{w1},\n",
    "\\\\  ξ_{z} - τ_{x} + 2 φ_{u2}, \n",
    "\\\\  γ_{z} - τ_{y} + 2 φ_{w2}, \n",
    "\\\\  ξ_{z} + τ_{x} - 2 χ_{u1}, \n",
    "\\\\  - γ_{z} - τ_{y} - 2 χ_{w1}, \n",
    "\\\\  φ_{t} + φ_{z} + χ_{x} + ω_{y}, \n",
    "\\\\  - χ_{y} + ψ_{t} + ψ_{z} + ω_{x}, \n",
    "\\\\  φ_{x} + χ_{t} - χ_{z} - ψ_{y}, \n",
    "\\\\  φ_{y} + ψ_{x} + ω_{t} - ω_{z}  "
   ],
   "metadata": {}
  },
  {
   "cell_type": "code",
   "execution_count": 429,
   "source": [
    "#phi function\n",
    "f1 = (-eqs[1].diff(z) + eqs[0].diff(x))/2\n",
    "f2 = (-eqs[2].diff(z) + eqs[0].diff(y))/2\n",
    "phi = f1*u2 + f2*w2 \n",
    "phi\n",
    "#k_0 function of u2, w2!, t,x,y,z also"
   ],
   "outputs": [
    {
     "output_type": "execute_result",
     "data": {
      "text/latex": [
       "$\\displaystyle u_{2} \\left(\\frac{a_{2}}{2} + a_{5} x + \\frac{a_{6} t}{2} + \\frac{a_{6} z}{2} - \\frac{a_{8} x}{2} - \\frac{b_{4}}{2}\\right) + w_{2} \\left(\\frac{a_{3}}{2} + a_{5} y + \\frac{a_{7} t}{2} + \\frac{a_{7} z}{2} - \\frac{a_{8} y}{2} - \\frac{c_{4}}{2}\\right)$"
      ],
      "text/plain": [
       "u2*(a_2/2 + a_5*x + a_6*t/2 + a_6*z/2 - a_8*x/2 - b_4/2) + w2*(a_3/2 + a_5*y + a_7*t/2 + a_7*z/2 - a_8*y/2 - c_4/2)"
      ]
     },
     "metadata": {},
     "execution_count": 429
    }
   ],
   "metadata": {}
  },
  {
   "cell_type": "code",
   "execution_count": 430,
   "source": [
    "#chi function\n",
    "g1 = ( eqs[1].diff(z) + eqs[0].diff(x))/2\n",
    "g2 = (-eqs[2].diff(z) - eqs[0].diff(y))/2\n",
    "chi = g1*u1 + g2*w1 \n",
    "chi               \n",
    "#k_1  function of u1, w1, t,x,y,z"
   ],
   "outputs": [
    {
     "output_type": "execute_result",
     "data": {
      "text/latex": [
       "$\\displaystyle u_{1} \\left(\\frac{a_{2}}{2} + a_{5} x + \\frac{a_{6} t}{2} - \\frac{a_{6} z}{2} + \\frac{a_{8} x}{2} + \\frac{b_{4}}{2}\\right) + w_{1} \\left(- \\frac{a_{3}}{2} - a_{5} y - \\frac{a_{7} t}{2} + \\frac{a_{7} z}{2} - \\frac{a_{8} y}{2} - \\frac{c_{4}}{2}\\right)$"
      ],
      "text/plain": [
       "u1*(a_2/2 + a_5*x + a_6*t/2 - a_6*z/2 + a_8*x/2 + b_4/2) + w1*(-a_3/2 - a_5*y - a_7*t/2 + a_7*z/2 - a_8*y/2 - c_4/2)"
      ]
     },
     "metadata": {},
     "execution_count": 430
    }
   ],
   "metadata": {}
  },
  {
   "cell_type": "markdown",
   "source": [
    "Ansatz: $u_1, u_2, w_1, w_2$ are polynomials of the first order"
   ],
   "metadata": {}
  },
  {
   "cell_type": "code",
   "execution_count": 431,
   "source": [
    "#Ansatz of linearity for w1 and u1\n",
    "#But are t,x,y,z also linear in the product with them? or of higher order?\n",
    "#we know that φ,χ,ψ,ω musst satisfy the wave equation as well. 1st order does, but so does 2nd order as well...\n",
    "phi = phi + (f[1]*t + f[2]*x + f[3]*y + f[4]*z + f[5])*w1 \n",
    "phi = phi + (f[6]*t + f[7]*x + f[8]*y + f[9]*z + f[10])*u1 + f[11]*β1\n",
    "phi = sp.collect(phi, [t, x, y, z])"
   ],
   "outputs": [],
   "metadata": {}
  },
  {
   "cell_type": "code",
   "execution_count": 432,
   "source": [
    "phi"
   ],
   "outputs": [
    {
     "output_type": "execute_result",
     "data": {
      "text/latex": [
       "$\\displaystyle f_{11} \\operatorname{β_{1}}{\\left(t,x,y,z \\right)} + u_{1} \\left(f_{10} + f_{6} t + f_{7} x + f_{8} y + f_{9} z\\right) + u_{2} \\left(\\frac{a_{2}}{2} + \\frac{a_{6} t}{2} + \\frac{a_{6} z}{2} - \\frac{b_{4}}{2} + x \\left(a_{5} - \\frac{a_{8}}{2}\\right)\\right) + w_{1} \\left(f_{1} t + f_{2} x + f_{3} y + f_{4} z + f_{5}\\right) + w_{2} \\left(\\frac{a_{3}}{2} + \\frac{a_{7} t}{2} + \\frac{a_{7} z}{2} - \\frac{c_{4}}{2} + y \\left(a_{5} - \\frac{a_{8}}{2}\\right)\\right)$"
      ],
      "text/plain": [
       "f_11*β_1(t, x, y, z) + u1*(f_10 + f_6*t + f_7*x + f_8*y + f_9*z) + u2*(a_2/2 + a_6*t/2 + a_6*z/2 - b_4/2 + x*(a_5 - a_8/2)) + w1*(f_1*t + f_2*x + f_3*y + f_4*z + f_5) + w2*(a_3/2 + a_7*t/2 + a_7*z/2 - c_4/2 + y*(a_5 - a_8/2))"
      ]
     },
     "metadata": {},
     "execution_count": 432
    }
   ],
   "metadata": {}
  },
  {
   "cell_type": "code",
   "execution_count": 433,
   "source": [
    "#psi - w_2 relation ii)\n",
    "rel1 = eqs[0].diff(z) - sp.Derivative(φ, u1) + sp.Derivative(χ, u2)\n",
    "rel1"
   ],
   "outputs": [
    {
     "output_type": "execute_result",
     "data": {
      "text/latex": [
       "$\\displaystyle a_{4} + 2 a_{5} z + a_{8} t - \\frac{d}{d u_{1}} φ + \\frac{d}{d u_{2}} χ$"
      ],
      "text/plain": [
       "a_4 + 2*a_5*z + a_8*t - Derivative(φ, u1) + Derivative(χ, u2)"
      ]
     },
     "metadata": {},
     "execution_count": 433
    }
   ],
   "metadata": {}
  },
  {
   "cell_type": "code",
   "execution_count": 434,
   "source": [
    "rel2 = eqs[1].diff(y) + sp.Derivative(φ, w1) - sp.Derivative(χ, w2)\n",
    "rel2"
   ],
   "outputs": [
    {
     "output_type": "execute_result",
     "data": {
      "text/latex": [
       "$\\displaystyle - a_{6} y + a_{7} x + b_{3} + \\frac{d}{d w_{1}} φ - \\frac{d}{d w_{2}} χ$"
      ],
      "text/plain": [
       "-a_6*y + a_7*x + b_3 + Derivative(φ, w1) - Derivative(χ, w2)"
      ]
     },
     "metadata": {},
     "execution_count": 434
    }
   ],
   "metadata": {}
  },
  {
   "cell_type": "code",
   "execution_count": 435,
   "source": [
    "#find the other chi terms\n",
    "p1 = -( eqs[0].diff(z) - sp.diff(phi, u1) )*u2\n",
    "p2 = ( eqs[1].diff(y) + sp.diff(phi, w1) )*w2\n",
    "chi = chi + p1 + p2 + f[12]*β2\n",
    "chi = sp.collect(chi, [t, x, y, z])\n",
    "\n",
    "psi = -sp.diff(phi, w2)*u2 + sp.diff(phi, u2)*w2 - sp.diff(phi, w1)*u1 + sp.diff(phi, u1)*w1\n",
    "psi = sp.collect(psi, [t, x, y, z]) + f[13]*β3\n",
    "\n",
    "omg = sp.diff(chi, u2)*w2 - sp.diff(chi, w2)*u2 + sp.diff(chi, u1)*w1 - sp.diff(chi, w1)*u1\n",
    "omg = sp.collect(omg, [t, x, y, z]) + f[14]*β4"
   ],
   "outputs": [],
   "metadata": {}
  },
  {
   "cell_type": "code",
   "execution_count": 436,
   "source": [
    "eqs"
   ],
   "outputs": [
    {
     "output_type": "execute_result",
     "data": {
      "text/latex": [
       "$\\displaystyle \\left[\\begin{matrix}a_{0} + a_{1} t + a_{2} x + a_{3} y + a_{4} z + a_{5} t^{2} + a_{5} x^{2} + a_{5} y^{2} + a_{5} z^{2} + a_{6} t x + a_{7} t y + a_{8} t z\\\\a_{1} x + a_{2} t + 2 a_{5} t x + \\frac{a_{6} t^{2}}{2} + \\frac{a_{6} x^{2}}{2} - \\frac{a_{6} y^{2}}{2} - \\frac{a_{6} z^{2}}{2} + a_{7} x y + a_{8} x z + b_{0} + b_{3} y + b_{4} z\\\\a_{1} y + a_{3} t + 2 a_{5} t y + a_{6} x y + \\frac{a_{7} t^{2}}{2} - \\frac{a_{7} x^{2}}{2} + \\frac{a_{7} y^{2}}{2} - \\frac{a_{7} z^{2}}{2} + a_{8} y z - b_{3} x + c_{0} + c_{4} z\\\\a_{1} z + a_{4} t + 2 a_{5} t z + a_{6} x z + a_{7} y z + \\frac{a_{8} t^{2}}{2} - \\frac{a_{8} x^{2}}{2} - \\frac{a_{8} y^{2}}{2} + \\frac{a_{8} z^{2}}{2} - b_{4} x - c_{4} y + d_{0}\\end{matrix}\\right]$"
      ],
      "text/plain": [
       "Matrix([\n",
       "[          a_0 + a_1*t + a_2*x + a_3*y + a_4*z + a_5*t**2 + a_5*x**2 + a_5*y**2 + a_5*z**2 + a_6*t*x + a_7*t*y + a_8*t*z],\n",
       "[a_1*x + a_2*t + 2*a_5*t*x + a_6*t**2/2 + a_6*x**2/2 - a_6*y**2/2 - a_6*z**2/2 + a_7*x*y + a_8*x*z + b_0 + b_3*y + b_4*z],\n",
       "[a_1*y + a_3*t + 2*a_5*t*y + a_6*x*y + a_7*t**2/2 - a_7*x**2/2 + a_7*y**2/2 - a_7*z**2/2 + a_8*y*z - b_3*x + c_0 + c_4*z],\n",
       "[a_1*z + a_4*t + 2*a_5*t*z + a_6*x*z + a_7*y*z + a_8*t**2/2 - a_8*x**2/2 - a_8*y**2/2 + a_8*z**2/2 - b_4*x - c_4*y + d_0]])"
      ]
     },
     "metadata": {},
     "execution_count": 436
    }
   ],
   "metadata": {}
  },
  {
   "cell_type": "code",
   "execution_count": 437,
   "source": [
    "sp.Matrix([phi, chi, psi, omg])"
   ],
   "outputs": [
    {
     "output_type": "execute_result",
     "data": {
      "text/latex": [
       "$\\displaystyle \\left[\\begin{matrix}f_{11} \\operatorname{β_{1}}{\\left(t,x,y,z \\right)} + u_{1} \\left(f_{10} + f_{6} t + f_{7} x + f_{8} y + f_{9} z\\right) + u_{2} \\left(\\frac{a_{2}}{2} + \\frac{a_{6} t}{2} + \\frac{a_{6} z}{2} - \\frac{b_{4}}{2} + x \\left(a_{5} - \\frac{a_{8}}{2}\\right)\\right) + w_{1} \\left(f_{1} t + f_{2} x + f_{3} y + f_{4} z + f_{5}\\right) + w_{2} \\left(\\frac{a_{3}}{2} + \\frac{a_{7} t}{2} + \\frac{a_{7} z}{2} - \\frac{c_{4}}{2} + y \\left(a_{5} - \\frac{a_{8}}{2}\\right)\\right)\\\\f_{12} \\operatorname{β_{2}}{\\left(t,x,y,z \\right)} + u_{1} \\left(\\frac{a_{2}}{2} + \\frac{a_{6} t}{2} - \\frac{a_{6} z}{2} + \\frac{b_{4}}{2} + x \\left(a_{5} + \\frac{a_{8}}{2}\\right)\\right) + u_{2} \\left(- a_{4} + f_{10} + f_{7} x + f_{8} y + t \\left(- a_{8} + f_{6}\\right) + z \\left(- 2 a_{5} + f_{9}\\right)\\right) + w_{1} \\left(- \\frac{a_{3}}{2} - \\frac{a_{7} t}{2} + \\frac{a_{7} z}{2} - \\frac{c_{4}}{2} + y \\left(- a_{5} - \\frac{a_{8}}{2}\\right)\\right) + w_{2} \\left(b_{3} + f_{1} t + f_{4} z + f_{5} + x \\left(a_{7} + f_{2}\\right) + y \\left(- a_{6} + f_{3}\\right)\\right)\\\\f_{13} \\operatorname{β_{3}}{\\left(t,x,y,z \\right)} - u_{1} \\left(f_{1} t + f_{2} x + f_{3} y + f_{4} z + f_{5}\\right) + u_{2} \\left(- \\frac{a_{3}}{2} - \\frac{a_{7} t}{2} - \\frac{a_{7} z}{2} + \\frac{c_{4}}{2} + y \\left(- a_{5} + \\frac{a_{8}}{2}\\right)\\right) + w_{1} \\left(f_{10} + f_{6} t + f_{7} x + f_{8} y + f_{9} z\\right) + w_{2} \\left(\\frac{a_{2}}{2} + \\frac{a_{6} t}{2} + \\frac{a_{6} z}{2} - \\frac{b_{4}}{2} + x \\left(a_{5} - \\frac{a_{8}}{2}\\right)\\right)\\\\f_{14} \\operatorname{β_{4}}{\\left(t,x,y,z \\right)} - u_{1} \\left(- \\frac{a_{3}}{2} - \\frac{a_{7} t}{2} + \\frac{a_{7} z}{2} - \\frac{c_{4}}{2} + y \\left(- a_{5} - \\frac{a_{8}}{2}\\right)\\right) - u_{2} \\left(b_{3} + f_{1} t + f_{4} z + f_{5} + x \\left(a_{7} + f_{2}\\right) + y \\left(- a_{6} + f_{3}\\right)\\right) + w_{1} \\left(\\frac{a_{2}}{2} + \\frac{a_{6} t}{2} - \\frac{a_{6} z}{2} + \\frac{b_{4}}{2} + x \\left(a_{5} + \\frac{a_{8}}{2}\\right)\\right) + w_{2} \\left(- a_{4} + f_{10} + f_{7} x + f_{8} y + t \\left(- a_{8} + f_{6}\\right) + z \\left(- 2 a_{5} + f_{9}\\right)\\right)\\end{matrix}\\right]$"
      ],
      "text/plain": [
       "Matrix([\n",
       "[                                                    f_11*β_1(t, x, y, z) + u1*(f_10 + f_6*t + f_7*x + f_8*y + f_9*z) + u2*(a_2/2 + a_6*t/2 + a_6*z/2 - b_4/2 + x*(a_5 - a_8/2)) + w1*(f_1*t + f_2*x + f_3*y + f_4*z + f_5) + w2*(a_3/2 + a_7*t/2 + a_7*z/2 - c_4/2 + y*(a_5 - a_8/2))],\n",
       "[f_12*β_2(t, x, y, z) + u1*(a_2/2 + a_6*t/2 - a_6*z/2 + b_4/2 + x*(a_5 + a_8/2)) + u2*(-a_4 + f_10 + f_7*x + f_8*y + t*(-a_8 + f_6) + z*(-2*a_5 + f_9)) + w1*(-a_3/2 - a_7*t/2 + a_7*z/2 - c_4/2 + y*(-a_5 - a_8/2)) + w2*(b_3 + f_1*t + f_4*z + f_5 + x*(a_7 + f_2) + y*(-a_6 + f_3))],\n",
       "[                                                  f_13*β_3(t, x, y, z) - u1*(f_1*t + f_2*x + f_3*y + f_4*z + f_5) + u2*(-a_3/2 - a_7*t/2 - a_7*z/2 + c_4/2 + y*(-a_5 + a_8/2)) + w1*(f_10 + f_6*t + f_7*x + f_8*y + f_9*z) + w2*(a_2/2 + a_6*t/2 + a_6*z/2 - b_4/2 + x*(a_5 - a_8/2))],\n",
       "[f_14*β_4(t, x, y, z) - u1*(-a_3/2 - a_7*t/2 + a_7*z/2 - c_4/2 + y*(-a_5 - a_8/2)) - u2*(b_3 + f_1*t + f_4*z + f_5 + x*(a_7 + f_2) + y*(-a_6 + f_3)) + w1*(a_2/2 + a_6*t/2 - a_6*z/2 + b_4/2 + x*(a_5 + a_8/2)) + w2*(-a_4 + f_10 + f_7*x + f_8*y + t*(-a_8 + f_6) + z*(-2*a_5 + f_9))]])"
      ]
     },
     "metadata": {},
     "execution_count": 437
    }
   ],
   "metadata": {}
  },
  {
   "cell_type": "code",
   "execution_count": 438,
   "source": [
    "fsys = [\n",
    "(-chi.diff(y) + psi.diff(t) + psi.diff(z) + omg.diff(x)   ).subs({f[11]:0, f[12]:0, f[13]:0, f[14]:0  }),\n",
    "( phi.diff(x) + chi.diff(t) - chi.diff(z) - psi.diff(y)   ).subs({f[11]:0, f[12]:0, f[13]:0, f[14]:0  }),\n",
    "( phi.diff(y) + psi.diff(x) + omg.diff(t) - omg.diff(z)   ).subs({f[11]:0, f[12]:0, f[13]:0, f[14]:0  }),\n",
    "( phi.diff(t) + phi.diff(z) + chi.diff(x) + omg.diff(y)   ).subs({f[11]:0, f[12]:0, f[13]:0, f[14]:0  })\n",
    "]"
   ],
   "outputs": [],
   "metadata": {}
  },
  {
   "cell_type": "code",
   "execution_count": 439,
   "source": [
    "sp.Matrix(fsys)"
   ],
   "outputs": [
    {
     "output_type": "execute_result",
     "data": {
      "text/latex": [
       "$\\displaystyle \\left[\\begin{matrix}a_{6} w_{2} - a_{7} u_{2} - f_{1} u_{1} - f_{4} u_{1} + f_{6} w_{1} + f_{7} w_{2} - f_{8} u_{2} + f_{9} w_{1} - u_{2} \\left(a_{7} + f_{2}\\right) - w_{1} \\left(- a_{5} - \\frac{a_{8}}{2}\\right) + w_{1} \\left(a_{5} + \\frac{a_{8}}{2}\\right) - w_{2} \\left(- a_{6} + f_{3}\\right)\\\\a_{6} u_{1} - a_{7} w_{1} + f_{1} w_{2} + f_{2} w_{1} + f_{3} u_{1} - f_{4} w_{2} + f_{7} u_{1} - f_{8} w_{1} - u_{2} \\left(- 2 a_{5} + f_{9}\\right) - u_{2} \\left(- a_{5} + \\frac{a_{8}}{2}\\right) + u_{2} \\left(a_{5} - \\frac{a_{8}}{2}\\right) + u_{2} \\left(- a_{8} + f_{6}\\right)\\\\a_{6} w_{1} + a_{7} u_{1} - f_{1} u_{2} - f_{2} u_{1} + f_{3} w_{1} + f_{4} u_{2} + f_{7} w_{1} + f_{8} u_{1} - w_{2} \\left(- 2 a_{5} + f_{9}\\right) + 2 w_{2} \\left(a_{5} - \\frac{a_{8}}{2}\\right) + w_{2} \\left(- a_{8} + f_{6}\\right)\\\\a_{6} u_{2} + a_{7} w_{2} + f_{1} w_{1} + f_{4} w_{1} + f_{6} u_{1} + f_{7} u_{2} + f_{8} w_{2} + f_{9} u_{1} - u_{1} \\left(- a_{5} - \\frac{a_{8}}{2}\\right) + u_{1} \\left(a_{5} + \\frac{a_{8}}{2}\\right) - u_{2} \\left(- a_{6} + f_{3}\\right) + w_{2} \\left(a_{7} + f_{2}\\right)\\end{matrix}\\right]$"
      ],
      "text/plain": [
       "Matrix([\n",
       "[   a_6*w2 - a_7*u2 - f_1*u1 - f_4*u1 + f_6*w1 + f_7*w2 - f_8*u2 + f_9*w1 - u2*(a_7 + f_2) - w1*(-a_5 - a_8/2) + w1*(a_5 + a_8/2) - w2*(-a_6 + f_3)],\n",
       "[a_6*u1 - a_7*w1 + f_1*w2 + f_2*w1 + f_3*u1 - f_4*w2 + f_7*u1 - f_8*w1 - u2*(-2*a_5 + f_9) - u2*(-a_5 + a_8/2) + u2*(a_5 - a_8/2) + u2*(-a_8 + f_6)],\n",
       "[                  a_6*w1 + a_7*u1 - f_1*u2 - f_2*u1 + f_3*w1 + f_4*u2 + f_7*w1 + f_8*u1 - w2*(-2*a_5 + f_9) + 2*w2*(a_5 - a_8/2) + w2*(-a_8 + f_6)],\n",
       "[   a_6*u2 + a_7*w2 + f_1*w1 + f_4*w1 + f_6*u1 + f_7*u2 + f_8*w2 + f_9*u1 - u1*(-a_5 - a_8/2) + u1*(a_5 + a_8/2) - u2*(-a_6 + f_3) + w2*(a_7 + f_2)]])"
      ]
     },
     "metadata": {},
     "execution_count": 439
    }
   ],
   "metadata": {}
  },
  {
   "cell_type": "code",
   "execution_count": 440,
   "source": [
    "sys_solve = []\n",
    "for i in lwlf:\n",
    "    temp = sp.simplify(sp.Matrix(fsys))\n",
    "    for j in lwlf:\n",
    "        if i != j:\n",
    "            temp = temp.subs({j:0})\n",
    "    temp = temp.subs({i:1})\n",
    "    for k in range(0, 4):\n",
    "        sys_solve.append(temp[k])\n"
   ],
   "outputs": [],
   "metadata": {}
  },
  {
   "cell_type": "code",
   "execution_count": 441,
   "source": [
    "sp.Matrix(sys_solve)"
   ],
   "outputs": [
    {
     "output_type": "execute_result",
     "data": {
      "text/latex": [
       "$\\displaystyle \\left[\\begin{matrix}- f_{1} - f_{4}\\\\a_{6} + f_{3} + f_{7}\\\\a_{7} - f_{2} + f_{8}\\\\2 a_{5} + a_{8} + f_{6} + f_{9}\\\\- 2 a_{7} - f_{2} - f_{8}\\\\4 a_{5} - 2 a_{8} + f_{6} - f_{9}\\\\- f_{1} + f_{4}\\\\2 a_{6} - f_{3} + f_{7}\\\\2 a_{5} + a_{8} + f_{6} + f_{9}\\\\- a_{7} + f_{2} - f_{8}\\\\a_{6} + f_{3} + f_{7}\\\\f_{1} + f_{4}\\\\2 a_{6} - f_{3} + f_{7}\\\\f_{1} - f_{4}\\\\4 a_{5} - 2 a_{8} + f_{6} - f_{9}\\\\2 a_{7} + f_{2} + f_{8}\\end{matrix}\\right]$"
      ],
      "text/plain": [
       "Matrix([\n",
       "[               -f_1 - f_4],\n",
       "[          a_6 + f_3 + f_7],\n",
       "[          a_7 - f_2 + f_8],\n",
       "[  2*a_5 + a_8 + f_6 + f_9],\n",
       "[       -2*a_7 - f_2 - f_8],\n",
       "[4*a_5 - 2*a_8 + f_6 - f_9],\n",
       "[               -f_1 + f_4],\n",
       "[        2*a_6 - f_3 + f_7],\n",
       "[  2*a_5 + a_8 + f_6 + f_9],\n",
       "[         -a_7 + f_2 - f_8],\n",
       "[          a_6 + f_3 + f_7],\n",
       "[                f_1 + f_4],\n",
       "[        2*a_6 - f_3 + f_7],\n",
       "[                f_1 - f_4],\n",
       "[4*a_5 - 2*a_8 + f_6 - f_9],\n",
       "[        2*a_7 + f_2 + f_8]])"
      ]
     },
     "metadata": {},
     "execution_count": 441
    }
   ],
   "metadata": {}
  },
  {
   "cell_type": "code",
   "execution_count": 442,
   "source": [
    "find = []\n",
    "for sym in lc0+f:\n",
    "    if sp.Matrix(sys_solve).has(sym):\n",
    "        find.append(sym)"
   ],
   "outputs": [],
   "metadata": {}
  },
  {
   "cell_type": "code",
   "execution_count": 443,
   "source": [
    "find"
   ],
   "outputs": [
    {
     "output_type": "execute_result",
     "data": {
      "text/plain": [
       "[a_5, a_6, a_7, a_8, f_1, f_2, f_3, f_4, f_6, f_7, f_8, f_9]"
      ]
     },
     "metadata": {},
     "execution_count": 443
    }
   ],
   "metadata": {}
  },
  {
   "cell_type": "code",
   "execution_count": 444,
   "source": [
    "sol = sp.linsolve(sys_solve, find)\n",
    "sol"
   ],
   "outputs": [
    {
     "output_type": "execute_result",
     "data": {
      "text/latex": [
       "$\\displaystyle \\left\\{\\left( - \\frac{3 f_{6}}{8} - \\frac{f_{9}}{8}, \\  - \\frac{2 f_{7}}{3}, \\  - \\frac{2 f_{8}}{3}, \\  - \\frac{f_{6}}{4} - \\frac{3 f_{9}}{4}, \\  0, \\  \\frac{f_{8}}{3}, \\  - \\frac{f_{7}}{3}, \\  0, \\  f_{6}, \\  f_{7}, \\  f_{8}, \\  f_{9}\\right)\\right\\}$"
      ],
      "text/plain": [
       "FiniteSet((-3*f_6/8 - f_9/8, -2*f_7/3, -2*f_8/3, -f_6/4 - 3*f_9/4, 0, f_8/3, -f_7/3, 0, f_6, f_7, f_8, f_9))"
      ]
     },
     "metadata": {},
     "execution_count": 444
    }
   ],
   "metadata": {}
  },
  {
   "cell_type": "code",
   "execution_count": 445,
   "source": [
    "dic_sys = dict(zip(find, *sol))"
   ],
   "outputs": [],
   "metadata": {}
  },
  {
   "cell_type": "code",
   "execution_count": 446,
   "source": [
    "dic_sys"
   ],
   "outputs": [
    {
     "output_type": "execute_result",
     "data": {
      "text/plain": [
       "{a_5: -3*f_6/8 - f_9/8,\n",
       " a_6: -2*f_7/3,\n",
       " a_7: -2*f_8/3,\n",
       " a_8: -f_6/4 - 3*f_9/4,\n",
       " f_1: 0,\n",
       " f_2: f_8/3,\n",
       " f_3: -f_7/3,\n",
       " f_4: 0,\n",
       " f_6: f_6,\n",
       " f_7: f_7,\n",
       " f_8: f_8,\n",
       " f_9: f_9}"
      ]
     },
     "metadata": {},
     "execution_count": 446
    }
   ],
   "metadata": {}
  },
  {
   "cell_type": "code",
   "execution_count": 447,
   "source": [
    "final_eqs = sp.Matrix([eqs[0], eqs[1], eqs[2], eqs[3], phi, chi, psi, omg]).subs(dic_sys)\n",
    "final_eqs"
   ],
   "outputs": [
    {
     "output_type": "execute_result",
     "data": {
      "text/latex": [
       "$\\displaystyle \\left[\\begin{matrix}a_{0} + a_{1} t + a_{2} x + a_{3} y + a_{4} z - \\frac{2 f_{7} t x}{3} - \\frac{2 f_{8} t y}{3} + t^{2} \\left(- \\frac{3 f_{6}}{8} - \\frac{f_{9}}{8}\\right) + t z \\left(- \\frac{f_{6}}{4} - \\frac{3 f_{9}}{4}\\right) + x^{2} \\left(- \\frac{3 f_{6}}{8} - \\frac{f_{9}}{8}\\right) + y^{2} \\left(- \\frac{3 f_{6}}{8} - \\frac{f_{9}}{8}\\right) + z^{2} \\left(- \\frac{3 f_{6}}{8} - \\frac{f_{9}}{8}\\right)\\\\a_{1} x + a_{2} t + b_{0} + b_{3} y + b_{4} z - \\frac{f_{7} t^{2}}{3} - \\frac{f_{7} x^{2}}{3} + \\frac{f_{7} y^{2}}{3} + \\frac{f_{7} z^{2}}{3} - \\frac{2 f_{8} x y}{3} + 2 t x \\left(- \\frac{3 f_{6}}{8} - \\frac{f_{9}}{8}\\right) + x z \\left(- \\frac{f_{6}}{4} - \\frac{3 f_{9}}{4}\\right)\\\\a_{1} y + a_{3} t - b_{3} x + c_{0} + c_{4} z - \\frac{2 f_{7} x y}{3} - \\frac{f_{8} t^{2}}{3} + \\frac{f_{8} x^{2}}{3} - \\frac{f_{8} y^{2}}{3} + \\frac{f_{8} z^{2}}{3} + 2 t y \\left(- \\frac{3 f_{6}}{8} - \\frac{f_{9}}{8}\\right) + y z \\left(- \\frac{f_{6}}{4} - \\frac{3 f_{9}}{4}\\right)\\\\a_{1} z + a_{4} t - b_{4} x - c_{4} y + d_{0} - \\frac{2 f_{7} x z}{3} - \\frac{2 f_{8} y z}{3} + \\frac{t^{2} \\left(- \\frac{f_{6}}{4} - \\frac{3 f_{9}}{4}\\right)}{2} + 2 t z \\left(- \\frac{3 f_{6}}{8} - \\frac{f_{9}}{8}\\right) - \\frac{x^{2} \\left(- \\frac{f_{6}}{4} - \\frac{3 f_{9}}{4}\\right)}{2} - \\frac{y^{2} \\left(- \\frac{f_{6}}{4} - \\frac{3 f_{9}}{4}\\right)}{2} + \\frac{z^{2} \\left(- \\frac{f_{6}}{4} - \\frac{3 f_{9}}{4}\\right)}{2}\\\\f_{11} \\operatorname{β_{1}}{\\left(t,x,y,z \\right)} + u_{1} \\left(f_{10} + f_{6} t + f_{7} x + f_{8} y + f_{9} z\\right) + u_{2} \\left(\\frac{a_{2}}{2} - \\frac{b_{4}}{2} - \\frac{f_{7} t}{3} - \\frac{f_{7} z}{3} + x \\left(- \\frac{f_{6}}{4} + \\frac{f_{9}}{4}\\right)\\right) + w_{1} \\left(f_{5} - \\frac{f_{7} y}{3} + \\frac{f_{8} x}{3}\\right) + w_{2} \\left(\\frac{a_{3}}{2} - \\frac{c_{4}}{2} - \\frac{f_{8} t}{3} - \\frac{f_{8} z}{3} + y \\left(- \\frac{f_{6}}{4} + \\frac{f_{9}}{4}\\right)\\right)\\\\f_{12} \\operatorname{β_{2}}{\\left(t,x,y,z \\right)} + u_{1} \\left(\\frac{a_{2}}{2} + \\frac{b_{4}}{2} - \\frac{f_{7} t}{3} + \\frac{f_{7} z}{3} + x \\left(- \\frac{f_{6}}{2} - \\frac{f_{9}}{2}\\right)\\right) + u_{2} \\left(- a_{4} + f_{10} + f_{7} x + f_{8} y + t \\left(\\frac{5 f_{6}}{4} + \\frac{3 f_{9}}{4}\\right) + z \\left(\\frac{3 f_{6}}{4} + \\frac{5 f_{9}}{4}\\right)\\right) + w_{1} \\left(- \\frac{a_{3}}{2} - \\frac{c_{4}}{2} + \\frac{f_{8} t}{3} - \\frac{f_{8} z}{3} + y \\left(\\frac{f_{6}}{2} + \\frac{f_{9}}{2}\\right)\\right) + w_{2} \\left(b_{3} + f_{5} + \\frac{f_{7} y}{3} - \\frac{f_{8} x}{3}\\right)\\\\f_{13} \\operatorname{β_{3}}{\\left(t,x,y,z \\right)} - u_{1} \\left(f_{5} - \\frac{f_{7} y}{3} + \\frac{f_{8} x}{3}\\right) + u_{2} \\left(- \\frac{a_{3}}{2} + \\frac{c_{4}}{2} + \\frac{f_{8} t}{3} + \\frac{f_{8} z}{3} + y \\left(\\frac{f_{6}}{4} - \\frac{f_{9}}{4}\\right)\\right) + w_{1} \\left(f_{10} + f_{6} t + f_{7} x + f_{8} y + f_{9} z\\right) + w_{2} \\left(\\frac{a_{2}}{2} - \\frac{b_{4}}{2} - \\frac{f_{7} t}{3} - \\frac{f_{7} z}{3} + x \\left(- \\frac{f_{6}}{4} + \\frac{f_{9}}{4}\\right)\\right)\\\\f_{14} \\operatorname{β_{4}}{\\left(t,x,y,z \\right)} - u_{1} \\left(- \\frac{a_{3}}{2} - \\frac{c_{4}}{2} + \\frac{f_{8} t}{3} - \\frac{f_{8} z}{3} + y \\left(\\frac{f_{6}}{2} + \\frac{f_{9}}{2}\\right)\\right) - u_{2} \\left(b_{3} + f_{5} + \\frac{f_{7} y}{3} - \\frac{f_{8} x}{3}\\right) + w_{1} \\left(\\frac{a_{2}}{2} + \\frac{b_{4}}{2} - \\frac{f_{7} t}{3} + \\frac{f_{7} z}{3} + x \\left(- \\frac{f_{6}}{2} - \\frac{f_{9}}{2}\\right)\\right) + w_{2} \\left(- a_{4} + f_{10} + f_{7} x + f_{8} y + t \\left(\\frac{5 f_{6}}{4} + \\frac{3 f_{9}}{4}\\right) + z \\left(\\frac{3 f_{6}}{4} + \\frac{5 f_{9}}{4}\\right)\\right)\\end{matrix}\\right]$"
      ],
      "text/plain": [
       "Matrix([\n",
       "[                                                                        a_0 + a_1*t + a_2*x + a_3*y + a_4*z - 2*f_7*t*x/3 - 2*f_8*t*y/3 + t**2*(-3*f_6/8 - f_9/8) + t*z*(-f_6/4 - 3*f_9/4) + x**2*(-3*f_6/8 - f_9/8) + y**2*(-3*f_6/8 - f_9/8) + z**2*(-3*f_6/8 - f_9/8)],\n",
       "[                                                                                                               a_1*x + a_2*t + b_0 + b_3*y + b_4*z - f_7*t**2/3 - f_7*x**2/3 + f_7*y**2/3 + f_7*z**2/3 - 2*f_8*x*y/3 + 2*t*x*(-3*f_6/8 - f_9/8) + x*z*(-f_6/4 - 3*f_9/4)],\n",
       "[                                                                                                               a_1*y + a_3*t - b_3*x + c_0 + c_4*z - 2*f_7*x*y/3 - f_8*t**2/3 + f_8*x**2/3 - f_8*y**2/3 + f_8*z**2/3 + 2*t*y*(-3*f_6/8 - f_9/8) + y*z*(-f_6/4 - 3*f_9/4)],\n",
       "[                                                              a_1*z + a_4*t - b_4*x - c_4*y + d_0 - 2*f_7*x*z/3 - 2*f_8*y*z/3 + t**2*(-f_6/4 - 3*f_9/4)/2 + 2*t*z*(-3*f_6/8 - f_9/8) - x**2*(-f_6/4 - 3*f_9/4)/2 - y**2*(-f_6/4 - 3*f_9/4)/2 + z**2*(-f_6/4 - 3*f_9/4)/2],\n",
       "[                                             f_11*β_1(t, x, y, z) + u1*(f_10 + f_6*t + f_7*x + f_8*y + f_9*z) + u2*(a_2/2 - b_4/2 - f_7*t/3 - f_7*z/3 + x*(-f_6/4 + f_9/4)) + w1*(f_5 - f_7*y/3 + f_8*x/3) + w2*(a_3/2 - c_4/2 - f_8*t/3 - f_8*z/3 + y*(-f_6/4 + f_9/4))],\n",
       "[f_12*β_2(t, x, y, z) + u1*(a_2/2 + b_4/2 - f_7*t/3 + f_7*z/3 + x*(-f_6/2 - f_9/2)) + u2*(-a_4 + f_10 + f_7*x + f_8*y + t*(5*f_6/4 + 3*f_9/4) + z*(3*f_6/4 + 5*f_9/4)) + w1*(-a_3/2 - c_4/2 + f_8*t/3 - f_8*z/3 + y*(f_6/2 + f_9/2)) + w2*(b_3 + f_5 + f_7*y/3 - f_8*x/3)],\n",
       "[                                             f_13*β_3(t, x, y, z) - u1*(f_5 - f_7*y/3 + f_8*x/3) + u2*(-a_3/2 + c_4/2 + f_8*t/3 + f_8*z/3 + y*(f_6/4 - f_9/4)) + w1*(f_10 + f_6*t + f_7*x + f_8*y + f_9*z) + w2*(a_2/2 - b_4/2 - f_7*t/3 - f_7*z/3 + x*(-f_6/4 + f_9/4))],\n",
       "[f_14*β_4(t, x, y, z) - u1*(-a_3/2 - c_4/2 + f_8*t/3 - f_8*z/3 + y*(f_6/2 + f_9/2)) - u2*(b_3 + f_5 + f_7*y/3 - f_8*x/3) + w1*(a_2/2 + b_4/2 - f_7*t/3 + f_7*z/3 + x*(-f_6/2 - f_9/2)) + w2*(-a_4 + f_10 + f_7*x + f_8*y + t*(5*f_6/4 + 3*f_9/4) + z*(3*f_6/4 + 5*f_9/4))]])"
      ]
     },
     "metadata": {},
     "execution_count": 447
    }
   ],
   "metadata": {}
  },
  {
   "cell_type": "code",
   "execution_count": 448,
   "source": [
    "lc_f = []\n",
    "for i in lc0+lc1+lc2+lc3+f:\n",
    "    if final_eqs.has(i):\n",
    "        lc_f.append(i)\n",
    "np.size(lc_f)"
   ],
   "outputs": [
    {
     "output_type": "execute_result",
     "data": {
      "text/plain": [
       "21"
      ]
     },
     "metadata": {},
     "execution_count": 448
    }
   ],
   "metadata": {}
  },
  {
   "cell_type": "code",
   "execution_count": 449,
   "source": [
    "#Lets generate all the possible vector fields\n",
    "v_fields = []\n",
    "sl = np.size(lc_f)\n",
    "for i in range(0, sl):\n",
    "    arr = sp.Matrix(final_eqs.copy())\n",
    "    for j in range(0, sl):\n",
    "        if i != j:\n",
    "            arr = arr.subs(lc_f[j], 0)\n",
    "    temp = 0\n",
    "    #could probably do a np.sum( arr ) and be done, but whatever\n",
    "    for k in range(0, 8):\n",
    "        temp = temp + arr[k].subs(lc_f[i], 1)*der[k]\n",
    "    v_fields.append(temp)\n",
    "np.size(v_fields)"
   ],
   "outputs": [
    {
     "output_type": "execute_result",
     "data": {
      "text/plain": [
       "21"
      ]
     },
     "metadata": {},
     "execution_count": 449
    }
   ],
   "metadata": {}
  },
  {
   "cell_type": "markdown",
   "source": [
    "$[v_1, v_2] = v_1 \\cdot v_2 - v_2 \\cdot v_1 = c \\cdot v_j$ or $= 0$"
   ],
   "metadata": {}
  },
  {
   "cell_type": "code",
   "execution_count": 450,
   "source": [
    "enum = range(0, sl)"
   ],
   "outputs": [],
   "metadata": {}
  },
  {
   "cell_type": "code",
   "execution_count": 451,
   "source": [
    "sp.Matrix([enum, v_fields]).T"
   ],
   "outputs": [
    {
     "output_type": "execute_result",
     "data": {
      "text/latex": [
       "$\\displaystyle \\left[\\begin{matrix}0 & δ_{t}\\\\1 & t δ_{t} + x δ_{x} + y δ_{y} + z δ_{z}\\\\2 & t δ_{x} + \\frac{u_{1} δ_{u2}}{2} + \\frac{u_{2} δ_{u1}}{2} + \\frac{w_{1} δ_{w2}}{2} + \\frac{w_{2} δ_{w1}}{2} + x δ_{t}\\\\3 & t δ_{y} + \\frac{u_{1} δ_{w2}}{2} - \\frac{u_{2} δ_{w1}}{2} - \\frac{w_{1} δ_{u2}}{2} + \\frac{w_{2} δ_{u1}}{2} + y δ_{t}\\\\4 & t δ_{z} - u_{2} δ_{u2} - w_{2} δ_{w2} + z δ_{t}\\\\5 & δ_{x}\\\\6 & - u_{2} δ_{w2} + w_{2} δ_{u2} - x δ_{y} + y δ_{x}\\\\7 & \\frac{u_{1} δ_{u2}}{2} - \\frac{u_{2} δ_{u1}}{2} + \\frac{w_{1} δ_{w2}}{2} - \\frac{w_{2} δ_{w1}}{2} - x δ_{z} + z δ_{x}\\\\8 & δ_{y}\\\\9 & \\frac{u_{1} δ_{w2}}{2} + \\frac{u_{2} δ_{w1}}{2} - \\frac{w_{1} δ_{u2}}{2} - \\frac{w_{2} δ_{u1}}{2} - y δ_{z} + z δ_{y}\\\\10 & δ_{z}\\\\11 & - u_{1} δ_{w1} - u_{2} δ_{w2} + w_{1} δ_{u1} + w_{2} δ_{u2}\\\\12 & δ_{t} \\left(- \\frac{3 t^{2}}{8} - \\frac{t z}{4} - \\frac{3 x^{2}}{8} - \\frac{3 y^{2}}{8} - \\frac{3 z^{2}}{8}\\right) + δ_{u1} \\left(t u_{1} - \\frac{u_{2} x}{4} - \\frac{w_{2} y}{4}\\right) + δ_{u2} \\left(- \\frac{u_{1} x}{2} + u_{2} \\left(\\frac{5 t}{4} + \\frac{3 z}{4}\\right) + \\frac{w_{1} y}{2}\\right) + δ_{w1} \\left(t w_{1} + \\frac{u_{2} y}{4} - \\frac{w_{2} x}{4}\\right) + δ_{w2} \\left(- \\frac{u_{1} y}{2} - \\frac{w_{1} x}{2} + w_{2} \\left(\\frac{5 t}{4} + \\frac{3 z}{4}\\right)\\right) + δ_{x} \\left(- \\frac{3 t x}{4} - \\frac{x z}{4}\\right) + δ_{y} \\left(- \\frac{3 t y}{4} - \\frac{y z}{4}\\right) + δ_{z} \\left(- \\frac{t^{2}}{8} - \\frac{3 t z}{4} + \\frac{x^{2}}{8} + \\frac{y^{2}}{8} - \\frac{z^{2}}{8}\\right)\\\\13 & - \\frac{2 t x δ_{t}}{3} - \\frac{2 x y δ_{y}}{3} - \\frac{2 x z δ_{z}}{3} + δ_{u1} \\left(u_{1} x + u_{2} \\left(- \\frac{t}{3} - \\frac{z}{3}\\right) - \\frac{w_{1} y}{3}\\right) + δ_{u2} \\left(u_{1} \\left(- \\frac{t}{3} + \\frac{z}{3}\\right) + u_{2} x + \\frac{w_{2} y}{3}\\right) + δ_{w1} \\left(\\frac{u_{1} y}{3} + w_{1} x + w_{2} \\left(- \\frac{t}{3} - \\frac{z}{3}\\right)\\right) + δ_{w2} \\left(- \\frac{u_{2} y}{3} + w_{1} \\left(- \\frac{t}{3} + \\frac{z}{3}\\right) + w_{2} x\\right) + δ_{x} \\left(- \\frac{t^{2}}{3} - \\frac{x^{2}}{3} + \\frac{y^{2}}{3} + \\frac{z^{2}}{3}\\right)\\\\14 & - \\frac{2 t y δ_{t}}{3} - \\frac{2 x y δ_{x}}{3} - \\frac{2 y z δ_{z}}{3} + δ_{u1} \\left(u_{1} y + \\frac{w_{1} x}{3} + w_{2} \\left(- \\frac{t}{3} - \\frac{z}{3}\\right)\\right) + δ_{u2} \\left(u_{2} y + w_{1} \\left(\\frac{t}{3} - \\frac{z}{3}\\right) - \\frac{w_{2} x}{3}\\right) + δ_{w1} \\left(- \\frac{u_{1} x}{3} + u_{2} \\left(\\frac{t}{3} + \\frac{z}{3}\\right) + w_{1} y\\right) + δ_{w2} \\left(- u_{1} \\left(\\frac{t}{3} - \\frac{z}{3}\\right) + \\frac{u_{2} x}{3} + w_{2} y\\right) + δ_{y} \\left(- \\frac{t^{2}}{3} + \\frac{x^{2}}{3} - \\frac{y^{2}}{3} + \\frac{z^{2}}{3}\\right)\\\\15 & δ_{t} \\left(- \\frac{t^{2}}{8} - \\frac{3 t z}{4} - \\frac{x^{2}}{8} - \\frac{y^{2}}{8} - \\frac{z^{2}}{8}\\right) + δ_{u1} \\left(u_{1} z + \\frac{u_{2} x}{4} + \\frac{w_{2} y}{4}\\right) + δ_{u2} \\left(- \\frac{u_{1} x}{2} + u_{2} \\left(\\frac{3 t}{4} + \\frac{5 z}{4}\\right) + \\frac{w_{1} y}{2}\\right) + δ_{w1} \\left(- \\frac{u_{2} y}{4} + w_{1} z + \\frac{w_{2} x}{4}\\right) + δ_{w2} \\left(- \\frac{u_{1} y}{2} - \\frac{w_{1} x}{2} + w_{2} \\left(\\frac{3 t}{4} + \\frac{5 z}{4}\\right)\\right) + δ_{x} \\left(- \\frac{t x}{4} - \\frac{3 x z}{4}\\right) + δ_{y} \\left(- \\frac{t y}{4} - \\frac{3 y z}{4}\\right) + δ_{z} \\left(- \\frac{3 t^{2}}{8} - \\frac{t z}{4} + \\frac{3 x^{2}}{8} + \\frac{3 y^{2}}{8} - \\frac{3 z^{2}}{8}\\right)\\\\16 & u_{1} δ_{u1} + u_{2} δ_{u2} + w_{1} δ_{w1} + w_{2} δ_{w2}\\\\17 & δ_{u1} \\operatorname{β_{1}}{\\left(t,x,y,z \\right)}\\\\18 & δ_{u2} \\operatorname{β_{2}}{\\left(t,x,y,z \\right)}\\\\19 & δ_{w1} \\operatorname{β_{3}}{\\left(t,x,y,z \\right)}\\\\20 & δ_{w2} \\operatorname{β_{4}}{\\left(t,x,y,z \\right)}\\end{matrix}\\right]$"
      ],
      "text/plain": [
       "Matrix([\n",
       "[ 0,                                                                                                                                                                                                                                                                                                                            δ_t],\n",
       "[ 1,                                                                                                                                                                                                                                                                                                  t*δ_t + x*δ_x + y*δ_y + z*δ_z],\n",
       "[ 2,                                                                                                                                                                                                                                                                  t*δ_x + u1*δ_u2/2 + u2*δ_u1/2 + w1*δ_w2/2 + w2*δ_w1/2 + x*δ_t],\n",
       "[ 3,                                                                                                                                                                                                                                                                  t*δ_y + u1*δ_w2/2 - u2*δ_w1/2 - w1*δ_u2/2 + w2*δ_u1/2 + y*δ_t],\n",
       "[ 4,                                                                                                                                                                                                                                                                                              t*δ_z - u2*δ_u2 - w2*δ_w2 + z*δ_t],\n",
       "[ 5,                                                                                                                                                                                                                                                                                                                            δ_x],\n",
       "[ 6,                                                                                                                                                                                                                                                                                             -u2*δ_w2 + w2*δ_u2 - x*δ_y + y*δ_x],\n",
       "[ 7,                                                                                                                                                                                                                                                                  u1*δ_u2/2 - u2*δ_u1/2 + w1*δ_w2/2 - w2*δ_w1/2 - x*δ_z + z*δ_x],\n",
       "[ 8,                                                                                                                                                                                                                                                                                                                            δ_y],\n",
       "[ 9,                                                                                                                                                                                                                                                                  u1*δ_w2/2 + u2*δ_w1/2 - w1*δ_u2/2 - w2*δ_u1/2 - y*δ_z + z*δ_y],\n",
       "[10,                                                                                                                                                                                                                                                                                                                            δ_z],\n",
       "[11,                                                                                                                                                                                                                                                                                         -u1*δ_w1 - u2*δ_w2 + w1*δ_u1 + w2*δ_u2],\n",
       "[12,  δ_t*(-3*t**2/8 - t*z/4 - 3*x**2/8 - 3*y**2/8 - 3*z**2/8) + δ_u1*(t*u1 - u2*x/4 - w2*y/4) + δ_u2*(-u1*x/2 + u2*(5*t/4 + 3*z/4) + w1*y/2) + δ_w1*(t*w1 + u2*y/4 - w2*x/4) + δ_w2*(-u1*y/2 - w1*x/2 + w2*(5*t/4 + 3*z/4)) + δ_x*(-3*t*x/4 - x*z/4) + δ_y*(-3*t*y/4 - y*z/4) + δ_z*(-t**2/8 - 3*t*z/4 + x**2/8 + y**2/8 - z**2/8)],\n",
       "[13,                                                                       -2*t*x*δ_t/3 - 2*x*y*δ_y/3 - 2*x*z*δ_z/3 + δ_u1*(u1*x + u2*(-t/3 - z/3) - w1*y/3) + δ_u2*(u1*(-t/3 + z/3) + u2*x + w2*y/3) + δ_w1*(u1*y/3 + w1*x + w2*(-t/3 - z/3)) + δ_w2*(-u2*y/3 + w1*(-t/3 + z/3) + w2*x) + δ_x*(-t**2/3 - x**2/3 + y**2/3 + z**2/3)],\n",
       "[14,                                                                         -2*t*y*δ_t/3 - 2*x*y*δ_x/3 - 2*y*z*δ_z/3 + δ_u1*(u1*y + w1*x/3 + w2*(-t/3 - z/3)) + δ_u2*(u2*y + w1*(t/3 - z/3) - w2*x/3) + δ_w1*(-u1*x/3 + u2*(t/3 + z/3) + w1*y) + δ_w2*(-u1*(t/3 - z/3) + u2*x/3 + w2*y) + δ_y*(-t**2/3 + x**2/3 - y**2/3 + z**2/3)],\n",
       "[15, δ_t*(-t**2/8 - 3*t*z/4 - x**2/8 - y**2/8 - z**2/8) + δ_u1*(u1*z + u2*x/4 + w2*y/4) + δ_u2*(-u1*x/2 + u2*(3*t/4 + 5*z/4) + w1*y/2) + δ_w1*(-u2*y/4 + w1*z + w2*x/4) + δ_w2*(-u1*y/2 - w1*x/2 + w2*(3*t/4 + 5*z/4)) + δ_x*(-t*x/4 - 3*x*z/4) + δ_y*(-t*y/4 - 3*y*z/4) + δ_z*(-3*t**2/8 - t*z/4 + 3*x**2/8 + 3*y**2/8 - 3*z**2/8)],\n",
       "[16,                                                                                                                                                                                                                                                                                          u1*δ_u1 + u2*δ_u2 + w1*δ_w1 + w2*δ_w2],\n",
       "[17,                                                                                                                                                                                                                                                                                                           δ_u1*β_1(t, x, y, z)],\n",
       "[18,                                                                                                                                                                                                                                                                                                           δ_u2*β_2(t, x, y, z)],\n",
       "[19,                                                                                                                                                                                                                                                                                                           δ_w1*β_3(t, x, y, z)],\n",
       "[20,                                                                                                                                                                                                                                                                                                           δ_w2*β_4(t, x, y, z)]])"
      ]
     },
     "metadata": {},
     "execution_count": 451
    }
   ],
   "metadata": {}
  },
  {
   "cell_type": "code",
   "execution_count": 452,
   "source": [
    "lvar_f = lvar + [u1, u2, w1, w2]\n",
    "dic_der = dict(list(zip(der, lvar_f)))\n",
    "der"
   ],
   "outputs": [
    {
     "output_type": "execute_result",
     "data": {
      "text/plain": [
       "[δ_t, δ_x, δ_y, δ_z, δ_u1, δ_u2, δ_w1, δ_w2]"
      ]
     },
     "metadata": {},
     "execution_count": 452
    }
   ],
   "metadata": {}
  },
  {
   "cell_type": "code",
   "execution_count": 453,
   "source": [
    "import time "
   ],
   "outputs": [],
   "metadata": {}
  },
  {
   "cell_type": "code",
   "execution_count": 454,
   "source": [
    "#rewritten the original lie_alg() function to include the case of 0, since this can happen now as well\n",
    "def lie_alg_t(expr1, expr2, der, dic):\n",
    "    if expr1 == 0 or expr2 == 0:\n",
    "        return 0\n",
    "    else: \n",
    "        terms = []\n",
    "        for i in der:\n",
    "            if expr1.has(i):\n",
    "                terms.append(i)\n",
    "        #list with the derivatives\n",
    "        pol = sp.Poly(expr1, *der)\n",
    "        pol = pol.coeffs()\n",
    "        #list with the coefficients of the derivatives\n",
    "        s = np.size(pol)\n",
    "        for i in range(0, s):\n",
    "            pol[i] = pol[i]*( terms[i].subs( terms[i], sp.diff( expr2 , dic[ terms[i] ]  ) ) )\n",
    "            #this simulates v_1*v_2 with the derivative applied.\n",
    "        return np.sum(pol)"
   ],
   "outputs": [],
   "metadata": {}
  },
  {
   "cell_type": "markdown",
   "source": [
    "Skew symmetry:\n",
    "$$ [u, w] = - [w, u]$$"
   ],
   "metadata": {}
  },
  {
   "cell_type": "markdown",
   "source": [
    "Bilinearity:\n",
    "$$ [qv + pu, w] = q[v, w] + p[u,w]$$"
   ],
   "metadata": {}
  },
  {
   "cell_type": "markdown",
   "source": [
    "Jacobi identity:\n",
    "$$[u, [v, w]] + [w, [u, v]] + [v, [w, u]] = 0$$\n",
    "$$a = [v, w]$$\n",
    "$$b = [u, v]$$\n",
    "$$c = [w, u]$$"
   ],
   "metadata": {}
  },
  {
   "cell_type": "code",
   "execution_count": 455,
   "source": [
    "#Check \n",
    "check = input(\"Run the checks? y/n\")\n",
    "\n",
    "if check == \"y\":\n",
    "    t0 = time.time()\n",
    "\n",
    "    #SKEW SYMMETRY\n",
    "    skew = (np.zeros(sl**2).reshape(sl, sl)).tolist()\n",
    "    for i in range(0, sl):\n",
    "        for j in range(0, sl):\n",
    "            skew[i][j] = lie_alg(v_fields[i], v_fields[j], der, dic_der ) - lie_alg(v_fields[j], v_fields[i], der, dic_der )\n",
    "\n",
    "    for i in range(0, sl):\n",
    "        for j in range(0, i+1):\n",
    "            if skew[i][j] != -skew[j][i] :\n",
    "                print(\"For i: \", i, \"and j: \", j)\n",
    "                print(\"Not fulifilled\")\n",
    "\n",
    "    for i in range(0, sl):\n",
    "        if skew[i][i] != 0:\n",
    "            print(\"You fuckit up\")\n",
    "    #PASSED!\n",
    "\n",
    "    t1 = time.time()\n",
    "\n",
    "    #Bilinearity\n",
    "    for i in range(0, sl):\n",
    "        v = v_fields[i]\n",
    "        for j in range(0, sl):\n",
    "            u = v_fields[j]\n",
    "            for k in range(0, sl):\n",
    "                w = v_fields[k]\n",
    "\n",
    "                bil1 = sp.expand( lie_alg_t( sp.expand(q*v+p*u), w, der, dic_der ) - lie_alg_t( w, sp.expand(q*v+p*u), der, dic_der ) )\n",
    "                bil2 = sp.expand(  q*( lie_alg_t( v, w, der, dic_der ) - lie_alg_t( w, v, der, dic_der )  )  )\n",
    "                bil3 = sp.expand(  p*( lie_alg_t( u, w, der, dic_der ) - lie_alg_t( w, u, der, dic_der )  )  )\n",
    "                if sp.expand(bil1 - bil2 - bil3) != 0:\n",
    "                    print(\"Bilinearity not satisfied\")\n",
    "                    print(i, j, k)\n",
    "    t2 = time.time()\n",
    "\n",
    "    #JACOBI IDENTITY\n",
    "\n",
    "    for i in range(0, sl):\n",
    "        u = v_fields[i]\n",
    "        for j in range(0, sl):\n",
    "            v = v_fields[j]\n",
    "            b  = sp.expand(lie_alg_t(u, v, der, dic_der)) - sp.expand(lie_alg_t(v, u, der, dic_der))\n",
    "            for k in range(0, sl):\n",
    "                w = v_fields[k]\n",
    "                a  = sp.expand(lie_alg_t(v, w, der, dic_der)) - sp.expand(lie_alg_t(w, v, der, dic_der))\n",
    "\n",
    "                c  = sp.expand(lie_alg_t(w, u, der, dic_der)) - sp.expand(lie_alg_t(u, w, der, dic_der))\n",
    "                e1 = sp.expand(lie_alg_t(u, a ,der, dic_der)) - sp.expand(lie_alg_t(a, u ,der, dic_der))\n",
    "                e2 = sp.expand(lie_alg_t(w, b ,der, dic_der)) - sp.expand(lie_alg_t(b, w ,der, dic_der))\n",
    "                e3 = sp.expand(lie_alg_t(v, c ,der, dic_der)) - sp.expand(lie_alg_t(c, v ,der, dic_der))\n",
    "                if sp.expand(e1 + e2 + e3) !=0:\n",
    "                    print(\"Jacobi Identity not fuliffiled\")\n",
    "                    print(i, j, k)\n",
    "\n",
    "    #PASSED!\n",
    "    #commented because it takes too long to evaluated\n",
    "\n",
    "    t3 = time.time()\n",
    "\n",
    "    print(\"Skew symmetry time:\", t1-t0)\n",
    "    print(\"Bilinearity time:\", t2-t1)\n",
    "    print(\"Jacobi identity time:\", t3- t2)"
   ],
   "outputs": [],
   "metadata": {}
  },
  {
   "cell_type": "code",
   "execution_count": 456,
   "source": [
    "#Rearrange the v_fields to match the ones from the thesis\n",
    "sp.Matrix([enum, v_fields]).T"
   ],
   "outputs": [
    {
     "output_type": "execute_result",
     "data": {
      "text/latex": [
       "$\\displaystyle \\left[\\begin{matrix}0 & δ_{t}\\\\1 & t δ_{t} + x δ_{x} + y δ_{y} + z δ_{z}\\\\2 & t δ_{x} + \\frac{u_{1} δ_{u2}}{2} + \\frac{u_{2} δ_{u1}}{2} + \\frac{w_{1} δ_{w2}}{2} + \\frac{w_{2} δ_{w1}}{2} + x δ_{t}\\\\3 & t δ_{y} + \\frac{u_{1} δ_{w2}}{2} - \\frac{u_{2} δ_{w1}}{2} - \\frac{w_{1} δ_{u2}}{2} + \\frac{w_{2} δ_{u1}}{2} + y δ_{t}\\\\4 & t δ_{z} - u_{2} δ_{u2} - w_{2} δ_{w2} + z δ_{t}\\\\5 & δ_{x}\\\\6 & - u_{2} δ_{w2} + w_{2} δ_{u2} - x δ_{y} + y δ_{x}\\\\7 & \\frac{u_{1} δ_{u2}}{2} - \\frac{u_{2} δ_{u1}}{2} + \\frac{w_{1} δ_{w2}}{2} - \\frac{w_{2} δ_{w1}}{2} - x δ_{z} + z δ_{x}\\\\8 & δ_{y}\\\\9 & \\frac{u_{1} δ_{w2}}{2} + \\frac{u_{2} δ_{w1}}{2} - \\frac{w_{1} δ_{u2}}{2} - \\frac{w_{2} δ_{u1}}{2} - y δ_{z} + z δ_{y}\\\\10 & δ_{z}\\\\11 & - u_{1} δ_{w1} - u_{2} δ_{w2} + w_{1} δ_{u1} + w_{2} δ_{u2}\\\\12 & δ_{t} \\left(- \\frac{3 t^{2}}{8} - \\frac{t z}{4} - \\frac{3 x^{2}}{8} - \\frac{3 y^{2}}{8} - \\frac{3 z^{2}}{8}\\right) + δ_{u1} \\left(t u_{1} - \\frac{u_{2} x}{4} - \\frac{w_{2} y}{4}\\right) + δ_{u2} \\left(- \\frac{u_{1} x}{2} + u_{2} \\left(\\frac{5 t}{4} + \\frac{3 z}{4}\\right) + \\frac{w_{1} y}{2}\\right) + δ_{w1} \\left(t w_{1} + \\frac{u_{2} y}{4} - \\frac{w_{2} x}{4}\\right) + δ_{w2} \\left(- \\frac{u_{1} y}{2} - \\frac{w_{1} x}{2} + w_{2} \\left(\\frac{5 t}{4} + \\frac{3 z}{4}\\right)\\right) + δ_{x} \\left(- \\frac{3 t x}{4} - \\frac{x z}{4}\\right) + δ_{y} \\left(- \\frac{3 t y}{4} - \\frac{y z}{4}\\right) + δ_{z} \\left(- \\frac{t^{2}}{8} - \\frac{3 t z}{4} + \\frac{x^{2}}{8} + \\frac{y^{2}}{8} - \\frac{z^{2}}{8}\\right)\\\\13 & - \\frac{2 t x δ_{t}}{3} - \\frac{2 x y δ_{y}}{3} - \\frac{2 x z δ_{z}}{3} + δ_{u1} \\left(u_{1} x + u_{2} \\left(- \\frac{t}{3} - \\frac{z}{3}\\right) - \\frac{w_{1} y}{3}\\right) + δ_{u2} \\left(u_{1} \\left(- \\frac{t}{3} + \\frac{z}{3}\\right) + u_{2} x + \\frac{w_{2} y}{3}\\right) + δ_{w1} \\left(\\frac{u_{1} y}{3} + w_{1} x + w_{2} \\left(- \\frac{t}{3} - \\frac{z}{3}\\right)\\right) + δ_{w2} \\left(- \\frac{u_{2} y}{3} + w_{1} \\left(- \\frac{t}{3} + \\frac{z}{3}\\right) + w_{2} x\\right) + δ_{x} \\left(- \\frac{t^{2}}{3} - \\frac{x^{2}}{3} + \\frac{y^{2}}{3} + \\frac{z^{2}}{3}\\right)\\\\14 & - \\frac{2 t y δ_{t}}{3} - \\frac{2 x y δ_{x}}{3} - \\frac{2 y z δ_{z}}{3} + δ_{u1} \\left(u_{1} y + \\frac{w_{1} x}{3} + w_{2} \\left(- \\frac{t}{3} - \\frac{z}{3}\\right)\\right) + δ_{u2} \\left(u_{2} y + w_{1} \\left(\\frac{t}{3} - \\frac{z}{3}\\right) - \\frac{w_{2} x}{3}\\right) + δ_{w1} \\left(- \\frac{u_{1} x}{3} + u_{2} \\left(\\frac{t}{3} + \\frac{z}{3}\\right) + w_{1} y\\right) + δ_{w2} \\left(- u_{1} \\left(\\frac{t}{3} - \\frac{z}{3}\\right) + \\frac{u_{2} x}{3} + w_{2} y\\right) + δ_{y} \\left(- \\frac{t^{2}}{3} + \\frac{x^{2}}{3} - \\frac{y^{2}}{3} + \\frac{z^{2}}{3}\\right)\\\\15 & δ_{t} \\left(- \\frac{t^{2}}{8} - \\frac{3 t z}{4} - \\frac{x^{2}}{8} - \\frac{y^{2}}{8} - \\frac{z^{2}}{8}\\right) + δ_{u1} \\left(u_{1} z + \\frac{u_{2} x}{4} + \\frac{w_{2} y}{4}\\right) + δ_{u2} \\left(- \\frac{u_{1} x}{2} + u_{2} \\left(\\frac{3 t}{4} + \\frac{5 z}{4}\\right) + \\frac{w_{1} y}{2}\\right) + δ_{w1} \\left(- \\frac{u_{2} y}{4} + w_{1} z + \\frac{w_{2} x}{4}\\right) + δ_{w2} \\left(- \\frac{u_{1} y}{2} - \\frac{w_{1} x}{2} + w_{2} \\left(\\frac{3 t}{4} + \\frac{5 z}{4}\\right)\\right) + δ_{x} \\left(- \\frac{t x}{4} - \\frac{3 x z}{4}\\right) + δ_{y} \\left(- \\frac{t y}{4} - \\frac{3 y z}{4}\\right) + δ_{z} \\left(- \\frac{3 t^{2}}{8} - \\frac{t z}{4} + \\frac{3 x^{2}}{8} + \\frac{3 y^{2}}{8} - \\frac{3 z^{2}}{8}\\right)\\\\16 & u_{1} δ_{u1} + u_{2} δ_{u2} + w_{1} δ_{w1} + w_{2} δ_{w2}\\\\17 & δ_{u1} \\operatorname{β_{1}}{\\left(t,x,y,z \\right)}\\\\18 & δ_{u2} \\operatorname{β_{2}}{\\left(t,x,y,z \\right)}\\\\19 & δ_{w1} \\operatorname{β_{3}}{\\left(t,x,y,z \\right)}\\\\20 & δ_{w2} \\operatorname{β_{4}}{\\left(t,x,y,z \\right)}\\end{matrix}\\right]$"
      ],
      "text/plain": [
       "Matrix([\n",
       "[ 0,                                                                                                                                                                                                                                                                                                                            δ_t],\n",
       "[ 1,                                                                                                                                                                                                                                                                                                  t*δ_t + x*δ_x + y*δ_y + z*δ_z],\n",
       "[ 2,                                                                                                                                                                                                                                                                  t*δ_x + u1*δ_u2/2 + u2*δ_u1/2 + w1*δ_w2/2 + w2*δ_w1/2 + x*δ_t],\n",
       "[ 3,                                                                                                                                                                                                                                                                  t*δ_y + u1*δ_w2/2 - u2*δ_w1/2 - w1*δ_u2/2 + w2*δ_u1/2 + y*δ_t],\n",
       "[ 4,                                                                                                                                                                                                                                                                                              t*δ_z - u2*δ_u2 - w2*δ_w2 + z*δ_t],\n",
       "[ 5,                                                                                                                                                                                                                                                                                                                            δ_x],\n",
       "[ 6,                                                                                                                                                                                                                                                                                             -u2*δ_w2 + w2*δ_u2 - x*δ_y + y*δ_x],\n",
       "[ 7,                                                                                                                                                                                                                                                                  u1*δ_u2/2 - u2*δ_u1/2 + w1*δ_w2/2 - w2*δ_w1/2 - x*δ_z + z*δ_x],\n",
       "[ 8,                                                                                                                                                                                                                                                                                                                            δ_y],\n",
       "[ 9,                                                                                                                                                                                                                                                                  u1*δ_w2/2 + u2*δ_w1/2 - w1*δ_u2/2 - w2*δ_u1/2 - y*δ_z + z*δ_y],\n",
       "[10,                                                                                                                                                                                                                                                                                                                            δ_z],\n",
       "[11,                                                                                                                                                                                                                                                                                         -u1*δ_w1 - u2*δ_w2 + w1*δ_u1 + w2*δ_u2],\n",
       "[12,  δ_t*(-3*t**2/8 - t*z/4 - 3*x**2/8 - 3*y**2/8 - 3*z**2/8) + δ_u1*(t*u1 - u2*x/4 - w2*y/4) + δ_u2*(-u1*x/2 + u2*(5*t/4 + 3*z/4) + w1*y/2) + δ_w1*(t*w1 + u2*y/4 - w2*x/4) + δ_w2*(-u1*y/2 - w1*x/2 + w2*(5*t/4 + 3*z/4)) + δ_x*(-3*t*x/4 - x*z/4) + δ_y*(-3*t*y/4 - y*z/4) + δ_z*(-t**2/8 - 3*t*z/4 + x**2/8 + y**2/8 - z**2/8)],\n",
       "[13,                                                                       -2*t*x*δ_t/3 - 2*x*y*δ_y/3 - 2*x*z*δ_z/3 + δ_u1*(u1*x + u2*(-t/3 - z/3) - w1*y/3) + δ_u2*(u1*(-t/3 + z/3) + u2*x + w2*y/3) + δ_w1*(u1*y/3 + w1*x + w2*(-t/3 - z/3)) + δ_w2*(-u2*y/3 + w1*(-t/3 + z/3) + w2*x) + δ_x*(-t**2/3 - x**2/3 + y**2/3 + z**2/3)],\n",
       "[14,                                                                         -2*t*y*δ_t/3 - 2*x*y*δ_x/3 - 2*y*z*δ_z/3 + δ_u1*(u1*y + w1*x/3 + w2*(-t/3 - z/3)) + δ_u2*(u2*y + w1*(t/3 - z/3) - w2*x/3) + δ_w1*(-u1*x/3 + u2*(t/3 + z/3) + w1*y) + δ_w2*(-u1*(t/3 - z/3) + u2*x/3 + w2*y) + δ_y*(-t**2/3 + x**2/3 - y**2/3 + z**2/3)],\n",
       "[15, δ_t*(-t**2/8 - 3*t*z/4 - x**2/8 - y**2/8 - z**2/8) + δ_u1*(u1*z + u2*x/4 + w2*y/4) + δ_u2*(-u1*x/2 + u2*(3*t/4 + 5*z/4) + w1*y/2) + δ_w1*(-u2*y/4 + w1*z + w2*x/4) + δ_w2*(-u1*y/2 - w1*x/2 + w2*(3*t/4 + 5*z/4)) + δ_x*(-t*x/4 - 3*x*z/4) + δ_y*(-t*y/4 - 3*y*z/4) + δ_z*(-3*t**2/8 - t*z/4 + 3*x**2/8 + 3*y**2/8 - 3*z**2/8)],\n",
       "[16,                                                                                                                                                                                                                                                                                          u1*δ_u1 + u2*δ_u2 + w1*δ_w1 + w2*δ_w2],\n",
       "[17,                                                                                                                                                                                                                                                                                                           δ_u1*β_1(t, x, y, z)],\n",
       "[18,                                                                                                                                                                                                                                                                                                           δ_u2*β_2(t, x, y, z)],\n",
       "[19,                                                                                                                                                                                                                                                                                                           δ_w1*β_3(t, x, y, z)],\n",
       "[20,                                                                                                                                                                                                                                                                                                           δ_w2*β_4(t, x, y, z)]])"
      ]
     },
     "metadata": {},
     "execution_count": 456
    }
   ],
   "metadata": {}
  },
  {
   "cell_type": "code",
   "execution_count": 457,
   "source": [
    "nvf = v_fields.copy()\n",
    "nvf[1] = v_fields[5]\n",
    "nvf[2] = v_fields[8]\n",
    "nvf[3] = v_fields[10]\n",
    "nvf[4] = v_fields[1]\n",
    "nvf[5] = v_fields[2]\n",
    "nvf[6] = v_fields[3]\n",
    "nvf[7] = v_fields[4] + v_fields[16]/2\n",
    "nvf[8] = v_fields[6] - v_fields[11]/2\n",
    "nvf[9] = v_fields[7]\n",
    "nvf[10] = v_fields[9]\n",
    "nvf[11] = v_fields[16]\n",
    "nvf[12] = -v_fields[11]\n",
    "nvf[13] = v_fields[12]\n",
    "nvf[14] = v_fields[13]\n",
    "nvf[15] = v_fields[14]\n",
    "nvf[16] = v_fields[15]\n"
   ],
   "outputs": [],
   "metadata": {}
  },
  {
   "cell_type": "code",
   "execution_count": 458,
   "source": [
    "nvf[13] = (sp.expand(nvf[13])*8).collect(der)\n",
    "nvf[14] = (sp.expand(nvf[14])*(-3)).collect(der)\n",
    "nvf[15] = (sp.expand(nvf[15])*(-3)).collect(der)\n",
    "nvf[16] = (sp.expand(nvf[16])*8).collect(der)"
   ],
   "outputs": [],
   "metadata": {}
  },
  {
   "cell_type": "code",
   "execution_count": 459,
   "source": [
    "temp1 = ( 3*(sp.expand(nvf[13]) - (sp.expand(nvf[16])/3) )/8 ).collect(der)\n",
    "temp1"
   ],
   "outputs": [
    {
     "output_type": "execute_result",
     "data": {
      "text/latex": [
       "$\\displaystyle - 2 t x δ_{x} - 2 t y δ_{y} - 2 t z δ_{z} + δ_{t} \\left(- t^{2} - x^{2} - y^{2} - z^{2}\\right) + δ_{u1} \\left(3 t u_{1} - u_{1} z - u_{2} x - w_{2} y\\right) + δ_{u2} \\left(3 t u_{2} - u_{1} x + u_{2} z + w_{1} y\\right) + δ_{w1} \\left(3 t w_{1} + u_{2} y - w_{1} z - w_{2} x\\right) + δ_{w2} \\left(3 t w_{2} - u_{1} y - w_{1} x + w_{2} z\\right)$"
      ],
      "text/plain": [
       "-2*t*x*δ_x - 2*t*y*δ_y - 2*t*z*δ_z + δ_t*(-t**2 - x**2 - y**2 - z**2) + δ_u1*(3*t*u1 - u1*z - u2*x - w2*y) + δ_u2*(3*t*u2 - u1*x + u2*z + w1*y) + δ_w1*(3*t*w1 + u2*y - w1*z - w2*x) + δ_w2*(3*t*w2 - u1*y - w1*x + w2*z)"
      ]
     },
     "metadata": {},
     "execution_count": 459
    }
   ],
   "metadata": {}
  },
  {
   "cell_type": "code",
   "execution_count": 460,
   "source": [
    "temp2 = ( 3*( (sp.expand(nvf[13]))/3 - (sp.expand(nvf[16]))  )/8  ).collect(der)\n",
    "temp2"
   ],
   "outputs": [
    {
     "output_type": "execute_result",
     "data": {
      "text/latex": [
       "$\\displaystyle 2 t z δ_{t} + 2 x z δ_{x} + 2 y z δ_{y} + δ_{u1} \\left(t u_{1} - 3 u_{1} z - u_{2} x - w_{2} y\\right) + δ_{u2} \\left(- t u_{2} + u_{1} x - 3 u_{2} z - w_{1} y\\right) + δ_{w1} \\left(t w_{1} + u_{2} y - 3 w_{1} z - w_{2} x\\right) + δ_{w2} \\left(- t w_{2} + u_{1} y + w_{1} x - 3 w_{2} z\\right) + δ_{z} \\left(t^{2} - x^{2} - y^{2} + z^{2}\\right)$"
      ],
      "text/plain": [
       "2*t*z*δ_t + 2*x*z*δ_x + 2*y*z*δ_y + δ_u1*(t*u1 - 3*u1*z - u2*x - w2*y) + δ_u2*(-t*u2 + u1*x - 3*u2*z - w1*y) + δ_w1*(t*w1 + u2*y - 3*w1*z - w2*x) + δ_w2*(-t*w2 + u1*y + w1*x - 3*w2*z) + δ_z*(t**2 - x**2 - y**2 + z**2)"
      ]
     },
     "metadata": {},
     "execution_count": 460
    }
   ],
   "metadata": {}
  },
  {
   "cell_type": "code",
   "execution_count": 461,
   "source": [
    "nvf[13] = (-1*sp.expand(temp1)).collect(der)\n",
    "nvf[16] = temp2"
   ],
   "outputs": [],
   "metadata": {}
  },
  {
   "cell_type": "code",
   "execution_count": 462,
   "source": [
    "sp.Matrix([enum, nvf]).T"
   ],
   "outputs": [
    {
     "output_type": "execute_result",
     "data": {
      "text/latex": [
       "$\\displaystyle \\left[\\begin{matrix}0 & δ_{t}\\\\1 & δ_{x}\\\\2 & δ_{y}\\\\3 & δ_{z}\\\\4 & t δ_{t} + x δ_{x} + y δ_{y} + z δ_{z}\\\\5 & t δ_{x} + \\frac{u_{1} δ_{u2}}{2} + \\frac{u_{2} δ_{u1}}{2} + \\frac{w_{1} δ_{w2}}{2} + \\frac{w_{2} δ_{w1}}{2} + x δ_{t}\\\\6 & t δ_{y} + \\frac{u_{1} δ_{w2}}{2} - \\frac{u_{2} δ_{w1}}{2} - \\frac{w_{1} δ_{u2}}{2} + \\frac{w_{2} δ_{u1}}{2} + y δ_{t}\\\\7 & t δ_{z} + \\frac{u_{1} δ_{u1}}{2} - \\frac{u_{2} δ_{u2}}{2} + \\frac{w_{1} δ_{w1}}{2} - \\frac{w_{2} δ_{w2}}{2} + z δ_{t}\\\\8 & \\frac{u_{1} δ_{w1}}{2} - \\frac{u_{2} δ_{w2}}{2} - \\frac{w_{1} δ_{u1}}{2} + \\frac{w_{2} δ_{u2}}{2} - x δ_{y} + y δ_{x}\\\\9 & \\frac{u_{1} δ_{u2}}{2} - \\frac{u_{2} δ_{u1}}{2} + \\frac{w_{1} δ_{w2}}{2} - \\frac{w_{2} δ_{w1}}{2} - x δ_{z} + z δ_{x}\\\\10 & \\frac{u_{1} δ_{w2}}{2} + \\frac{u_{2} δ_{w1}}{2} - \\frac{w_{1} δ_{u2}}{2} - \\frac{w_{2} δ_{u1}}{2} - y δ_{z} + z δ_{y}\\\\11 & u_{1} δ_{u1} + u_{2} δ_{u2} + w_{1} δ_{w1} + w_{2} δ_{w2}\\\\12 & u_{1} δ_{w1} + u_{2} δ_{w2} - w_{1} δ_{u1} - w_{2} δ_{u2}\\\\13 & 2 t x δ_{x} + 2 t y δ_{y} + 2 t z δ_{z} + δ_{t} \\left(t^{2} + x^{2} + y^{2} + z^{2}\\right) + δ_{u1} \\left(- 3 t u_{1} + u_{1} z + u_{2} x + w_{2} y\\right) + δ_{u2} \\left(- 3 t u_{2} + u_{1} x - u_{2} z - w_{1} y\\right) + δ_{w1} \\left(- 3 t w_{1} - u_{2} y + w_{1} z + w_{2} x\\right) + δ_{w2} \\left(- 3 t w_{2} + u_{1} y + w_{1} x - w_{2} z\\right)\\\\14 & 2 t x δ_{t} + 2 x y δ_{y} + 2 x z δ_{z} + δ_{u1} \\left(t u_{2} - 3 u_{1} x + u_{2} z + w_{1} y\\right) + δ_{u2} \\left(t u_{1} - u_{1} z - 3 u_{2} x - w_{2} y\\right) + δ_{w1} \\left(t w_{2} - u_{1} y - 3 w_{1} x + w_{2} z\\right) + δ_{w2} \\left(t w_{1} + u_{2} y - w_{1} z - 3 w_{2} x\\right) + δ_{x} \\left(t^{2} + x^{2} - y^{2} - z^{2}\\right)\\\\15 & 2 t y δ_{t} + 2 x y δ_{x} + 2 y z δ_{z} + δ_{u1} \\left(t w_{2} - 3 u_{1} y - w_{1} x + w_{2} z\\right) + δ_{u2} \\left(- t w_{1} - 3 u_{2} y + w_{1} z + w_{2} x\\right) + δ_{w1} \\left(- t u_{2} + u_{1} x - u_{2} z - 3 w_{1} y\\right) + δ_{w2} \\left(t u_{1} - u_{1} z - u_{2} x - 3 w_{2} y\\right) + δ_{y} \\left(t^{2} - x^{2} + y^{2} - z^{2}\\right)\\\\16 & 2 t z δ_{t} + 2 x z δ_{x} + 2 y z δ_{y} + δ_{u1} \\left(t u_{1} - 3 u_{1} z - u_{2} x - w_{2} y\\right) + δ_{u2} \\left(- t u_{2} + u_{1} x - 3 u_{2} z - w_{1} y\\right) + δ_{w1} \\left(t w_{1} + u_{2} y - 3 w_{1} z - w_{2} x\\right) + δ_{w2} \\left(- t w_{2} + u_{1} y + w_{1} x - 3 w_{2} z\\right) + δ_{z} \\left(t^{2} - x^{2} - y^{2} + z^{2}\\right)\\\\17 & δ_{u1} \\operatorname{β_{1}}{\\left(t,x,y,z \\right)}\\\\18 & δ_{u2} \\operatorname{β_{2}}{\\left(t,x,y,z \\right)}\\\\19 & δ_{w1} \\operatorname{β_{3}}{\\left(t,x,y,z \\right)}\\\\20 & δ_{w2} \\operatorname{β_{4}}{\\left(t,x,y,z \\right)}\\end{matrix}\\right]$"
      ],
      "text/plain": [
       "Matrix([\n",
       "[ 0,                                                                                                                                                                                                                         δ_t],\n",
       "[ 1,                                                                                                                                                                                                                         δ_x],\n",
       "[ 2,                                                                                                                                                                                                                         δ_y],\n",
       "[ 3,                                                                                                                                                                                                                         δ_z],\n",
       "[ 4,                                                                                                                                                                                               t*δ_t + x*δ_x + y*δ_y + z*δ_z],\n",
       "[ 5,                                                                                                                                                               t*δ_x + u1*δ_u2/2 + u2*δ_u1/2 + w1*δ_w2/2 + w2*δ_w1/2 + x*δ_t],\n",
       "[ 6,                                                                                                                                                               t*δ_y + u1*δ_w2/2 - u2*δ_w1/2 - w1*δ_u2/2 + w2*δ_u1/2 + y*δ_t],\n",
       "[ 7,                                                                                                                                                               t*δ_z + u1*δ_u1/2 - u2*δ_u2/2 + w1*δ_w1/2 - w2*δ_w2/2 + z*δ_t],\n",
       "[ 8,                                                                                                                                                               u1*δ_w1/2 - u2*δ_w2/2 - w1*δ_u1/2 + w2*δ_u2/2 - x*δ_y + y*δ_x],\n",
       "[ 9,                                                                                                                                                               u1*δ_u2/2 - u2*δ_u1/2 + w1*δ_w2/2 - w2*δ_w1/2 - x*δ_z + z*δ_x],\n",
       "[10,                                                                                                                                                               u1*δ_w2/2 + u2*δ_w1/2 - w1*δ_u2/2 - w2*δ_u1/2 - y*δ_z + z*δ_y],\n",
       "[11,                                                                                                                                                                                       u1*δ_u1 + u2*δ_u2 + w1*δ_w1 + w2*δ_w2],\n",
       "[12,                                                                                                                                                                                       u1*δ_w1 + u2*δ_w2 - w1*δ_u1 - w2*δ_u2],\n",
       "[13, 2*t*x*δ_x + 2*t*y*δ_y + 2*t*z*δ_z + δ_t*(t**2 + x**2 + y**2 + z**2) + δ_u1*(-3*t*u1 + u1*z + u2*x + w2*y) + δ_u2*(-3*t*u2 + u1*x - u2*z - w1*y) + δ_w1*(-3*t*w1 - u2*y + w1*z + w2*x) + δ_w2*(-3*t*w2 + u1*y + w1*x - w2*z)],\n",
       "[14,     2*t*x*δ_t + 2*x*y*δ_y + 2*x*z*δ_z + δ_u1*(t*u2 - 3*u1*x + u2*z + w1*y) + δ_u2*(t*u1 - u1*z - 3*u2*x - w2*y) + δ_w1*(t*w2 - u1*y - 3*w1*x + w2*z) + δ_w2*(t*w1 + u2*y - w1*z - 3*w2*x) + δ_x*(t**2 + x**2 - y**2 - z**2)],\n",
       "[15,   2*t*y*δ_t + 2*x*y*δ_x + 2*y*z*δ_z + δ_u1*(t*w2 - 3*u1*y - w1*x + w2*z) + δ_u2*(-t*w1 - 3*u2*y + w1*z + w2*x) + δ_w1*(-t*u2 + u1*x - u2*z - 3*w1*y) + δ_w2*(t*u1 - u1*z - u2*x - 3*w2*y) + δ_y*(t**2 - x**2 + y**2 - z**2)],\n",
       "[16,   2*t*z*δ_t + 2*x*z*δ_x + 2*y*z*δ_y + δ_u1*(t*u1 - 3*u1*z - u2*x - w2*y) + δ_u2*(-t*u2 + u1*x - 3*u2*z - w1*y) + δ_w1*(t*w1 + u2*y - 3*w1*z - w2*x) + δ_w2*(-t*w2 + u1*y + w1*x - 3*w2*z) + δ_z*(t**2 - x**2 - y**2 + z**2)],\n",
       "[17,                                                                                                                                                                                                        δ_u1*β_1(t, x, y, z)],\n",
       "[18,                                                                                                                                                                                                        δ_u2*β_2(t, x, y, z)],\n",
       "[19,                                                                                                                                                                                                        δ_w1*β_3(t, x, y, z)],\n",
       "[20,                                                                                                                                                                                                        δ_w2*β_4(t, x, y, z)]])"
      ]
     },
     "metadata": {},
     "execution_count": 462
    }
   ],
   "metadata": {}
  },
  {
   "cell_type": "code",
   "execution_count": 772,
   "source": [
    "P = sp.Matrix([nvf[0], nvf[1], nvf[2], nvf[3]])        # 0-3\n",
    "\n",
    "D = ( (nvf[4]) - (3*nvf[11]/2) )                           # Just one\n",
    "\n",
    "M = sp.Matrix([\n",
    "                [ 0      ,nvf[5]  , nvf[6]  , nvf[7] ],   #\n",
    "                [-nvf[5] , 0      , nvf[8]  , nvf[9] ],   #This is 0-3 and 0-3\n",
    "                [-nvf[6] , -nvf[8], 0       , nvf[10]],   #\n",
    "                [-nvf[7] , -nvf[9], -nvf[10], 0      ]    #\n",
    "                ])                                     # Vorzeichen? wegen x-y, x-z, y-z\n",
    "\n",
    "K = sp.Matrix([-nvf[13], nvf[14], nvf[15], nvf[16]])    # 0 -3\n",
    "\n",
    "U1 = nvf[11].copy() #scale\n",
    "U2 = nvf[12].copy() #phase\n",
    "\n",
    "h = sp.eye(6, 6)\n",
    "h[0, 0] = -1\n",
    "h[1, 1] = -1\n",
    "h"
   ],
   "outputs": [
    {
     "output_type": "execute_result",
     "data": {
      "text/latex": [
       "$\\displaystyle \\left[\\begin{matrix}-1 & 0 & 0 & 0 & 0 & 0\\\\0 & -1 & 0 & 0 & 0 & 0\\\\0 & 0 & 1 & 0 & 0 & 0\\\\0 & 0 & 0 & 1 & 0 & 0\\\\0 & 0 & 0 & 0 & 1 & 0\\\\0 & 0 & 0 & 0 & 0 & 1\\end{matrix}\\right]$"
      ],
      "text/plain": [
       "Matrix([\n",
       "[-1,  0, 0, 0, 0, 0],\n",
       "[ 0, -1, 0, 0, 0, 0],\n",
       "[ 0,  0, 1, 0, 0, 0],\n",
       "[ 0,  0, 0, 1, 0, 0],\n",
       "[ 0,  0, 0, 0, 1, 0],\n",
       "[ 0,  0, 0, 0, 0, 1]])"
      ]
     },
     "metadata": {},
     "execution_count": 772
    }
   ],
   "metadata": {}
  },
  {
   "cell_type": "markdown",
   "source": [
    "I'm not quite sure how to make this J matrix...\n",
    "From the paper it is like this:\n",
    "$$\\begin{bmatrix}\n",
    "0 & D & P_m - K_m \\\\\n",
    "-D & 0 & P_m + K_m \\\\ \n",
    "-- & -- & L_{ab}   \n",
    "\\end{bmatrix}  $$\n",
    "I think doing it equivalently is the rational thing..."
   ],
   "metadata": {}
  },
  {
   "cell_type": "code",
   "execution_count": 792,
   "source": [
    "#Based on the script\n",
    "J0 = sp.zeros(6, 6)\n",
    "\n",
    "J0[0, 1] =  D\n",
    "J0[1, 0] = -D\n",
    "\n",
    "for i in range(2, 6):\n",
    "    J0[0, i] =  (P[i-2] - K[i-2])/2\n",
    "    J0[1, i] =  (P[i-2] + K[i-2])/2\n",
    "\n",
    "    J0[i, 0] = -(P[i-2] - K[i-2])/2\n",
    "    J0[i, 1] = -(P[i-2] + K[i-2])/2\n",
    "\n",
    "    for j in range(2, 6):\n",
    "        J0[i, j] = M[i-2, j-2]\n",
    "\n",
    "J0.is_anti_symmetric()"
   ],
   "outputs": [
    {
     "output_type": "execute_result",
     "data": {
      "text/plain": [
       "True"
      ]
     },
     "metadata": {},
     "execution_count": 792
    }
   ],
   "metadata": {}
  },
  {
   "cell_type": "code",
   "execution_count": 773,
   "source": [
    "#Based on Olaf's drawing\n",
    "J1 = sp.zeros(6, 6)\n",
    "\n",
    "for i in range(0, 4):\n",
    "    J1[0, 1+i] = ( (K[i]) + P[i])/2\n",
    "\n",
    "J1[0, 5] = D\n",
    "\n",
    "for i in range(0, 4):\n",
    "    for j in range(0, 4):\n",
    "        J1[1+i, 1+j] = M[i, j]\n",
    "\n",
    "for i in range(0, 4):\n",
    "    J1[1+i, 5] = ( (K[i]) - P[i])/2\n",
    "\n",
    "for i in range(0, 5):\n",
    "    J1[i, 0] = -J1[0, i]\n",
    "\n",
    "for i in range(0, 5):\n",
    "    J1[5, i] = -J1[i, 5]\n",
    "    \n",
    "J1.is_anti_symmetric()"
   ],
   "outputs": [
    {
     "output_type": "execute_result",
     "data": {
      "text/plain": [
       "True"
      ]
     },
     "metadata": {},
     "execution_count": 773
    }
   ],
   "metadata": {}
  },
  {
   "cell_type": "code",
   "execution_count": 793,
   "source": [
    "s = [+1, +1, -1, -1]\n",
    "J = J0\n",
    "flag = True\n",
    "for a in range(0, 6):\n",
    "    for b in range(0, 6):\n",
    "        v0 = J[a, b]\n",
    "        for c in range(0, 6):\n",
    "            for d in range(0, 6):\n",
    "                v1 = J[c, d] \n",
    "                #left hand of the equation\n",
    "                temp1 = sp.expand(lie_alg_t(v0, v1, der, dic_der) - lie_alg_t(v1, v0, der, dic_der))\n",
    "                temp2 = sp.expand( s[0]*h[a,d]*J[b, c] + s[1]*h[b,c]*J[a,d] + s[2]*h[a,c]*J[b,d] + s[3]*h[b,d]*J[a,c])\n",
    "                if temp1 != temp2:\n",
    "                    print(a, b, c, d)\n",
    "                    flag = False\n",
    "print(flag)"
   ],
   "outputs": [
    {
     "output_type": "stream",
     "name": "stdout",
     "text": [
      "0 1 0 2\n",
      "0 1 0 3\n",
      "0 1 0 4\n",
      "0 1 0 5\n",
      "0 1 2 0\n",
      "0 1 3 0\n",
      "0 1 4 0\n",
      "0 1 5 0\n",
      "0 2 0 1\n",
      "0 2 0 3\n",
      "0 2 0 4\n",
      "0 2 0 5\n",
      "0 2 1 0\n",
      "0 2 1 2\n",
      "0 2 1 3\n",
      "0 2 1 4\n",
      "0 2 1 5\n",
      "0 2 2 1\n",
      "0 2 2 3\n",
      "0 2 2 4\n",
      "0 2 2 5\n",
      "0 2 3 0\n",
      "0 2 3 1\n",
      "0 2 3 2\n",
      "0 2 4 0\n",
      "0 2 4 1\n",
      "0 2 4 2\n",
      "0 2 5 0\n",
      "0 2 5 1\n",
      "0 2 5 2\n",
      "0 3 0 1\n",
      "0 3 0 2\n",
      "0 3 0 4\n",
      "0 3 0 5\n",
      "0 3 1 0\n",
      "0 3 1 2\n",
      "0 3 1 3\n",
      "0 3 2 0\n",
      "0 3 2 1\n",
      "0 3 2 3\n",
      "0 3 3 1\n",
      "0 3 3 2\n",
      "0 3 3 4\n",
      "0 3 3 5\n",
      "0 3 4 0\n",
      "0 3 4 3\n",
      "0 3 5 0\n",
      "0 3 5 3\n",
      "0 4 0 1\n",
      "0 4 0 2\n",
      "0 4 0 3\n",
      "0 4 0 5\n",
      "0 4 1 0\n",
      "0 4 1 2\n",
      "0 4 1 4\n",
      "0 4 2 0\n",
      "0 4 2 1\n",
      "0 4 2 4\n",
      "0 4 3 0\n",
      "0 4 3 4\n",
      "0 4 4 1\n",
      "0 4 4 2\n",
      "0 4 4 3\n",
      "0 4 4 5\n",
      "0 4 5 0\n",
      "0 4 5 4\n",
      "0 5 0 1\n",
      "0 5 0 2\n",
      "0 5 0 3\n",
      "0 5 0 4\n",
      "0 5 1 0\n",
      "0 5 1 2\n",
      "0 5 1 5\n",
      "0 5 2 0\n",
      "0 5 2 1\n",
      "0 5 2 5\n",
      "0 5 3 0\n",
      "0 5 3 5\n",
      "0 5 4 0\n",
      "0 5 4 5\n",
      "0 5 5 1\n",
      "0 5 5 2\n",
      "0 5 5 3\n",
      "0 5 5 4\n",
      "1 0 0 2\n",
      "1 0 0 3\n",
      "1 0 0 4\n",
      "1 0 0 5\n",
      "1 0 2 0\n",
      "1 0 3 0\n",
      "1 0 4 0\n",
      "1 0 5 0\n",
      "1 2 0 2\n",
      "1 2 0 3\n",
      "1 2 0 4\n",
      "1 2 0 5\n",
      "1 2 1 3\n",
      "1 2 1 4\n",
      "1 2 1 5\n",
      "1 2 2 0\n",
      "1 2 2 3\n",
      "1 2 2 4\n",
      "1 2 2 5\n",
      "1 2 3 0\n",
      "1 2 3 1\n",
      "1 2 3 2\n",
      "1 2 4 0\n",
      "1 2 4 1\n",
      "1 2 4 2\n",
      "1 2 5 0\n",
      "1 2 5 1\n",
      "1 2 5 2\n",
      "1 3 0 2\n",
      "1 3 0 3\n",
      "1 3 1 2\n",
      "1 3 2 0\n",
      "1 3 2 1\n",
      "1 3 2 3\n",
      "1 3 3 0\n",
      "1 3 3 2\n",
      "1 3 3 4\n",
      "1 3 3 5\n",
      "1 3 4 3\n",
      "1 3 5 3\n",
      "1 4 0 2\n",
      "1 4 0 4\n"
     ]
    },
    {
     "output_type": "error",
     "ename": "KeyboardInterrupt",
     "evalue": "",
     "traceback": [
      "\u001b[0;31m---------------------------------------------------------------------------\u001b[0m",
      "\u001b[0;31mKeyboardInterrupt\u001b[0m                         Traceback (most recent call last)",
      "\u001b[0;32m<ipython-input-793-da5972243e14>\u001b[0m in \u001b[0;36m<module>\u001b[0;34m\u001b[0m\n\u001b[1;32m      9\u001b[0m                 \u001b[0mv1\u001b[0m \u001b[0;34m=\u001b[0m \u001b[0mJ\u001b[0m\u001b[0;34m[\u001b[0m\u001b[0mc\u001b[0m\u001b[0;34m,\u001b[0m \u001b[0md\u001b[0m\u001b[0;34m]\u001b[0m\u001b[0;34m\u001b[0m\u001b[0;34m\u001b[0m\u001b[0m\n\u001b[1;32m     10\u001b[0m                 \u001b[0;31m#left hand of the equation\u001b[0m\u001b[0;34m\u001b[0m\u001b[0;34m\u001b[0m\u001b[0;34m\u001b[0m\u001b[0m\n\u001b[0;32m---> 11\u001b[0;31m                 \u001b[0mtemp1\u001b[0m \u001b[0;34m=\u001b[0m \u001b[0msp\u001b[0m\u001b[0;34m.\u001b[0m\u001b[0mexpand\u001b[0m\u001b[0;34m(\u001b[0m\u001b[0mlie_alg_t\u001b[0m\u001b[0;34m(\u001b[0m\u001b[0mv0\u001b[0m\u001b[0;34m,\u001b[0m \u001b[0mv1\u001b[0m\u001b[0;34m,\u001b[0m \u001b[0mder\u001b[0m\u001b[0;34m,\u001b[0m \u001b[0mdic_der\u001b[0m\u001b[0;34m)\u001b[0m \u001b[0;34m-\u001b[0m \u001b[0mlie_alg_t\u001b[0m\u001b[0;34m(\u001b[0m\u001b[0mv1\u001b[0m\u001b[0;34m,\u001b[0m \u001b[0mv0\u001b[0m\u001b[0;34m,\u001b[0m \u001b[0mder\u001b[0m\u001b[0;34m,\u001b[0m \u001b[0mdic_der\u001b[0m\u001b[0;34m)\u001b[0m\u001b[0;34m)\u001b[0m\u001b[0;34m\u001b[0m\u001b[0;34m\u001b[0m\u001b[0m\n\u001b[0m\u001b[1;32m     12\u001b[0m                 \u001b[0mtemp2\u001b[0m \u001b[0;34m=\u001b[0m \u001b[0msp\u001b[0m\u001b[0;34m.\u001b[0m\u001b[0mexpand\u001b[0m\u001b[0;34m(\u001b[0m \u001b[0ms\u001b[0m\u001b[0;34m[\u001b[0m\u001b[0;36m0\u001b[0m\u001b[0;34m]\u001b[0m\u001b[0;34m*\u001b[0m\u001b[0mh\u001b[0m\u001b[0;34m[\u001b[0m\u001b[0ma\u001b[0m\u001b[0;34m,\u001b[0m\u001b[0md\u001b[0m\u001b[0;34m]\u001b[0m\u001b[0;34m*\u001b[0m\u001b[0mJ\u001b[0m\u001b[0;34m[\u001b[0m\u001b[0mb\u001b[0m\u001b[0;34m,\u001b[0m \u001b[0mc\u001b[0m\u001b[0;34m]\u001b[0m \u001b[0;34m+\u001b[0m \u001b[0ms\u001b[0m\u001b[0;34m[\u001b[0m\u001b[0;36m1\u001b[0m\u001b[0;34m]\u001b[0m\u001b[0;34m*\u001b[0m\u001b[0mh\u001b[0m\u001b[0;34m[\u001b[0m\u001b[0mb\u001b[0m\u001b[0;34m,\u001b[0m\u001b[0mc\u001b[0m\u001b[0;34m]\u001b[0m\u001b[0;34m*\u001b[0m\u001b[0mJ\u001b[0m\u001b[0;34m[\u001b[0m\u001b[0ma\u001b[0m\u001b[0;34m,\u001b[0m\u001b[0md\u001b[0m\u001b[0;34m]\u001b[0m \u001b[0;34m+\u001b[0m \u001b[0ms\u001b[0m\u001b[0;34m[\u001b[0m\u001b[0;36m2\u001b[0m\u001b[0;34m]\u001b[0m\u001b[0;34m*\u001b[0m\u001b[0mh\u001b[0m\u001b[0;34m[\u001b[0m\u001b[0ma\u001b[0m\u001b[0;34m,\u001b[0m\u001b[0mc\u001b[0m\u001b[0;34m]\u001b[0m\u001b[0;34m*\u001b[0m\u001b[0mJ\u001b[0m\u001b[0;34m[\u001b[0m\u001b[0mb\u001b[0m\u001b[0;34m,\u001b[0m\u001b[0md\u001b[0m\u001b[0;34m]\u001b[0m \u001b[0;34m+\u001b[0m \u001b[0ms\u001b[0m\u001b[0;34m[\u001b[0m\u001b[0;36m3\u001b[0m\u001b[0;34m]\u001b[0m\u001b[0;34m*\u001b[0m\u001b[0mh\u001b[0m\u001b[0;34m[\u001b[0m\u001b[0mb\u001b[0m\u001b[0;34m,\u001b[0m\u001b[0md\u001b[0m\u001b[0;34m]\u001b[0m\u001b[0;34m*\u001b[0m\u001b[0mJ\u001b[0m\u001b[0;34m[\u001b[0m\u001b[0ma\u001b[0m\u001b[0;34m,\u001b[0m\u001b[0mc\u001b[0m\u001b[0;34m]\u001b[0m\u001b[0;34m)\u001b[0m\u001b[0;34m\u001b[0m\u001b[0;34m\u001b[0m\u001b[0m\n\u001b[1;32m     13\u001b[0m                 \u001b[0;32mif\u001b[0m \u001b[0mtemp1\u001b[0m \u001b[0;34m!=\u001b[0m \u001b[0mtemp2\u001b[0m\u001b[0;34m:\u001b[0m\u001b[0;34m\u001b[0m\u001b[0;34m\u001b[0m\u001b[0m\n",
      "\u001b[0;32m<ipython-input-454-b8de7ced2d81>\u001b[0m in \u001b[0;36mlie_alg_t\u001b[0;34m(expr1, expr2, der, dic)\u001b[0m\n\u001b[1;32m      9\u001b[0m                 \u001b[0mterms\u001b[0m\u001b[0;34m.\u001b[0m\u001b[0mappend\u001b[0m\u001b[0;34m(\u001b[0m\u001b[0mi\u001b[0m\u001b[0;34m)\u001b[0m\u001b[0;34m\u001b[0m\u001b[0;34m\u001b[0m\u001b[0m\n\u001b[1;32m     10\u001b[0m         \u001b[0;31m#list with the derivatives\u001b[0m\u001b[0;34m\u001b[0m\u001b[0;34m\u001b[0m\u001b[0;34m\u001b[0m\u001b[0m\n\u001b[0;32m---> 11\u001b[0;31m         \u001b[0mpol\u001b[0m \u001b[0;34m=\u001b[0m \u001b[0msp\u001b[0m\u001b[0;34m.\u001b[0m\u001b[0mPoly\u001b[0m\u001b[0;34m(\u001b[0m\u001b[0mexpr1\u001b[0m\u001b[0;34m,\u001b[0m \u001b[0;34m*\u001b[0m\u001b[0mder\u001b[0m\u001b[0;34m)\u001b[0m\u001b[0;34m\u001b[0m\u001b[0;34m\u001b[0m\u001b[0m\n\u001b[0m\u001b[1;32m     12\u001b[0m         \u001b[0mpol\u001b[0m \u001b[0;34m=\u001b[0m \u001b[0mpol\u001b[0m\u001b[0;34m.\u001b[0m\u001b[0mcoeffs\u001b[0m\u001b[0;34m(\u001b[0m\u001b[0;34m)\u001b[0m\u001b[0;34m\u001b[0m\u001b[0;34m\u001b[0m\u001b[0m\n\u001b[1;32m     13\u001b[0m         \u001b[0;31m#list with the coefficients of the derivatives\u001b[0m\u001b[0;34m\u001b[0m\u001b[0;34m\u001b[0m\u001b[0;34m\u001b[0m\u001b[0m\n",
      "\u001b[0;32m~/anaconda3/envs/gp-env/lib/python3.8/site-packages/sympy/polys/polytools.py\u001b[0m in \u001b[0;36m__new__\u001b[0;34m(cls, rep, *gens, **args)\u001b[0m\n\u001b[1;32m    160\u001b[0m                 \u001b[0;32mreturn\u001b[0m \u001b[0mcls\u001b[0m\u001b[0;34m.\u001b[0m\u001b[0m_from_poly\u001b[0m\u001b[0;34m(\u001b[0m\u001b[0mrep\u001b[0m\u001b[0;34m,\u001b[0m \u001b[0mopt\u001b[0m\u001b[0;34m)\u001b[0m\u001b[0;34m\u001b[0m\u001b[0;34m\u001b[0m\u001b[0m\n\u001b[1;32m    161\u001b[0m             \u001b[0;32melse\u001b[0m\u001b[0;34m:\u001b[0m\u001b[0;34m\u001b[0m\u001b[0;34m\u001b[0m\u001b[0m\n\u001b[0;32m--> 162\u001b[0;31m                 \u001b[0;32mreturn\u001b[0m \u001b[0mcls\u001b[0m\u001b[0;34m.\u001b[0m\u001b[0m_from_expr\u001b[0m\u001b[0;34m(\u001b[0m\u001b[0mrep\u001b[0m\u001b[0;34m,\u001b[0m \u001b[0mopt\u001b[0m\u001b[0;34m)\u001b[0m\u001b[0;34m\u001b[0m\u001b[0;34m\u001b[0m\u001b[0m\n\u001b[0m\u001b[1;32m    163\u001b[0m \u001b[0;34m\u001b[0m\u001b[0m\n\u001b[1;32m    164\u001b[0m     \u001b[0;31m# Poly does not pass its args to Basic.__new__ to be stored in _args so we\u001b[0m\u001b[0;34m\u001b[0m\u001b[0;34m\u001b[0m\u001b[0;34m\u001b[0m\u001b[0m\n",
      "\u001b[0;32m~/anaconda3/envs/gp-env/lib/python3.8/site-packages/sympy/polys/polytools.py\u001b[0m in \u001b[0;36m_from_expr\u001b[0;34m(cls, rep, opt)\u001b[0m\n\u001b[1;32m    290\u001b[0m         \u001b[0;34m\"\"\"Construct a polynomial from an expression. \"\"\"\u001b[0m\u001b[0;34m\u001b[0m\u001b[0;34m\u001b[0m\u001b[0m\n\u001b[1;32m    291\u001b[0m         \u001b[0mrep\u001b[0m\u001b[0;34m,\u001b[0m \u001b[0mopt\u001b[0m \u001b[0;34m=\u001b[0m \u001b[0m_dict_from_expr\u001b[0m\u001b[0;34m(\u001b[0m\u001b[0mrep\u001b[0m\u001b[0;34m,\u001b[0m \u001b[0mopt\u001b[0m\u001b[0;34m)\u001b[0m\u001b[0;34m\u001b[0m\u001b[0;34m\u001b[0m\u001b[0m\n\u001b[0;32m--> 292\u001b[0;31m         \u001b[0;32mreturn\u001b[0m \u001b[0mcls\u001b[0m\u001b[0;34m.\u001b[0m\u001b[0m_from_dict\u001b[0m\u001b[0;34m(\u001b[0m\u001b[0mrep\u001b[0m\u001b[0;34m,\u001b[0m \u001b[0mopt\u001b[0m\u001b[0;34m)\u001b[0m\u001b[0;34m\u001b[0m\u001b[0;34m\u001b[0m\u001b[0m\n\u001b[0m\u001b[1;32m    293\u001b[0m \u001b[0;34m\u001b[0m\u001b[0m\n\u001b[1;32m    294\u001b[0m     \u001b[0;34m@\u001b[0m\u001b[0mclassmethod\u001b[0m\u001b[0;34m\u001b[0m\u001b[0;34m\u001b[0m\u001b[0m\n",
      "\u001b[0;32m~/anaconda3/envs/gp-env/lib/python3.8/site-packages/sympy/polys/polytools.py\u001b[0m in \u001b[0;36m_from_dict\u001b[0;34m(cls, rep, opt)\u001b[0m\n\u001b[1;32m    234\u001b[0m \u001b[0;34m\u001b[0m\u001b[0m\n\u001b[1;32m    235\u001b[0m         \u001b[0;32mif\u001b[0m \u001b[0mdomain\u001b[0m \u001b[0;32mis\u001b[0m \u001b[0;32mNone\u001b[0m\u001b[0;34m:\u001b[0m\u001b[0;34m\u001b[0m\u001b[0;34m\u001b[0m\u001b[0m\n\u001b[0;32m--> 236\u001b[0;31m             \u001b[0mdomain\u001b[0m\u001b[0;34m,\u001b[0m \u001b[0mrep\u001b[0m \u001b[0;34m=\u001b[0m \u001b[0mconstruct_domain\u001b[0m\u001b[0;34m(\u001b[0m\u001b[0mrep\u001b[0m\u001b[0;34m,\u001b[0m \u001b[0mopt\u001b[0m\u001b[0;34m=\u001b[0m\u001b[0mopt\u001b[0m\u001b[0;34m)\u001b[0m\u001b[0;34m\u001b[0m\u001b[0;34m\u001b[0m\u001b[0m\n\u001b[0m\u001b[1;32m    237\u001b[0m         \u001b[0;32melse\u001b[0m\u001b[0;34m:\u001b[0m\u001b[0;34m\u001b[0m\u001b[0;34m\u001b[0m\u001b[0m\n\u001b[1;32m    238\u001b[0m             \u001b[0;32mfor\u001b[0m \u001b[0mmonom\u001b[0m\u001b[0;34m,\u001b[0m \u001b[0mcoeff\u001b[0m \u001b[0;32min\u001b[0m \u001b[0mrep\u001b[0m\u001b[0;34m.\u001b[0m\u001b[0mitems\u001b[0m\u001b[0;34m(\u001b[0m\u001b[0;34m)\u001b[0m\u001b[0;34m:\u001b[0m\u001b[0;34m\u001b[0m\u001b[0;34m\u001b[0m\u001b[0m\n",
      "\u001b[0;32m~/anaconda3/envs/gp-env/lib/python3.8/site-packages/sympy/polys/constructor.py\u001b[0m in \u001b[0;36mconstruct_domain\u001b[0;34m(obj, **args)\u001b[0m\n\u001b[1;32m    284\u001b[0m             \u001b[0mresult\u001b[0m \u001b[0;34m=\u001b[0m \u001b[0;32mNone\u001b[0m\u001b[0;34m\u001b[0m\u001b[0;34m\u001b[0m\u001b[0m\n\u001b[1;32m    285\u001b[0m         \u001b[0;32melse\u001b[0m\u001b[0;34m:\u001b[0m\u001b[0;34m\u001b[0m\u001b[0;34m\u001b[0m\u001b[0m\n\u001b[0;32m--> 286\u001b[0;31m             \u001b[0mresult\u001b[0m \u001b[0;34m=\u001b[0m \u001b[0m_construct_composite\u001b[0m\u001b[0;34m(\u001b[0m\u001b[0mcoeffs\u001b[0m\u001b[0;34m,\u001b[0m \u001b[0mopt\u001b[0m\u001b[0;34m)\u001b[0m\u001b[0;34m\u001b[0m\u001b[0;34m\u001b[0m\u001b[0m\n\u001b[0m\u001b[1;32m    287\u001b[0m \u001b[0;34m\u001b[0m\u001b[0m\n\u001b[1;32m    288\u001b[0m         \u001b[0;32mif\u001b[0m \u001b[0mresult\u001b[0m \u001b[0;32mis\u001b[0m \u001b[0;32mnot\u001b[0m \u001b[0;32mNone\u001b[0m\u001b[0;34m:\u001b[0m\u001b[0;34m\u001b[0m\u001b[0;34m\u001b[0m\u001b[0m\n",
      "\u001b[0;32m~/anaconda3/envs/gp-env/lib/python3.8/site-packages/sympy/polys/constructor.py\u001b[0m in \u001b[0;36m_construct_composite\u001b[0;34m(coeffs, opt)\u001b[0m\n\u001b[1;32m    126\u001b[0m \u001b[0;34m\u001b[0m\u001b[0m\n\u001b[1;32m    127\u001b[0m     \u001b[0;32mfor\u001b[0m \u001b[0mcoeff\u001b[0m \u001b[0;32min\u001b[0m \u001b[0mcoeffs\u001b[0m\u001b[0;34m:\u001b[0m\u001b[0;34m\u001b[0m\u001b[0;34m\u001b[0m\u001b[0m\n\u001b[0;32m--> 128\u001b[0;31m         \u001b[0mnumer\u001b[0m\u001b[0;34m,\u001b[0m \u001b[0mdenom\u001b[0m \u001b[0;34m=\u001b[0m \u001b[0mcoeff\u001b[0m\u001b[0;34m.\u001b[0m\u001b[0mas_numer_denom\u001b[0m\u001b[0;34m(\u001b[0m\u001b[0;34m)\u001b[0m\u001b[0;34m\u001b[0m\u001b[0;34m\u001b[0m\u001b[0m\n\u001b[0m\u001b[1;32m    129\u001b[0m \u001b[0;34m\u001b[0m\u001b[0m\n\u001b[1;32m    130\u001b[0m         \u001b[0mnumers\u001b[0m\u001b[0;34m.\u001b[0m\u001b[0mappend\u001b[0m\u001b[0;34m(\u001b[0m\u001b[0mnumer\u001b[0m\u001b[0;34m)\u001b[0m\u001b[0;34m\u001b[0m\u001b[0;34m\u001b[0m\u001b[0m\n",
      "\u001b[0;32m~/anaconda3/envs/gp-env/lib/python3.8/site-packages/sympy/core/mul.py\u001b[0m in \u001b[0;36mas_numer_denom\u001b[0;34m(self)\u001b[0m\n\u001b[1;32m   1174\u001b[0m         \u001b[0;31m# as the order is not guaranteed to be the same once they have\u001b[0m\u001b[0;34m\u001b[0m\u001b[0;34m\u001b[0m\u001b[0;34m\u001b[0m\u001b[0m\n\u001b[1;32m   1175\u001b[0m         \u001b[0;31m# been separated from each other\u001b[0m\u001b[0;34m\u001b[0m\u001b[0;34m\u001b[0m\u001b[0;34m\u001b[0m\u001b[0m\n\u001b[0;32m-> 1176\u001b[0;31m         \u001b[0mnumers\u001b[0m\u001b[0;34m,\u001b[0m \u001b[0mdenoms\u001b[0m \u001b[0;34m=\u001b[0m \u001b[0mlist\u001b[0m\u001b[0;34m(\u001b[0m\u001b[0mzip\u001b[0m\u001b[0;34m(\u001b[0m\u001b[0;34m*\u001b[0m\u001b[0;34m[\u001b[0m\u001b[0mf\u001b[0m\u001b[0;34m.\u001b[0m\u001b[0mas_numer_denom\u001b[0m\u001b[0;34m(\u001b[0m\u001b[0;34m)\u001b[0m \u001b[0;32mfor\u001b[0m \u001b[0mf\u001b[0m \u001b[0;32min\u001b[0m \u001b[0mself\u001b[0m\u001b[0;34m.\u001b[0m\u001b[0margs\u001b[0m\u001b[0;34m]\u001b[0m\u001b[0;34m)\u001b[0m\u001b[0;34m)\u001b[0m\u001b[0;34m\u001b[0m\u001b[0;34m\u001b[0m\u001b[0m\n\u001b[0m\u001b[1;32m   1177\u001b[0m         \u001b[0;32mreturn\u001b[0m \u001b[0mself\u001b[0m\u001b[0;34m.\u001b[0m\u001b[0mfunc\u001b[0m\u001b[0;34m(\u001b[0m\u001b[0;34m*\u001b[0m\u001b[0mnumers\u001b[0m\u001b[0;34m)\u001b[0m\u001b[0;34m,\u001b[0m \u001b[0mself\u001b[0m\u001b[0;34m.\u001b[0m\u001b[0mfunc\u001b[0m\u001b[0;34m(\u001b[0m\u001b[0;34m*\u001b[0m\u001b[0mdenoms\u001b[0m\u001b[0;34m)\u001b[0m\u001b[0;34m\u001b[0m\u001b[0;34m\u001b[0m\u001b[0m\n\u001b[1;32m   1178\u001b[0m \u001b[0;34m\u001b[0m\u001b[0m\n",
      "\u001b[0;31mKeyboardInterrupt\u001b[0m: "
     ]
    }
   ],
   "metadata": {}
  },
  {
   "cell_type": "code",
   "execution_count": 784,
   "source": [
    "J = J0\n",
    "a = 5\n",
    "b = 5\n",
    "c = 5\n",
    "d = 3\n",
    "v0 = J[ a, b]\n",
    "v1 = J[ c, d] "
   ],
   "outputs": [],
   "metadata": {}
  },
  {
   "cell_type": "code",
   "execution_count": 785,
   "source": [
    "sp.expand(lie_alg_t(v0, v1, der, dic_der) - lie_alg_t(v1, v0, der, dic_der))"
   ],
   "outputs": [
    {
     "output_type": "execute_result",
     "data": {
      "text/latex": [
       "$\\displaystyle 0$"
      ],
      "text/plain": [
       "0"
      ]
     },
     "metadata": {},
     "execution_count": 785
    }
   ],
   "metadata": {}
  },
  {
   "cell_type": "code",
   "execution_count": 787,
   "source": [
    "sp.expand( s[0]*h[a,d]*J[b, c] + s[1]*h[b,c]*J[a,d] - s[2]*h[a,c]*J[b,d] + s[3]*h[b,d]*J[a,c])"
   ],
   "outputs": [
    {
     "output_type": "execute_result",
     "data": {
      "text/latex": [
       "$\\displaystyle 0$"
      ],
      "text/plain": [
       "0"
      ]
     },
     "metadata": {},
     "execution_count": 787
    }
   ],
   "metadata": {}
  },
  {
   "cell_type": "code",
   "execution_count": 466,
   "source": [
    "M"
   ],
   "outputs": [
    {
     "output_type": "execute_result",
     "data": {
      "text/latex": [
       "$\\displaystyle \\left[\\begin{matrix}0 & t δ_{x} + \\frac{u_{1} δ_{u2}}{2} + \\frac{u_{2} δ_{u1}}{2} + \\frac{w_{1} δ_{w2}}{2} + \\frac{w_{2} δ_{w1}}{2} + x δ_{t} & t δ_{y} + \\frac{u_{1} δ_{w2}}{2} - \\frac{u_{2} δ_{w1}}{2} - \\frac{w_{1} δ_{u2}}{2} + \\frac{w_{2} δ_{u1}}{2} + y δ_{t} & t δ_{z} + \\frac{u_{1} δ_{u1}}{2} - \\frac{u_{2} δ_{u2}}{2} + \\frac{w_{1} δ_{w1}}{2} - \\frac{w_{2} δ_{w2}}{2} + z δ_{t}\\\\- t δ_{x} - \\frac{u_{1} δ_{u2}}{2} - \\frac{u_{2} δ_{u1}}{2} - \\frac{w_{1} δ_{w2}}{2} - \\frac{w_{2} δ_{w1}}{2} - x δ_{t} & 0 & \\frac{u_{1} δ_{w1}}{2} - \\frac{u_{2} δ_{w2}}{2} - \\frac{w_{1} δ_{u1}}{2} + \\frac{w_{2} δ_{u2}}{2} - x δ_{y} + y δ_{x} & \\frac{u_{1} δ_{u2}}{2} - \\frac{u_{2} δ_{u1}}{2} + \\frac{w_{1} δ_{w2}}{2} - \\frac{w_{2} δ_{w1}}{2} - x δ_{z} + z δ_{x}\\\\- t δ_{y} - \\frac{u_{1} δ_{w2}}{2} + \\frac{u_{2} δ_{w1}}{2} + \\frac{w_{1} δ_{u2}}{2} - \\frac{w_{2} δ_{u1}}{2} - y δ_{t} & - \\frac{u_{1} δ_{w1}}{2} + \\frac{u_{2} δ_{w2}}{2} + \\frac{w_{1} δ_{u1}}{2} - \\frac{w_{2} δ_{u2}}{2} + x δ_{y} - y δ_{x} & 0 & \\frac{u_{1} δ_{w2}}{2} + \\frac{u_{2} δ_{w1}}{2} - \\frac{w_{1} δ_{u2}}{2} - \\frac{w_{2} δ_{u1}}{2} - y δ_{z} + z δ_{y}\\\\- t δ_{z} - \\frac{u_{1} δ_{u1}}{2} + \\frac{u_{2} δ_{u2}}{2} - \\frac{w_{1} δ_{w1}}{2} + \\frac{w_{2} δ_{w2}}{2} - z δ_{t} & - \\frac{u_{1} δ_{u2}}{2} + \\frac{u_{2} δ_{u1}}{2} - \\frac{w_{1} δ_{w2}}{2} + \\frac{w_{2} δ_{w1}}{2} + x δ_{z} - z δ_{x} & - \\frac{u_{1} δ_{w2}}{2} - \\frac{u_{2} δ_{w1}}{2} + \\frac{w_{1} δ_{u2}}{2} + \\frac{w_{2} δ_{u1}}{2} + y δ_{z} - z δ_{y} & 0\\end{matrix}\\right]$"
      ],
      "text/plain": [
       "Matrix([\n",
       "[                                                             0,  t*δ_x + u1*δ_u2/2 + u2*δ_u1/2 + w1*δ_w2/2 + w2*δ_w1/2 + x*δ_t,  t*δ_y + u1*δ_w2/2 - u2*δ_w1/2 - w1*δ_u2/2 + w2*δ_u1/2 + y*δ_t, t*δ_z + u1*δ_u1/2 - u2*δ_u2/2 + w1*δ_w1/2 - w2*δ_w2/2 + z*δ_t],\n",
       "[-t*δ_x - u1*δ_u2/2 - u2*δ_u1/2 - w1*δ_w2/2 - w2*δ_w1/2 - x*δ_t,                                                              0,  u1*δ_w1/2 - u2*δ_w2/2 - w1*δ_u1/2 + w2*δ_u2/2 - x*δ_y + y*δ_x, u1*δ_u2/2 - u2*δ_u1/2 + w1*δ_w2/2 - w2*δ_w1/2 - x*δ_z + z*δ_x],\n",
       "[-t*δ_y - u1*δ_w2/2 + u2*δ_w1/2 + w1*δ_u2/2 - w2*δ_u1/2 - y*δ_t, -u1*δ_w1/2 + u2*δ_w2/2 + w1*δ_u1/2 - w2*δ_u2/2 + x*δ_y - y*δ_x,                                                              0, u1*δ_w2/2 + u2*δ_w1/2 - w1*δ_u2/2 - w2*δ_u1/2 - y*δ_z + z*δ_y],\n",
       "[-t*δ_z - u1*δ_u1/2 + u2*δ_u2/2 - w1*δ_w1/2 + w2*δ_w2/2 - z*δ_t, -u1*δ_u2/2 + u2*δ_u1/2 - w1*δ_w2/2 + w2*δ_w1/2 + x*δ_z - z*δ_x, -u1*δ_w2/2 - u2*δ_w1/2 + w1*δ_u2/2 + w2*δ_u1/2 + y*δ_z - z*δ_y,                                                             0]])"
      ]
     },
     "metadata": {},
     "execution_count": 466
    }
   ],
   "metadata": {}
  },
  {
   "cell_type": "code",
   "execution_count": 467,
   "source": [
    "#[M_μν, M_ρσ]\n",
    "l9 = []\n",
    "for i in range(0, 4):\n",
    "    l9.append([])\n",
    "    for j in range(0,4):\n",
    "        v0 = M[i, j]\n",
    "        l9[i].append([])\n",
    "        for k in range(0, 4):\n",
    "            for l in range(0, 4):\n",
    "                v1 = M[k, l]\n",
    "                temp = sp.expand(lie_alg_t(v0, v1, der, dic_der) - lie_alg_t(v1, v0, der, dic_der))\n",
    "                l9[i][j].append(temp.collect(der))"
   ],
   "outputs": [],
   "metadata": {}
  },
  {
   "cell_type": "code",
   "execution_count": 537,
   "source": [
    "M"
   ],
   "outputs": [
    {
     "output_type": "execute_result",
     "data": {
      "text/latex": [
       "$\\displaystyle \\left[\\begin{matrix}0 & t δ_{x} + \\frac{u_{1} δ_{u2}}{2} + \\frac{u_{2} δ_{u1}}{2} + \\frac{w_{1} δ_{w2}}{2} + \\frac{w_{2} δ_{w1}}{2} + x δ_{t} & t δ_{y} + \\frac{u_{1} δ_{w2}}{2} - \\frac{u_{2} δ_{w1}}{2} - \\frac{w_{1} δ_{u2}}{2} + \\frac{w_{2} δ_{u1}}{2} + y δ_{t} & t δ_{z} + \\frac{u_{1} δ_{u1}}{2} - \\frac{u_{2} δ_{u2}}{2} + \\frac{w_{1} δ_{w1}}{2} - \\frac{w_{2} δ_{w2}}{2} + z δ_{t}\\\\- t δ_{x} - \\frac{u_{1} δ_{u2}}{2} - \\frac{u_{2} δ_{u1}}{2} - \\frac{w_{1} δ_{w2}}{2} - \\frac{w_{2} δ_{w1}}{2} - x δ_{t} & 0 & \\frac{u_{1} δ_{w1}}{2} - \\frac{u_{2} δ_{w2}}{2} - \\frac{w_{1} δ_{u1}}{2} + \\frac{w_{2} δ_{u2}}{2} - x δ_{y} + y δ_{x} & \\frac{u_{1} δ_{u2}}{2} - \\frac{u_{2} δ_{u1}}{2} + \\frac{w_{1} δ_{w2}}{2} - \\frac{w_{2} δ_{w1}}{2} - x δ_{z} + z δ_{x}\\\\- t δ_{y} - \\frac{u_{1} δ_{w2}}{2} + \\frac{u_{2} δ_{w1}}{2} + \\frac{w_{1} δ_{u2}}{2} - \\frac{w_{2} δ_{u1}}{2} - y δ_{t} & - \\frac{u_{1} δ_{w1}}{2} + \\frac{u_{2} δ_{w2}}{2} + \\frac{w_{1} δ_{u1}}{2} - \\frac{w_{2} δ_{u2}}{2} + x δ_{y} - y δ_{x} & 0 & \\frac{u_{1} δ_{w2}}{2} + \\frac{u_{2} δ_{w1}}{2} - \\frac{w_{1} δ_{u2}}{2} - \\frac{w_{2} δ_{u1}}{2} - y δ_{z} + z δ_{y}\\\\- t δ_{z} - \\frac{u_{1} δ_{u1}}{2} + \\frac{u_{2} δ_{u2}}{2} - \\frac{w_{1} δ_{w1}}{2} + \\frac{w_{2} δ_{w2}}{2} - z δ_{t} & - \\frac{u_{1} δ_{u2}}{2} + \\frac{u_{2} δ_{u1}}{2} - \\frac{w_{1} δ_{w2}}{2} + \\frac{w_{2} δ_{w1}}{2} + x δ_{z} - z δ_{x} & - \\frac{u_{1} δ_{w2}}{2} - \\frac{u_{2} δ_{w1}}{2} + \\frac{w_{1} δ_{u2}}{2} + \\frac{w_{2} δ_{u1}}{2} + y δ_{z} - z δ_{y} & 0\\end{matrix}\\right]$"
      ],
      "text/plain": [
       "Matrix([\n",
       "[                                                             0,  t*δ_x + u1*δ_u2/2 + u2*δ_u1/2 + w1*δ_w2/2 + w2*δ_w1/2 + x*δ_t,  t*δ_y + u1*δ_w2/2 - u2*δ_w1/2 - w1*δ_u2/2 + w2*δ_u1/2 + y*δ_t, t*δ_z + u1*δ_u1/2 - u2*δ_u2/2 + w1*δ_w1/2 - w2*δ_w2/2 + z*δ_t],\n",
       "[-t*δ_x - u1*δ_u2/2 - u2*δ_u1/2 - w1*δ_w2/2 - w2*δ_w1/2 - x*δ_t,                                                              0,  u1*δ_w1/2 - u2*δ_w2/2 - w1*δ_u1/2 + w2*δ_u2/2 - x*δ_y + y*δ_x, u1*δ_u2/2 - u2*δ_u1/2 + w1*δ_w2/2 - w2*δ_w1/2 - x*δ_z + z*δ_x],\n",
       "[-t*δ_y - u1*δ_w2/2 + u2*δ_w1/2 + w1*δ_u2/2 - w2*δ_u1/2 - y*δ_t, -u1*δ_w1/2 + u2*δ_w2/2 + w1*δ_u1/2 - w2*δ_u2/2 + x*δ_y - y*δ_x,                                                              0, u1*δ_w2/2 + u2*δ_w1/2 - w1*δ_u2/2 - w2*δ_u1/2 - y*δ_z + z*δ_y],\n",
       "[-t*δ_z - u1*δ_u1/2 + u2*δ_u2/2 - w1*δ_w1/2 + w2*δ_w2/2 - z*δ_t, -u1*δ_u2/2 + u2*δ_u1/2 - w1*δ_w2/2 + w2*δ_w1/2 + x*δ_z - z*δ_x, -u1*δ_w2/2 - u2*δ_w1/2 + w1*δ_u2/2 + w2*δ_u1/2 + y*δ_z - z*δ_y,                                                             0]])"
      ]
     },
     "metadata": {},
     "execution_count": 537
    }
   ],
   "metadata": {}
  },
  {
   "cell_type": "code",
   "execution_count": 468,
   "source": [
    "sp.Matrix(l9[2][3]).reshape(4, 4)"
   ],
   "outputs": [
    {
     "output_type": "execute_result",
     "data": {
      "text/latex": [
       "$\\displaystyle \\left[\\begin{matrix}0 & 0 & t δ_{z} + \\frac{u_{1} δ_{u1}}{2} - \\frac{u_{2} δ_{u2}}{2} + \\frac{w_{1} δ_{w1}}{2} - \\frac{w_{2} δ_{w2}}{2} + z δ_{t} & - t δ_{y} - \\frac{u_{1} δ_{w2}}{2} + \\frac{u_{2} δ_{w1}}{2} + \\frac{w_{1} δ_{u2}}{2} - \\frac{w_{2} δ_{u1}}{2} - y δ_{t}\\\\0 & 0 & \\frac{u_{1} δ_{u2}}{2} - \\frac{u_{2} δ_{u1}}{2} + \\frac{w_{1} δ_{w2}}{2} - \\frac{w_{2} δ_{w1}}{2} - x δ_{z} + z δ_{x} & - \\frac{u_{1} δ_{w1}}{2} + \\frac{u_{2} δ_{w2}}{2} + \\frac{w_{1} δ_{u1}}{2} - \\frac{w_{2} δ_{u2}}{2} + x δ_{y} - y δ_{x}\\\\- t δ_{z} - \\frac{u_{1} δ_{u1}}{2} + \\frac{u_{2} δ_{u2}}{2} - \\frac{w_{1} δ_{w1}}{2} + \\frac{w_{2} δ_{w2}}{2} - z δ_{t} & - \\frac{u_{1} δ_{u2}}{2} + \\frac{u_{2} δ_{u1}}{2} - \\frac{w_{1} δ_{w2}}{2} + \\frac{w_{2} δ_{w1}}{2} + x δ_{z} - z δ_{x} & 0 & 0\\\\t δ_{y} + \\frac{u_{1} δ_{w2}}{2} - \\frac{u_{2} δ_{w1}}{2} - \\frac{w_{1} δ_{u2}}{2} + \\frac{w_{2} δ_{u1}}{2} + y δ_{t} & \\frac{u_{1} δ_{w1}}{2} - \\frac{u_{2} δ_{w2}}{2} - \\frac{w_{1} δ_{u1}}{2} + \\frac{w_{2} δ_{u2}}{2} - x δ_{y} + y δ_{x} & 0 & 0\\end{matrix}\\right]$"
      ],
      "text/plain": [
       "Matrix([\n",
       "[                                                             0,                                                              0, t*δ_z + u1*δ_u1/2 - u2*δ_u2/2 + w1*δ_w1/2 - w2*δ_w2/2 + z*δ_t, -t*δ_y - u1*δ_w2/2 + u2*δ_w1/2 + w1*δ_u2/2 - w2*δ_u1/2 - y*δ_t],\n",
       "[                                                             0,                                                              0, u1*δ_u2/2 - u2*δ_u1/2 + w1*δ_w2/2 - w2*δ_w1/2 - x*δ_z + z*δ_x, -u1*δ_w1/2 + u2*δ_w2/2 + w1*δ_u1/2 - w2*δ_u2/2 + x*δ_y - y*δ_x],\n",
       "[-t*δ_z - u1*δ_u1/2 + u2*δ_u2/2 - w1*δ_w1/2 + w2*δ_w2/2 - z*δ_t, -u1*δ_u2/2 + u2*δ_u1/2 - w1*δ_w2/2 + w2*δ_w1/2 + x*δ_z - z*δ_x,                                                             0,                                                              0],\n",
       "[ t*δ_y + u1*δ_w2/2 - u2*δ_w1/2 - w1*δ_u2/2 + w2*δ_u1/2 + y*δ_t,  u1*δ_w1/2 - u2*δ_w2/2 - w1*δ_u1/2 + w2*δ_u2/2 - x*δ_y + y*δ_x,                                                             0,                                                              0]])"
      ]
     },
     "metadata": {},
     "execution_count": 468
    }
   ],
   "metadata": {}
  },
  {
   "cell_type": "code",
   "execution_count": 552,
   "source": [
    "for i in range(0, 4):\n",
    "    for j in range(0, 4):\n",
    "        if sp.Matrix(l9[2][3]).reshape(4, 4)[0,2] == M[i, j] :\n",
    "            print(\"plus variant\", i, j)\n"
   ],
   "outputs": [
    {
     "output_type": "stream",
     "name": "stdout",
     "text": [
      "plus variant 0 3\n"
     ]
    }
   ],
   "metadata": {}
  },
  {
   "cell_type": "code",
   "execution_count": 469,
   "source": [
    "v0 = M[2, 3]\n",
    "v1 = M[2, 0]\n",
    "sp.expand(lie_alg_t(v0, v1, der, dic_der) - lie_alg_t(v1, v0, der, dic_der))"
   ],
   "outputs": [
    {
     "output_type": "execute_result",
     "data": {
      "text/latex": [
       "$\\displaystyle - t δ_{z} - \\frac{u_{1} δ_{u1}}{2} + \\frac{u_{2} δ_{u2}}{2} - \\frac{w_{1} δ_{w1}}{2} + \\frac{w_{2} δ_{w2}}{2} - z δ_{t}$"
      ],
      "text/plain": [
       "-t*δ_z - u1*δ_u1/2 + u2*δ_u2/2 - w1*δ_w1/2 + w2*δ_w2/2 - z*δ_t"
      ]
     },
     "metadata": {},
     "execution_count": 469
    }
   ],
   "metadata": {}
  },
  {
   "cell_type": "code",
   "execution_count": 470,
   "source": [
    "# [M, U_i]\n",
    "l8 = []\n",
    "#v0 = U1\n",
    "v0 = U2\n",
    "for i in range(0, 4):\n",
    "    for j in range(0,4):\n",
    "        v1 = M[i, j]\n",
    "        temp = -sp.expand(lie_alg_t(v0, v1, der, dic_der) - lie_alg_t(v1, v0, der, dic_der))\n",
    "        l8.append(temp.collect(der))\n",
    "sp.Matrix(l8).reshape(4, 4)"
   ],
   "outputs": [
    {
     "output_type": "execute_result",
     "data": {
      "text/latex": [
       "$\\displaystyle \\left[\\begin{matrix}0 & 0 & 0 & 0\\\\0 & 0 & 0 & 0\\\\0 & 0 & 0 & 0\\\\0 & 0 & 0 & 0\\end{matrix}\\right]$"
      ],
      "text/plain": [
       "Matrix([\n",
       "[0, 0, 0, 0],\n",
       "[0, 0, 0, 0],\n",
       "[0, 0, 0, 0],\n",
       "[0, 0, 0, 0]])"
      ]
     },
     "metadata": {},
     "execution_count": 470
    }
   ],
   "metadata": {}
  },
  {
   "cell_type": "code",
   "execution_count": 574,
   "source": [
    "#[M, K]\n",
    "l7 = []\n",
    "for i in range(0,4):\n",
    "    v0 = K[i]\n",
    "    l7.append([])\n",
    "    for j in range(0,4):\n",
    "        for k in range(0, 4):\n",
    "            v1 = M[j, k]\n",
    "            temp = -sp.expand(lie_alg_t(v0, v1, der, dic_der) - lie_alg_t(v1, v0, der, dic_der))\n",
    "            l7[i].append(temp.collect(der))"
   ],
   "outputs": [],
   "metadata": {}
  },
  {
   "cell_type": "code",
   "execution_count": 575,
   "source": [
    "#Elements of the main diagonal are 0 in all cases\n",
    "sp.Matrix(l7[0]).reshape(4, 4)"
   ],
   "outputs": [
    {
     "output_type": "execute_result",
     "data": {
      "text/latex": [
       "$\\displaystyle \\left[\\begin{matrix}0 & - 2 t x δ_{t} - 2 x y δ_{y} - 2 x z δ_{z} + δ_{u1} \\left(- t u_{2} + 3 u_{1} x - u_{2} z - w_{1} y\\right) + δ_{u2} \\left(- t u_{1} + u_{1} z + 3 u_{2} x + w_{2} y\\right) + δ_{w1} \\left(- t w_{2} + u_{1} y + 3 w_{1} x - w_{2} z\\right) + δ_{w2} \\left(- t w_{1} - u_{2} y + w_{1} z + 3 w_{2} x\\right) + δ_{x} \\left(- t^{2} - x^{2} + y^{2} + z^{2}\\right) & - 2 t y δ_{t} - 2 x y δ_{x} - 2 y z δ_{z} + δ_{u1} \\left(- t w_{2} + 3 u_{1} y + w_{1} x - w_{2} z\\right) + δ_{u2} \\left(t w_{1} + 3 u_{2} y - w_{1} z - w_{2} x\\right) + δ_{w1} \\left(t u_{2} - u_{1} x + u_{2} z + 3 w_{1} y\\right) + δ_{w2} \\left(- t u_{1} + u_{1} z + u_{2} x + 3 w_{2} y\\right) + δ_{y} \\left(- t^{2} + x^{2} - y^{2} + z^{2}\\right) & - 2 t z δ_{t} - 2 x z δ_{x} - 2 y z δ_{y} + δ_{u1} \\left(- t u_{1} + 3 u_{1} z + u_{2} x + w_{2} y\\right) + δ_{u2} \\left(t u_{2} - u_{1} x + 3 u_{2} z + w_{1} y\\right) + δ_{w1} \\left(- t w_{1} - u_{2} y + 3 w_{1} z + w_{2} x\\right) + δ_{w2} \\left(t w_{2} - u_{1} y - w_{1} x + 3 w_{2} z\\right) + δ_{z} \\left(- t^{2} + x^{2} + y^{2} - z^{2}\\right)\\\\2 t x δ_{t} + 2 x y δ_{y} + 2 x z δ_{z} + δ_{u1} \\left(t u_{2} - 3 u_{1} x + u_{2} z + w_{1} y\\right) + δ_{u2} \\left(t u_{1} - u_{1} z - 3 u_{2} x - w_{2} y\\right) + δ_{w1} \\left(t w_{2} - u_{1} y - 3 w_{1} x + w_{2} z\\right) + δ_{w2} \\left(t w_{1} + u_{2} y - w_{1} z - 3 w_{2} x\\right) + δ_{x} \\left(t^{2} + x^{2} - y^{2} - z^{2}\\right) & 0 & 0 & 0\\\\2 t y δ_{t} + 2 x y δ_{x} + 2 y z δ_{z} + δ_{u1} \\left(t w_{2} - 3 u_{1} y - w_{1} x + w_{2} z\\right) + δ_{u2} \\left(- t w_{1} - 3 u_{2} y + w_{1} z + w_{2} x\\right) + δ_{w1} \\left(- t u_{2} + u_{1} x - u_{2} z - 3 w_{1} y\\right) + δ_{w2} \\left(t u_{1} - u_{1} z - u_{2} x - 3 w_{2} y\\right) + δ_{y} \\left(t^{2} - x^{2} + y^{2} - z^{2}\\right) & 0 & 0 & 0\\\\2 t z δ_{t} + 2 x z δ_{x} + 2 y z δ_{y} + δ_{u1} \\left(t u_{1} - 3 u_{1} z - u_{2} x - w_{2} y\\right) + δ_{u2} \\left(- t u_{2} + u_{1} x - 3 u_{2} z - w_{1} y\\right) + δ_{w1} \\left(t w_{1} + u_{2} y - 3 w_{1} z - w_{2} x\\right) + δ_{w2} \\left(- t w_{2} + u_{1} y + w_{1} x - 3 w_{2} z\\right) + δ_{z} \\left(t^{2} - x^{2} - y^{2} + z^{2}\\right) & 0 & 0 & 0\\end{matrix}\\right]$"
      ],
      "text/plain": [
       "Matrix([\n",
       "[                                                                                                                                                                                                                        0, -2*t*x*δ_t - 2*x*y*δ_y - 2*x*z*δ_z + δ_u1*(-t*u2 + 3*u1*x - u2*z - w1*y) + δ_u2*(-t*u1 + u1*z + 3*u2*x + w2*y) + δ_w1*(-t*w2 + u1*y + 3*w1*x - w2*z) + δ_w2*(-t*w1 - u2*y + w1*z + 3*w2*x) + δ_x*(-t**2 - x**2 + y**2 + z**2), -2*t*y*δ_t - 2*x*y*δ_x - 2*y*z*δ_z + δ_u1*(-t*w2 + 3*u1*y + w1*x - w2*z) + δ_u2*(t*w1 + 3*u2*y - w1*z - w2*x) + δ_w1*(t*u2 - u1*x + u2*z + 3*w1*y) + δ_w2*(-t*u1 + u1*z + u2*x + 3*w2*y) + δ_y*(-t**2 + x**2 - y**2 + z**2), -2*t*z*δ_t - 2*x*z*δ_x - 2*y*z*δ_y + δ_u1*(-t*u1 + 3*u1*z + u2*x + w2*y) + δ_u2*(t*u2 - u1*x + 3*u2*z + w1*y) + δ_w1*(-t*w1 - u2*y + 3*w1*z + w2*x) + δ_w2*(t*w2 - u1*y - w1*x + 3*w2*z) + δ_z*(-t**2 + x**2 + y**2 - z**2)],\n",
       "[  2*t*x*δ_t + 2*x*y*δ_y + 2*x*z*δ_z + δ_u1*(t*u2 - 3*u1*x + u2*z + w1*y) + δ_u2*(t*u1 - u1*z - 3*u2*x - w2*y) + δ_w1*(t*w2 - u1*y - 3*w1*x + w2*z) + δ_w2*(t*w1 + u2*y - w1*z - 3*w2*x) + δ_x*(t**2 + x**2 - y**2 - z**2),                                                                                                                                                                                                                             0,                                                                                                                                                                                                                           0,                                                                                                                                                                                                                           0],\n",
       "[2*t*y*δ_t + 2*x*y*δ_x + 2*y*z*δ_z + δ_u1*(t*w2 - 3*u1*y - w1*x + w2*z) + δ_u2*(-t*w1 - 3*u2*y + w1*z + w2*x) + δ_w1*(-t*u2 + u1*x - u2*z - 3*w1*y) + δ_w2*(t*u1 - u1*z - u2*x - 3*w2*y) + δ_y*(t**2 - x**2 + y**2 - z**2),                                                                                                                                                                                                                             0,                                                                                                                                                                                                                           0,                                                                                                                                                                                                                           0],\n",
       "[2*t*z*δ_t + 2*x*z*δ_x + 2*y*z*δ_y + δ_u1*(t*u1 - 3*u1*z - u2*x - w2*y) + δ_u2*(-t*u2 + u1*x - 3*u2*z - w1*y) + δ_w1*(t*w1 + u2*y - 3*w1*z - w2*x) + δ_w2*(-t*w2 + u1*y + w1*x - 3*w2*z) + δ_z*(t**2 - x**2 - y**2 + z**2),                                                                                                                                                                                                                             0,                                                                                                                                                                                                                           0,                                                                                                                                                                                                                           0]])"
      ]
     },
     "metadata": {},
     "execution_count": 575
    }
   ],
   "metadata": {}
  },
  {
   "cell_type": "code",
   "execution_count": 609,
   "source": [
    "sp.Matrix(l7[1]).reshape(4, 4)"
   ],
   "outputs": [
    {
     "output_type": "execute_result",
     "data": {
      "text/latex": [
       "$\\displaystyle \\left[\\begin{matrix}0 & 2 t x δ_{x} + 2 t y δ_{y} + 2 t z δ_{z} + δ_{t} \\left(t^{2} + x^{2} + y^{2} + z^{2}\\right) + δ_{u1} \\left(- 3 t u_{1} + u_{1} z + u_{2} x + w_{2} y\\right) + δ_{u2} \\left(- 3 t u_{2} + u_{1} x - u_{2} z - w_{1} y\\right) + δ_{w1} \\left(- 3 t w_{1} - u_{2} y + w_{1} z + w_{2} x\\right) + δ_{w2} \\left(- 3 t w_{2} + u_{1} y + w_{1} x - w_{2} z\\right) & 0 & 0\\\\- 2 t x δ_{x} - 2 t y δ_{y} - 2 t z δ_{z} + δ_{t} \\left(- t^{2} - x^{2} - y^{2} - z^{2}\\right) + δ_{u1} \\left(3 t u_{1} - u_{1} z - u_{2} x - w_{2} y\\right) + δ_{u2} \\left(3 t u_{2} - u_{1} x + u_{2} z + w_{1} y\\right) + δ_{w1} \\left(3 t w_{1} + u_{2} y - w_{1} z - w_{2} x\\right) + δ_{w2} \\left(3 t w_{2} - u_{1} y - w_{1} x + w_{2} z\\right) & 0 & 2 t y δ_{t} + 2 x y δ_{x} + 2 y z δ_{z} + δ_{u1} \\left(t w_{2} - 3 u_{1} y - w_{1} x + w_{2} z\\right) + δ_{u2} \\left(- t w_{1} - 3 u_{2} y + w_{1} z + w_{2} x\\right) + δ_{w1} \\left(- t u_{2} + u_{1} x - u_{2} z - 3 w_{1} y\\right) + δ_{w2} \\left(t u_{1} - u_{1} z - u_{2} x - 3 w_{2} y\\right) + δ_{y} \\left(t^{2} - x^{2} + y^{2} - z^{2}\\right) & 2 t z δ_{t} + 2 x z δ_{x} + 2 y z δ_{y} + δ_{u1} \\left(t u_{1} - 3 u_{1} z - u_{2} x - w_{2} y\\right) + δ_{u2} \\left(- t u_{2} + u_{1} x - 3 u_{2} z - w_{1} y\\right) + δ_{w1} \\left(t w_{1} + u_{2} y - 3 w_{1} z - w_{2} x\\right) + δ_{w2} \\left(- t w_{2} + u_{1} y + w_{1} x - 3 w_{2} z\\right) + δ_{z} \\left(t^{2} - x^{2} - y^{2} + z^{2}\\right)\\\\0 & - 2 t y δ_{t} - 2 x y δ_{x} - 2 y z δ_{z} + δ_{u1} \\left(- t w_{2} + 3 u_{1} y + w_{1} x - w_{2} z\\right) + δ_{u2} \\left(t w_{1} + 3 u_{2} y - w_{1} z - w_{2} x\\right) + δ_{w1} \\left(t u_{2} - u_{1} x + u_{2} z + 3 w_{1} y\\right) + δ_{w2} \\left(- t u_{1} + u_{1} z + u_{2} x + 3 w_{2} y\\right) + δ_{y} \\left(- t^{2} + x^{2} - y^{2} + z^{2}\\right) & 0 & 0\\\\0 & - 2 t z δ_{t} - 2 x z δ_{x} - 2 y z δ_{y} + δ_{u1} \\left(- t u_{1} + 3 u_{1} z + u_{2} x + w_{2} y\\right) + δ_{u2} \\left(t u_{2} - u_{1} x + 3 u_{2} z + w_{1} y\\right) + δ_{w1} \\left(- t w_{1} - u_{2} y + 3 w_{1} z + w_{2} x\\right) + δ_{w2} \\left(t w_{2} - u_{1} y - w_{1} x + 3 w_{2} z\\right) + δ_{z} \\left(- t^{2} + x^{2} + y^{2} - z^{2}\\right) & 0 & 0\\end{matrix}\\right]$"
      ],
      "text/plain": [
       "Matrix([\n",
       "[                                                                                                                                                                                                                        0, 2*t*x*δ_x + 2*t*y*δ_y + 2*t*z*δ_z + δ_t*(t**2 + x**2 + y**2 + z**2) + δ_u1*(-3*t*u1 + u1*z + u2*x + w2*y) + δ_u2*(-3*t*u2 + u1*x - u2*z - w1*y) + δ_w1*(-3*t*w1 - u2*y + w1*z + w2*x) + δ_w2*(-3*t*w2 + u1*y + w1*x - w2*z),                                                                                                                                                                                                                         0,                                                                                                                                                                                                                         0],\n",
       "[-2*t*x*δ_x - 2*t*y*δ_y - 2*t*z*δ_z + δ_t*(-t**2 - x**2 - y**2 - z**2) + δ_u1*(3*t*u1 - u1*z - u2*x - w2*y) + δ_u2*(3*t*u2 - u1*x + u2*z + w1*y) + δ_w1*(3*t*w1 + u2*y - w1*z - w2*x) + δ_w2*(3*t*w2 - u1*y - w1*x + w2*z),                                                                                                                                                                                                                           0, 2*t*y*δ_t + 2*x*y*δ_x + 2*y*z*δ_z + δ_u1*(t*w2 - 3*u1*y - w1*x + w2*z) + δ_u2*(-t*w1 - 3*u2*y + w1*z + w2*x) + δ_w1*(-t*u2 + u1*x - u2*z - 3*w1*y) + δ_w2*(t*u1 - u1*z - u2*x - 3*w2*y) + δ_y*(t**2 - x**2 + y**2 - z**2), 2*t*z*δ_t + 2*x*z*δ_x + 2*y*z*δ_y + δ_u1*(t*u1 - 3*u1*z - u2*x - w2*y) + δ_u2*(-t*u2 + u1*x - 3*u2*z - w1*y) + δ_w1*(t*w1 + u2*y - 3*w1*z - w2*x) + δ_w2*(-t*w2 + u1*y + w1*x - 3*w2*z) + δ_z*(t**2 - x**2 - y**2 + z**2)],\n",
       "[                                                                                                                                                                                                                        0, -2*t*y*δ_t - 2*x*y*δ_x - 2*y*z*δ_z + δ_u1*(-t*w2 + 3*u1*y + w1*x - w2*z) + δ_u2*(t*w1 + 3*u2*y - w1*z - w2*x) + δ_w1*(t*u2 - u1*x + u2*z + 3*w1*y) + δ_w2*(-t*u1 + u1*z + u2*x + 3*w2*y) + δ_y*(-t**2 + x**2 - y**2 + z**2),                                                                                                                                                                                                                         0,                                                                                                                                                                                                                         0],\n",
       "[                                                                                                                                                                                                                        0, -2*t*z*δ_t - 2*x*z*δ_x - 2*y*z*δ_y + δ_u1*(-t*u1 + 3*u1*z + u2*x + w2*y) + δ_u2*(t*u2 - u1*x + 3*u2*z + w1*y) + δ_w1*(-t*w1 - u2*y + 3*w1*z + w2*x) + δ_w2*(t*w2 - u1*y - w1*x + 3*w2*z) + δ_z*(-t**2 + x**2 + y**2 - z**2),                                                                                                                                                                                                                         0,                                                                                                                                                                                                                         0]])"
      ]
     },
     "metadata": {},
     "execution_count": 609
    }
   ],
   "metadata": {}
  },
  {
   "cell_type": "code",
   "execution_count": 577,
   "source": [
    "sp.Matrix(l7[2]).reshape(4, 4)"
   ],
   "outputs": [
    {
     "output_type": "execute_result",
     "data": {
      "text/latex": [
       "$\\displaystyle \\left[\\begin{matrix}0 & 0 & 2 t x δ_{x} + 2 t y δ_{y} + 2 t z δ_{z} + δ_{t} \\left(t^{2} + x^{2} + y^{2} + z^{2}\\right) + δ_{u1} \\left(- 3 t u_{1} + u_{1} z + u_{2} x + w_{2} y\\right) + δ_{u2} \\left(- 3 t u_{2} + u_{1} x - u_{2} z - w_{1} y\\right) + δ_{w1} \\left(- 3 t w_{1} - u_{2} y + w_{1} z + w_{2} x\\right) + δ_{w2} \\left(- 3 t w_{2} + u_{1} y + w_{1} x - w_{2} z\\right) & 0\\\\0 & 0 & - 2 t x δ_{t} - 2 x y δ_{y} - 2 x z δ_{z} + δ_{u1} \\left(- t u_{2} + 3 u_{1} x - u_{2} z - w_{1} y\\right) + δ_{u2} \\left(- t u_{1} + u_{1} z + 3 u_{2} x + w_{2} y\\right) + δ_{w1} \\left(- t w_{2} + u_{1} y + 3 w_{1} x - w_{2} z\\right) + δ_{w2} \\left(- t w_{1} - u_{2} y + w_{1} z + 3 w_{2} x\\right) + δ_{x} \\left(- t^{2} - x^{2} + y^{2} + z^{2}\\right) & 0\\\\- 2 t x δ_{x} - 2 t y δ_{y} - 2 t z δ_{z} + δ_{t} \\left(- t^{2} - x^{2} - y^{2} - z^{2}\\right) + δ_{u1} \\left(3 t u_{1} - u_{1} z - u_{2} x - w_{2} y\\right) + δ_{u2} \\left(3 t u_{2} - u_{1} x + u_{2} z + w_{1} y\\right) + δ_{w1} \\left(3 t w_{1} + u_{2} y - w_{1} z - w_{2} x\\right) + δ_{w2} \\left(3 t w_{2} - u_{1} y - w_{1} x + w_{2} z\\right) & 2 t x δ_{t} + 2 x y δ_{y} + 2 x z δ_{z} + δ_{u1} \\left(t u_{2} - 3 u_{1} x + u_{2} z + w_{1} y\\right) + δ_{u2} \\left(t u_{1} - u_{1} z - 3 u_{2} x - w_{2} y\\right) + δ_{w1} \\left(t w_{2} - u_{1} y - 3 w_{1} x + w_{2} z\\right) + δ_{w2} \\left(t w_{1} + u_{2} y - w_{1} z - 3 w_{2} x\\right) + δ_{x} \\left(t^{2} + x^{2} - y^{2} - z^{2}\\right) & 0 & 2 t z δ_{t} + 2 x z δ_{x} + 2 y z δ_{y} + δ_{u1} \\left(t u_{1} - 3 u_{1} z - u_{2} x - w_{2} y\\right) + δ_{u2} \\left(- t u_{2} + u_{1} x - 3 u_{2} z - w_{1} y\\right) + δ_{w1} \\left(t w_{1} + u_{2} y - 3 w_{1} z - w_{2} x\\right) + δ_{w2} \\left(- t w_{2} + u_{1} y + w_{1} x - 3 w_{2} z\\right) + δ_{z} \\left(t^{2} - x^{2} - y^{2} + z^{2}\\right)\\\\0 & 0 & - 2 t z δ_{t} - 2 x z δ_{x} - 2 y z δ_{y} + δ_{u1} \\left(- t u_{1} + 3 u_{1} z + u_{2} x + w_{2} y\\right) + δ_{u2} \\left(t u_{2} - u_{1} x + 3 u_{2} z + w_{1} y\\right) + δ_{w1} \\left(- t w_{1} - u_{2} y + 3 w_{1} z + w_{2} x\\right) + δ_{w2} \\left(t w_{2} - u_{1} y - w_{1} x + 3 w_{2} z\\right) + δ_{z} \\left(- t^{2} + x^{2} + y^{2} - z^{2}\\right) & 0\\end{matrix}\\right]$"
      ],
      "text/plain": [
       "Matrix([\n",
       "[                                                                                                                                                                                                                        0,                                                                                                                                                                                                                       0,   2*t*x*δ_x + 2*t*y*δ_y + 2*t*z*δ_z + δ_t*(t**2 + x**2 + y**2 + z**2) + δ_u1*(-3*t*u1 + u1*z + u2*x + w2*y) + δ_u2*(-3*t*u2 + u1*x - u2*z - w1*y) + δ_w1*(-3*t*w1 - u2*y + w1*z + w2*x) + δ_w2*(-3*t*w2 + u1*y + w1*x - w2*z),                                                                                                                                                                                                                         0],\n",
       "[                                                                                                                                                                                                                        0,                                                                                                                                                                                                                       0, -2*t*x*δ_t - 2*x*y*δ_y - 2*x*z*δ_z + δ_u1*(-t*u2 + 3*u1*x - u2*z - w1*y) + δ_u2*(-t*u1 + u1*z + 3*u2*x + w2*y) + δ_w1*(-t*w2 + u1*y + 3*w1*x - w2*z) + δ_w2*(-t*w1 - u2*y + w1*z + 3*w2*x) + δ_x*(-t**2 - x**2 + y**2 + z**2),                                                                                                                                                                                                                         0],\n",
       "[-2*t*x*δ_x - 2*t*y*δ_y - 2*t*z*δ_z + δ_t*(-t**2 - x**2 - y**2 - z**2) + δ_u1*(3*t*u1 - u1*z - u2*x - w2*y) + δ_u2*(3*t*u2 - u1*x + u2*z + w1*y) + δ_w1*(3*t*w1 + u2*y - w1*z - w2*x) + δ_w2*(3*t*w2 - u1*y - w1*x + w2*z), 2*t*x*δ_t + 2*x*y*δ_y + 2*x*z*δ_z + δ_u1*(t*u2 - 3*u1*x + u2*z + w1*y) + δ_u2*(t*u1 - u1*z - 3*u2*x - w2*y) + δ_w1*(t*w2 - u1*y - 3*w1*x + w2*z) + δ_w2*(t*w1 + u2*y - w1*z - 3*w2*x) + δ_x*(t**2 + x**2 - y**2 - z**2),                                                                                                                                                                                                                             0, 2*t*z*δ_t + 2*x*z*δ_x + 2*y*z*δ_y + δ_u1*(t*u1 - 3*u1*z - u2*x - w2*y) + δ_u2*(-t*u2 + u1*x - 3*u2*z - w1*y) + δ_w1*(t*w1 + u2*y - 3*w1*z - w2*x) + δ_w2*(-t*w2 + u1*y + w1*x - 3*w2*z) + δ_z*(t**2 - x**2 - y**2 + z**2)],\n",
       "[                                                                                                                                                                                                                        0,                                                                                                                                                                                                                       0,   -2*t*z*δ_t - 2*x*z*δ_x - 2*y*z*δ_y + δ_u1*(-t*u1 + 3*u1*z + u2*x + w2*y) + δ_u2*(t*u2 - u1*x + 3*u2*z + w1*y) + δ_w1*(-t*w1 - u2*y + 3*w1*z + w2*x) + δ_w2*(t*w2 - u1*y - w1*x + 3*w2*z) + δ_z*(-t**2 + x**2 + y**2 - z**2),                                                                                                                                                                                                                         0]])"
      ]
     },
     "metadata": {},
     "execution_count": 577
    }
   ],
   "metadata": {}
  },
  {
   "cell_type": "code",
   "execution_count": 578,
   "source": [
    "sp.Matrix(l7[3]).reshape(4, 4)"
   ],
   "outputs": [
    {
     "output_type": "execute_result",
     "data": {
      "text/latex": [
       "$\\displaystyle \\left[\\begin{matrix}0 & 0 & 0 & 2 t x δ_{x} + 2 t y δ_{y} + 2 t z δ_{z} + δ_{t} \\left(t^{2} + x^{2} + y^{2} + z^{2}\\right) + δ_{u1} \\left(- 3 t u_{1} + u_{1} z + u_{2} x + w_{2} y\\right) + δ_{u2} \\left(- 3 t u_{2} + u_{1} x - u_{2} z - w_{1} y\\right) + δ_{w1} \\left(- 3 t w_{1} - u_{2} y + w_{1} z + w_{2} x\\right) + δ_{w2} \\left(- 3 t w_{2} + u_{1} y + w_{1} x - w_{2} z\\right)\\\\0 & 0 & 0 & - 2 t x δ_{t} - 2 x y δ_{y} - 2 x z δ_{z} + δ_{u1} \\left(- t u_{2} + 3 u_{1} x - u_{2} z - w_{1} y\\right) + δ_{u2} \\left(- t u_{1} + u_{1} z + 3 u_{2} x + w_{2} y\\right) + δ_{w1} \\left(- t w_{2} + u_{1} y + 3 w_{1} x - w_{2} z\\right) + δ_{w2} \\left(- t w_{1} - u_{2} y + w_{1} z + 3 w_{2} x\\right) + δ_{x} \\left(- t^{2} - x^{2} + y^{2} + z^{2}\\right)\\\\0 & 0 & 0 & - 2 t y δ_{t} - 2 x y δ_{x} - 2 y z δ_{z} + δ_{u1} \\left(- t w_{2} + 3 u_{1} y + w_{1} x - w_{2} z\\right) + δ_{u2} \\left(t w_{1} + 3 u_{2} y - w_{1} z - w_{2} x\\right) + δ_{w1} \\left(t u_{2} - u_{1} x + u_{2} z + 3 w_{1} y\\right) + δ_{w2} \\left(- t u_{1} + u_{1} z + u_{2} x + 3 w_{2} y\\right) + δ_{y} \\left(- t^{2} + x^{2} - y^{2} + z^{2}\\right)\\\\- 2 t x δ_{x} - 2 t y δ_{y} - 2 t z δ_{z} + δ_{t} \\left(- t^{2} - x^{2} - y^{2} - z^{2}\\right) + δ_{u1} \\left(3 t u_{1} - u_{1} z - u_{2} x - w_{2} y\\right) + δ_{u2} \\left(3 t u_{2} - u_{1} x + u_{2} z + w_{1} y\\right) + δ_{w1} \\left(3 t w_{1} + u_{2} y - w_{1} z - w_{2} x\\right) + δ_{w2} \\left(3 t w_{2} - u_{1} y - w_{1} x + w_{2} z\\right) & 2 t x δ_{t} + 2 x y δ_{y} + 2 x z δ_{z} + δ_{u1} \\left(t u_{2} - 3 u_{1} x + u_{2} z + w_{1} y\\right) + δ_{u2} \\left(t u_{1} - u_{1} z - 3 u_{2} x - w_{2} y\\right) + δ_{w1} \\left(t w_{2} - u_{1} y - 3 w_{1} x + w_{2} z\\right) + δ_{w2} \\left(t w_{1} + u_{2} y - w_{1} z - 3 w_{2} x\\right) + δ_{x} \\left(t^{2} + x^{2} - y^{2} - z^{2}\\right) & 2 t y δ_{t} + 2 x y δ_{x} + 2 y z δ_{z} + δ_{u1} \\left(t w_{2} - 3 u_{1} y - w_{1} x + w_{2} z\\right) + δ_{u2} \\left(- t w_{1} - 3 u_{2} y + w_{1} z + w_{2} x\\right) + δ_{w1} \\left(- t u_{2} + u_{1} x - u_{2} z - 3 w_{1} y\\right) + δ_{w2} \\left(t u_{1} - u_{1} z - u_{2} x - 3 w_{2} y\\right) + δ_{y} \\left(t^{2} - x^{2} + y^{2} - z^{2}\\right) & 0\\end{matrix}\\right]$"
      ],
      "text/plain": [
       "Matrix([\n",
       "[                                                                                                                                                                                                                        0,                                                                                                                                                                                                                       0,                                                                                                                                                                                                                         0,   2*t*x*δ_x + 2*t*y*δ_y + 2*t*z*δ_z + δ_t*(t**2 + x**2 + y**2 + z**2) + δ_u1*(-3*t*u1 + u1*z + u2*x + w2*y) + δ_u2*(-3*t*u2 + u1*x - u2*z - w1*y) + δ_w1*(-3*t*w1 - u2*y + w1*z + w2*x) + δ_w2*(-3*t*w2 + u1*y + w1*x - w2*z)],\n",
       "[                                                                                                                                                                                                                        0,                                                                                                                                                                                                                       0,                                                                                                                                                                                                                         0, -2*t*x*δ_t - 2*x*y*δ_y - 2*x*z*δ_z + δ_u1*(-t*u2 + 3*u1*x - u2*z - w1*y) + δ_u2*(-t*u1 + u1*z + 3*u2*x + w2*y) + δ_w1*(-t*w2 + u1*y + 3*w1*x - w2*z) + δ_w2*(-t*w1 - u2*y + w1*z + 3*w2*x) + δ_x*(-t**2 - x**2 + y**2 + z**2)],\n",
       "[                                                                                                                                                                                                                        0,                                                                                                                                                                                                                       0,                                                                                                                                                                                                                         0,   -2*t*y*δ_t - 2*x*y*δ_x - 2*y*z*δ_z + δ_u1*(-t*w2 + 3*u1*y + w1*x - w2*z) + δ_u2*(t*w1 + 3*u2*y - w1*z - w2*x) + δ_w1*(t*u2 - u1*x + u2*z + 3*w1*y) + δ_w2*(-t*u1 + u1*z + u2*x + 3*w2*y) + δ_y*(-t**2 + x**2 - y**2 + z**2)],\n",
       "[-2*t*x*δ_x - 2*t*y*δ_y - 2*t*z*δ_z + δ_t*(-t**2 - x**2 - y**2 - z**2) + δ_u1*(3*t*u1 - u1*z - u2*x - w2*y) + δ_u2*(3*t*u2 - u1*x + u2*z + w1*y) + δ_w1*(3*t*w1 + u2*y - w1*z - w2*x) + δ_w2*(3*t*w2 - u1*y - w1*x + w2*z), 2*t*x*δ_t + 2*x*y*δ_y + 2*x*z*δ_z + δ_u1*(t*u2 - 3*u1*x + u2*z + w1*y) + δ_u2*(t*u1 - u1*z - 3*u2*x - w2*y) + δ_w1*(t*w2 - u1*y - 3*w1*x + w2*z) + δ_w2*(t*w1 + u2*y - w1*z - 3*w2*x) + δ_x*(t**2 + x**2 - y**2 - z**2), 2*t*y*δ_t + 2*x*y*δ_x + 2*y*z*δ_z + δ_u1*(t*w2 - 3*u1*y - w1*x + w2*z) + δ_u2*(-t*w1 - 3*u2*y + w1*z + w2*x) + δ_w1*(-t*u2 + u1*x - u2*z - 3*w1*y) + δ_w2*(t*u1 - u1*z - u2*x - 3*w2*y) + δ_y*(t**2 - x**2 + y**2 - z**2),                                                                                                                                                                                                                             0]])"
      ]
     },
     "metadata": {},
     "execution_count": 578
    }
   ],
   "metadata": {}
  },
  {
   "cell_type": "code",
   "execution_count": 476,
   "source": [
    "#[D, U_i]\n",
    "#l6\n",
    "sp.expand(lie_alg_t(D, U1, der, dic_der) - lie_alg_t(U1, D, der, dic_der))\n"
   ],
   "outputs": [
    {
     "output_type": "execute_result",
     "data": {
      "text/latex": [
       "$\\displaystyle 0$"
      ],
      "text/plain": [
       "0"
      ]
     },
     "metadata": {},
     "execution_count": 476
    }
   ],
   "metadata": {}
  },
  {
   "cell_type": "code",
   "execution_count": 477,
   "source": [
    "sp.expand(lie_alg_t(D, U2, der, dic_der) - lie_alg_t(U2, D, der, dic_der))"
   ],
   "outputs": [
    {
     "output_type": "execute_result",
     "data": {
      "text/latex": [
       "$\\displaystyle 0$"
      ],
      "text/plain": [
       "0"
      ]
     },
     "metadata": {},
     "execution_count": 477
    }
   ],
   "metadata": {}
  },
  {
   "cell_type": "code",
   "execution_count": 573,
   "source": [
    "#[D, K]\n",
    "l5 = []\n",
    "v0 = D\n",
    "for i in range(0,4):\n",
    "    v1 = K[i]\n",
    "    temp = (sp.expand(lie_alg_t(v0, v1, der, dic_der) - lie_alg_t(v1, v0, der, dic_der))).collect(der)\n",
    "    l5.append(temp.collect(der))\n",
    "sp.Matrix(l5)"
   ],
   "outputs": [
    {
     "output_type": "execute_result",
     "data": {
      "text/latex": [
       "$\\displaystyle \\left[\\begin{matrix}- 2 t x δ_{x} - 2 t y δ_{y} - 2 t z δ_{z} + δ_{t} \\left(- t^{2} - x^{2} - y^{2} - z^{2}\\right) + δ_{u1} \\left(3 t u_{1} - u_{1} z - u_{2} x - w_{2} y\\right) + δ_{u2} \\left(3 t u_{2} - u_{1} x + u_{2} z + w_{1} y\\right) + δ_{w1} \\left(3 t w_{1} + u_{2} y - w_{1} z - w_{2} x\\right) + δ_{w2} \\left(3 t w_{2} - u_{1} y - w_{1} x + w_{2} z\\right)\\\\2 t x δ_{t} + 2 x y δ_{y} + 2 x z δ_{z} + δ_{u1} \\left(t u_{2} - 3 u_{1} x + u_{2} z + w_{1} y\\right) + δ_{u2} \\left(t u_{1} - u_{1} z - 3 u_{2} x - w_{2} y\\right) + δ_{w1} \\left(t w_{2} - u_{1} y - 3 w_{1} x + w_{2} z\\right) + δ_{w2} \\left(t w_{1} + u_{2} y - w_{1} z - 3 w_{2} x\\right) + δ_{x} \\left(t^{2} + x^{2} - y^{2} - z^{2}\\right)\\\\2 t y δ_{t} + 2 x y δ_{x} + 2 y z δ_{z} + δ_{u1} \\left(t w_{2} - 3 u_{1} y - w_{1} x + w_{2} z\\right) + δ_{u2} \\left(- t w_{1} - 3 u_{2} y + w_{1} z + w_{2} x\\right) + δ_{w1} \\left(- t u_{2} + u_{1} x - u_{2} z - 3 w_{1} y\\right) + δ_{w2} \\left(t u_{1} - u_{1} z - u_{2} x - 3 w_{2} y\\right) + δ_{y} \\left(t^{2} - x^{2} + y^{2} - z^{2}\\right)\\\\2 t z δ_{t} + 2 x z δ_{x} + 2 y z δ_{y} + δ_{u1} \\left(t u_{1} - 3 u_{1} z - u_{2} x - w_{2} y\\right) + δ_{u2} \\left(- t u_{2} + u_{1} x - 3 u_{2} z - w_{1} y\\right) + δ_{w1} \\left(t w_{1} + u_{2} y - 3 w_{1} z - w_{2} x\\right) + δ_{w2} \\left(- t w_{2} + u_{1} y + w_{1} x - 3 w_{2} z\\right) + δ_{z} \\left(t^{2} - x^{2} - y^{2} + z^{2}\\right)\\end{matrix}\\right]$"
      ],
      "text/plain": [
       "Matrix([\n",
       "[-2*t*x*δ_x - 2*t*y*δ_y - 2*t*z*δ_z + δ_t*(-t**2 - x**2 - y**2 - z**2) + δ_u1*(3*t*u1 - u1*z - u2*x - w2*y) + δ_u2*(3*t*u2 - u1*x + u2*z + w1*y) + δ_w1*(3*t*w1 + u2*y - w1*z - w2*x) + δ_w2*(3*t*w2 - u1*y - w1*x + w2*z)],\n",
       "[  2*t*x*δ_t + 2*x*y*δ_y + 2*x*z*δ_z + δ_u1*(t*u2 - 3*u1*x + u2*z + w1*y) + δ_u2*(t*u1 - u1*z - 3*u2*x - w2*y) + δ_w1*(t*w2 - u1*y - 3*w1*x + w2*z) + δ_w2*(t*w1 + u2*y - w1*z - 3*w2*x) + δ_x*(t**2 + x**2 - y**2 - z**2)],\n",
       "[2*t*y*δ_t + 2*x*y*δ_x + 2*y*z*δ_z + δ_u1*(t*w2 - 3*u1*y - w1*x + w2*z) + δ_u2*(-t*w1 - 3*u2*y + w1*z + w2*x) + δ_w1*(-t*u2 + u1*x - u2*z - 3*w1*y) + δ_w2*(t*u1 - u1*z - u2*x - 3*w2*y) + δ_y*(t**2 - x**2 + y**2 - z**2)],\n",
       "[2*t*z*δ_t + 2*x*z*δ_x + 2*y*z*δ_y + δ_u1*(t*u1 - 3*u1*z - u2*x - w2*y) + δ_u2*(-t*u2 + u1*x - 3*u2*z - w1*y) + δ_w1*(t*w1 + u2*y - 3*w1*z - w2*x) + δ_w2*(-t*w2 + u1*y + w1*x - 3*w2*z) + δ_z*(t**2 - x**2 - y**2 + z**2)]])"
      ]
     },
     "metadata": {},
     "execution_count": 573
    }
   ],
   "metadata": {}
  },
  {
   "cell_type": "code",
   "execution_count": 479,
   "source": [
    "#[D, M]\n",
    "l4 = []\n",
    "v0 = D\n",
    "for i in range(0, 4):\n",
    "    for j in range(0,4):\n",
    "        v1 = M[i, j]\n",
    "        temp = sp.expand(lie_alg_t(v0, v1, der, dic_der) - lie_alg_t(v1, v0, der, dic_der))\n",
    "        l4.append(temp.collect(der))\n",
    "sp.Matrix(l4).reshape(4, 4)\n",
    "#0 basically"
   ],
   "outputs": [
    {
     "output_type": "execute_result",
     "data": {
      "text/latex": [
       "$\\displaystyle \\left[\\begin{matrix}0 & 0 & 0 & 0\\\\0 & 0 & 0 & 0\\\\0 & 0 & 0 & 0\\\\0 & 0 & 0 & 0\\end{matrix}\\right]$"
      ],
      "text/plain": [
       "Matrix([\n",
       "[0, 0, 0, 0],\n",
       "[0, 0, 0, 0],\n",
       "[0, 0, 0, 0],\n",
       "[0, 0, 0, 0]])"
      ]
     },
     "metadata": {},
     "execution_count": 479
    }
   ],
   "metadata": {}
  },
  {
   "cell_type": "code",
   "execution_count": 572,
   "source": [
    "#[P, D] commutator\n",
    "l1 = []\n",
    "for i in range(0, 4):\n",
    "    v0 = P[i]\n",
    "    v1 = D\n",
    "    temp = sp.expand(lie_alg_t(v0, v1, der, dic_der) - lie_alg_t(v1, v0, der, dic_der))\n",
    "    l1.append(temp.collect(der))\n",
    "sp.Matrix(l1)"
   ],
   "outputs": [
    {
     "output_type": "execute_result",
     "data": {
      "text/latex": [
       "$\\displaystyle \\left[\\begin{matrix}δ_{t}\\\\δ_{x}\\\\δ_{y}\\\\δ_{z}\\end{matrix}\\right]$"
      ],
      "text/plain": [
       "Matrix([\n",
       "[δ_t],\n",
       "[δ_x],\n",
       "[δ_y],\n",
       "[δ_z]])"
      ]
     },
     "metadata": {},
     "execution_count": 572
    }
   ],
   "metadata": {}
  },
  {
   "cell_type": "code",
   "execution_count": 481,
   "source": [
    "#[P, M]\n",
    "l2 = []\n",
    "for i in range(0,4):\n",
    "    v0 = P[i]\n",
    "    l2.append([])\n",
    "    for j in range(0,4):\n",
    "        for k in range(0, 4):\n",
    "            v1 = M[j, k]\n",
    "            temp = sp.expand(lie_alg_t(v0, v1, der, dic_der) - lie_alg_t(v1, v0, der, dic_der))\n",
    "            l2[i].append(temp.collect(der))\n"
   ],
   "outputs": [],
   "metadata": {}
  },
  {
   "cell_type": "code",
   "execution_count": 482,
   "source": [
    "sp.Matrix(l2[0]).reshape(4, 4)"
   ],
   "outputs": [
    {
     "output_type": "execute_result",
     "data": {
      "text/latex": [
       "$\\displaystyle \\left[\\begin{matrix}0 & δ_{x} & δ_{y} & δ_{z}\\\\- δ_{x} & 0 & 0 & 0\\\\- δ_{y} & 0 & 0 & 0\\\\- δ_{z} & 0 & 0 & 0\\end{matrix}\\right]$"
      ],
      "text/plain": [
       "Matrix([\n",
       "[   0, δ_x, δ_y, δ_z],\n",
       "[-δ_x,   0,   0,   0],\n",
       "[-δ_y,   0,   0,   0],\n",
       "[-δ_z,   0,   0,   0]])"
      ]
     },
     "metadata": {},
     "execution_count": 482
    }
   ],
   "metadata": {}
  },
  {
   "cell_type": "code",
   "execution_count": 483,
   "source": [
    "sp.Matrix(l2[1]).reshape(4, 4)\n"
   ],
   "outputs": [
    {
     "output_type": "execute_result",
     "data": {
      "text/latex": [
       "$\\displaystyle \\left[\\begin{matrix}0 & δ_{t} & 0 & 0\\\\- δ_{t} & 0 & - δ_{y} & - δ_{z}\\\\0 & δ_{y} & 0 & 0\\\\0 & δ_{z} & 0 & 0\\end{matrix}\\right]$"
      ],
      "text/plain": [
       "Matrix([\n",
       "[   0, δ_t,    0,    0],\n",
       "[-δ_t,   0, -δ_y, -δ_z],\n",
       "[   0, δ_y,    0,    0],\n",
       "[   0, δ_z,    0,    0]])"
      ]
     },
     "metadata": {},
     "execution_count": 483
    }
   ],
   "metadata": {}
  },
  {
   "cell_type": "code",
   "execution_count": 484,
   "source": [
    "sp.Matrix(l2[2]).reshape(4, 4)\n"
   ],
   "outputs": [
    {
     "output_type": "execute_result",
     "data": {
      "text/latex": [
       "$\\displaystyle \\left[\\begin{matrix}0 & 0 & δ_{t} & 0\\\\0 & 0 & δ_{x} & 0\\\\- δ_{t} & - δ_{x} & 0 & - δ_{z}\\\\0 & 0 & δ_{z} & 0\\end{matrix}\\right]$"
      ],
      "text/plain": [
       "Matrix([\n",
       "[   0,    0, δ_t,    0],\n",
       "[   0,    0, δ_x,    0],\n",
       "[-δ_t, -δ_x,   0, -δ_z],\n",
       "[   0,    0, δ_z,    0]])"
      ]
     },
     "metadata": {},
     "execution_count": 484
    }
   ],
   "metadata": {}
  },
  {
   "cell_type": "code",
   "execution_count": 485,
   "source": [
    "sp.Matrix(l2[3]).reshape(4, 4)"
   ],
   "outputs": [
    {
     "output_type": "execute_result",
     "data": {
      "text/latex": [
       "$\\displaystyle \\left[\\begin{matrix}0 & 0 & 0 & δ_{t}\\\\0 & 0 & 0 & δ_{x}\\\\0 & 0 & 0 & δ_{y}\\\\- δ_{t} & - δ_{x} & - δ_{y} & 0\\end{matrix}\\right]$"
      ],
      "text/plain": [
       "Matrix([\n",
       "[   0,    0,    0, δ_t],\n",
       "[   0,    0,    0, δ_x],\n",
       "[   0,    0,    0, δ_y],\n",
       "[-δ_t, -δ_x, -δ_y,   0]])"
      ]
     },
     "metadata": {},
     "execution_count": 485
    }
   ],
   "metadata": {}
  },
  {
   "cell_type": "code",
   "execution_count": 486,
   "source": [
    "D"
   ],
   "outputs": [
    {
     "output_type": "execute_result",
     "data": {
      "text/latex": [
       "$\\displaystyle t δ_{t} - \\frac{3 u_{1} δ_{u1}}{2} - \\frac{3 u_{2} δ_{u2}}{2} - \\frac{3 w_{1} δ_{w1}}{2} - \\frac{3 w_{2} δ_{w2}}{2} + x δ_{x} + y δ_{y} + z δ_{z}$"
      ],
      "text/plain": [
       "t*δ_t - 3*u1*δ_u1/2 - 3*u2*δ_u2/2 - 3*w1*δ_w1/2 - 3*w2*δ_w2/2 + x*δ_x + y*δ_y + z*δ_z"
      ]
     },
     "metadata": {},
     "execution_count": 486
    }
   ],
   "metadata": {}
  },
  {
   "cell_type": "code",
   "execution_count": 579,
   "source": [
    "#[K, P]\n",
    "l3 = []\n",
    "for i in range(0, 4):\n",
    "    v0 = K[i]\n",
    "    for j in range(0, 4):\n",
    "        v1 = P[j]\n",
    "        temp = sp.expand(lie_alg_t(v0, v1, der, dic_der)) - sp.expand(lie_alg_t(v1, v0, der, dic_der))\n",
    "        l3.append(temp.collect(der))\n",
    "sp.Matrix(l3).reshape(4, 4)"
   ],
   "outputs": [
    {
     "output_type": "execute_result",
     "data": {
      "text/latex": [
       "$\\displaystyle \\left[\\begin{matrix}2 t δ_{t} - 3 u_{1} δ_{u1} - 3 u_{2} δ_{u2} - 3 w_{1} δ_{w1} - 3 w_{2} δ_{w2} + 2 x δ_{x} + 2 y δ_{y} + 2 z δ_{z} & 2 t δ_{x} + u_{1} δ_{u2} + u_{2} δ_{u1} + w_{1} δ_{w2} + w_{2} δ_{w1} + 2 x δ_{t} & 2 t δ_{y} + u_{1} δ_{w2} - u_{2} δ_{w1} - w_{1} δ_{u2} + w_{2} δ_{u1} + 2 y δ_{t} & 2 t δ_{z} + u_{1} δ_{u1} - u_{2} δ_{u2} + w_{1} δ_{w1} - w_{2} δ_{w2} + 2 z δ_{t}\\\\- 2 t δ_{x} - u_{1} δ_{u2} - u_{2} δ_{u1} - w_{1} δ_{w2} - w_{2} δ_{w1} - 2 x δ_{t} & - 2 t δ_{t} + 3 u_{1} δ_{u1} + 3 u_{2} δ_{u2} + 3 w_{1} δ_{w1} + 3 w_{2} δ_{w2} - 2 x δ_{x} - 2 y δ_{y} - 2 z δ_{z} & u_{1} δ_{w1} - u_{2} δ_{w2} - w_{1} δ_{u1} + w_{2} δ_{u2} - 2 x δ_{y} + 2 y δ_{x} & u_{1} δ_{u2} - u_{2} δ_{u1} + w_{1} δ_{w2} - w_{2} δ_{w1} - 2 x δ_{z} + 2 z δ_{x}\\\\- 2 t δ_{y} - u_{1} δ_{w2} + u_{2} δ_{w1} + w_{1} δ_{u2} - w_{2} δ_{u1} - 2 y δ_{t} & - u_{1} δ_{w1} + u_{2} δ_{w2} + w_{1} δ_{u1} - w_{2} δ_{u2} + 2 x δ_{y} - 2 y δ_{x} & - 2 t δ_{t} + 3 u_{1} δ_{u1} + 3 u_{2} δ_{u2} + 3 w_{1} δ_{w1} + 3 w_{2} δ_{w2} - 2 x δ_{x} - 2 y δ_{y} - 2 z δ_{z} & u_{1} δ_{w2} + u_{2} δ_{w1} - w_{1} δ_{u2} - w_{2} δ_{u1} - 2 y δ_{z} + 2 z δ_{y}\\\\- 2 t δ_{z} - u_{1} δ_{u1} + u_{2} δ_{u2} - w_{1} δ_{w1} + w_{2} δ_{w2} - 2 z δ_{t} & - u_{1} δ_{u2} + u_{2} δ_{u1} - w_{1} δ_{w2} + w_{2} δ_{w1} + 2 x δ_{z} - 2 z δ_{x} & - u_{1} δ_{w2} - u_{2} δ_{w1} + w_{1} δ_{u2} + w_{2} δ_{u1} + 2 y δ_{z} - 2 z δ_{y} & - 2 t δ_{t} + 3 u_{1} δ_{u1} + 3 u_{2} δ_{u2} + 3 w_{1} δ_{w1} + 3 w_{2} δ_{w2} - 2 x δ_{x} - 2 y δ_{y} - 2 z δ_{z}\\end{matrix}\\right]$"
      ],
      "text/plain": [
       "Matrix([\n",
       "[2*t*δ_t - 3*u1*δ_u1 - 3*u2*δ_u2 - 3*w1*δ_w1 - 3*w2*δ_w2 + 2*x*δ_x + 2*y*δ_y + 2*z*δ_z,                              2*t*δ_x + u1*δ_u2 + u2*δ_u1 + w1*δ_w2 + w2*δ_w1 + 2*x*δ_t,                              2*t*δ_y + u1*δ_w2 - u2*δ_w1 - w1*δ_u2 + w2*δ_u1 + 2*y*δ_t,                              2*t*δ_z + u1*δ_u1 - u2*δ_u2 + w1*δ_w1 - w2*δ_w2 + 2*z*δ_t],\n",
       "[                           -2*t*δ_x - u1*δ_u2 - u2*δ_u1 - w1*δ_w2 - w2*δ_w1 - 2*x*δ_t, -2*t*δ_t + 3*u1*δ_u1 + 3*u2*δ_u2 + 3*w1*δ_w1 + 3*w2*δ_w2 - 2*x*δ_x - 2*y*δ_y - 2*z*δ_z,                              u1*δ_w1 - u2*δ_w2 - w1*δ_u1 + w2*δ_u2 - 2*x*δ_y + 2*y*δ_x,                              u1*δ_u2 - u2*δ_u1 + w1*δ_w2 - w2*δ_w1 - 2*x*δ_z + 2*z*δ_x],\n",
       "[                           -2*t*δ_y - u1*δ_w2 + u2*δ_w1 + w1*δ_u2 - w2*δ_u1 - 2*y*δ_t,                             -u1*δ_w1 + u2*δ_w2 + w1*δ_u1 - w2*δ_u2 + 2*x*δ_y - 2*y*δ_x, -2*t*δ_t + 3*u1*δ_u1 + 3*u2*δ_u2 + 3*w1*δ_w1 + 3*w2*δ_w2 - 2*x*δ_x - 2*y*δ_y - 2*z*δ_z,                              u1*δ_w2 + u2*δ_w1 - w1*δ_u2 - w2*δ_u1 - 2*y*δ_z + 2*z*δ_y],\n",
       "[                           -2*t*δ_z - u1*δ_u1 + u2*δ_u2 - w1*δ_w1 + w2*δ_w2 - 2*z*δ_t,                             -u1*δ_u2 + u2*δ_u1 - w1*δ_w2 + w2*δ_w1 + 2*x*δ_z - 2*z*δ_x,                             -u1*δ_w2 - u2*δ_w1 + w1*δ_u2 + w2*δ_u1 + 2*y*δ_z - 2*z*δ_y, -2*t*δ_t + 3*u1*δ_u1 + 3*u2*δ_u2 + 3*w1*δ_w1 + 3*w2*δ_w2 - 2*x*δ_x - 2*y*δ_y - 2*z*δ_z]])"
      ]
     },
     "metadata": {},
     "execution_count": 579
    }
   ],
   "metadata": {}
  },
  {
   "cell_type": "code",
   "execution_count": 580,
   "source": [
    "M"
   ],
   "outputs": [
    {
     "output_type": "execute_result",
     "data": {
      "text/latex": [
       "$\\displaystyle \\left[\\begin{matrix}0 & t δ_{x} + \\frac{u_{1} δ_{u2}}{2} + \\frac{u_{2} δ_{u1}}{2} + \\frac{w_{1} δ_{w2}}{2} + \\frac{w_{2} δ_{w1}}{2} + x δ_{t} & t δ_{y} + \\frac{u_{1} δ_{w2}}{2} - \\frac{u_{2} δ_{w1}}{2} - \\frac{w_{1} δ_{u2}}{2} + \\frac{w_{2} δ_{u1}}{2} + y δ_{t} & t δ_{z} + \\frac{u_{1} δ_{u1}}{2} - \\frac{u_{2} δ_{u2}}{2} + \\frac{w_{1} δ_{w1}}{2} - \\frac{w_{2} δ_{w2}}{2} + z δ_{t}\\\\- t δ_{x} - \\frac{u_{1} δ_{u2}}{2} - \\frac{u_{2} δ_{u1}}{2} - \\frac{w_{1} δ_{w2}}{2} - \\frac{w_{2} δ_{w1}}{2} - x δ_{t} & 0 & \\frac{u_{1} δ_{w1}}{2} - \\frac{u_{2} δ_{w2}}{2} - \\frac{w_{1} δ_{u1}}{2} + \\frac{w_{2} δ_{u2}}{2} - x δ_{y} + y δ_{x} & \\frac{u_{1} δ_{u2}}{2} - \\frac{u_{2} δ_{u1}}{2} + \\frac{w_{1} δ_{w2}}{2} - \\frac{w_{2} δ_{w1}}{2} - x δ_{z} + z δ_{x}\\\\- t δ_{y} - \\frac{u_{1} δ_{w2}}{2} + \\frac{u_{2} δ_{w1}}{2} + \\frac{w_{1} δ_{u2}}{2} - \\frac{w_{2} δ_{u1}}{2} - y δ_{t} & - \\frac{u_{1} δ_{w1}}{2} + \\frac{u_{2} δ_{w2}}{2} + \\frac{w_{1} δ_{u1}}{2} - \\frac{w_{2} δ_{u2}}{2} + x δ_{y} - y δ_{x} & 0 & \\frac{u_{1} δ_{w2}}{2} + \\frac{u_{2} δ_{w1}}{2} - \\frac{w_{1} δ_{u2}}{2} - \\frac{w_{2} δ_{u1}}{2} - y δ_{z} + z δ_{y}\\\\- t δ_{z} - \\frac{u_{1} δ_{u1}}{2} + \\frac{u_{2} δ_{u2}}{2} - \\frac{w_{1} δ_{w1}}{2} + \\frac{w_{2} δ_{w2}}{2} - z δ_{t} & - \\frac{u_{1} δ_{u2}}{2} + \\frac{u_{2} δ_{u1}}{2} - \\frac{w_{1} δ_{w2}}{2} + \\frac{w_{2} δ_{w1}}{2} + x δ_{z} - z δ_{x} & - \\frac{u_{1} δ_{w2}}{2} - \\frac{u_{2} δ_{w1}}{2} + \\frac{w_{1} δ_{u2}}{2} + \\frac{w_{2} δ_{u1}}{2} + y δ_{z} - z δ_{y} & 0\\end{matrix}\\right]$"
      ],
      "text/plain": [
       "Matrix([\n",
       "[                                                             0,  t*δ_x + u1*δ_u2/2 + u2*δ_u1/2 + w1*δ_w2/2 + w2*δ_w1/2 + x*δ_t,  t*δ_y + u1*δ_w2/2 - u2*δ_w1/2 - w1*δ_u2/2 + w2*δ_u1/2 + y*δ_t, t*δ_z + u1*δ_u1/2 - u2*δ_u2/2 + w1*δ_w1/2 - w2*δ_w2/2 + z*δ_t],\n",
       "[-t*δ_x - u1*δ_u2/2 - u2*δ_u1/2 - w1*δ_w2/2 - w2*δ_w1/2 - x*δ_t,                                                              0,  u1*δ_w1/2 - u2*δ_w2/2 - w1*δ_u1/2 + w2*δ_u2/2 - x*δ_y + y*δ_x, u1*δ_u2/2 - u2*δ_u1/2 + w1*δ_w2/2 - w2*δ_w1/2 - x*δ_z + z*δ_x],\n",
       "[-t*δ_y - u1*δ_w2/2 + u2*δ_w1/2 + w1*δ_u2/2 - w2*δ_u1/2 - y*δ_t, -u1*δ_w1/2 + u2*δ_w2/2 + w1*δ_u1/2 - w2*δ_u2/2 + x*δ_y - y*δ_x,                                                              0, u1*δ_w2/2 + u2*δ_w1/2 - w1*δ_u2/2 - w2*δ_u1/2 - y*δ_z + z*δ_y],\n",
       "[-t*δ_z - u1*δ_u1/2 + u2*δ_u2/2 - w1*δ_w1/2 + w2*δ_w2/2 - z*δ_t, -u1*δ_u2/2 + u2*δ_u1/2 - w1*δ_w2/2 + w2*δ_w1/2 + x*δ_z - z*δ_x, -u1*δ_w2/2 - u2*δ_w1/2 + w1*δ_u2/2 + w2*δ_u1/2 + y*δ_z - z*δ_y,                                                             0]])"
      ]
     },
     "metadata": {},
     "execution_count": 580
    }
   ],
   "metadata": {}
  },
  {
   "cell_type": "code",
   "execution_count": 488,
   "source": [
    "l_t = []\n",
    "for i in range(0, 4):\n",
    "    v0 = K[i]\n",
    "    for j in range(0,4):\n",
    "        v1 = K[j]\n",
    "        temp = sp.expand(lie_alg_t(v0, v1, der, dic_der) - lie_alg_t(v1, v0, der, dic_der))\n",
    "        l_t.append(temp.collect(der))\n",
    "sp.Matrix(l_t).reshape(4, 4)"
   ],
   "outputs": [
    {
     "output_type": "execute_result",
     "data": {
      "text/latex": [
       "$\\displaystyle \\left[\\begin{matrix}0 & 0 & 0 & 0\\\\0 & 0 & 0 & 0\\\\0 & 0 & 0 & 0\\\\0 & 0 & 0 & 0\\end{matrix}\\right]$"
      ],
      "text/plain": [
       "Matrix([\n",
       "[0, 0, 0, 0],\n",
       "[0, 0, 0, 0],\n",
       "[0, 0, 0, 0],\n",
       "[0, 0, 0, 0]])"
      ]
     },
     "metadata": {},
     "execution_count": 488
    }
   ],
   "metadata": {}
  }
 ]
}